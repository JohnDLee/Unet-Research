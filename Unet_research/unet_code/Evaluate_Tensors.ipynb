{
 "cells": [
  {
   "cell_type": "code",
   "execution_count": 1,
   "metadata": {},
   "outputs": [],
   "source": [
    "import sys\n",
    "import os\n",
    "from os.path import join\n",
    "import torch\n",
    "import matplotlib.pyplot as plt\n",
    "import numpy as np\n",
    "from PIL import Image\n",
    "from ipywidgets import interact_manual,interact, fixed\n",
    "import math\n"
   ]
  },
  {
   "cell_type": "markdown",
   "metadata": {},
   "source": [
    "# Preliminary Uncertainty Tests"
   ]
  },
  {
   "cell_type": "markdown",
   "metadata": {},
   "source": [
    "Functions"
   ]
  },
  {
   "cell_type": "code",
   "execution_count": 2,
   "metadata": {},
   "outputs": [],
   "source": [
    "def extract_tensors(path, tensor_name):\n",
    "    '''extracts tensors from path (as created when any uncertainty test is ran'''\n",
    "    # get only the correct folders\n",
    "    folders = []\n",
    "    for sub_path in os.listdir(path):\n",
    "        if sub_path.startswith('image'):\n",
    "            folders.append( sub_path)\n",
    "    \n",
    "    # extract tensors\n",
    "    all_images = {}\n",
    "    for im_folder in folders:\n",
    "        im_path = join(path, im_folder)\n",
    "        # save the tensors in their own dict according to name before\n",
    "        for tensor in os.listdir(im_path):\n",
    "            if tensor == tensor_name:\n",
    "                tensor_path = join(im_path, tensor)\n",
    "                all_images[int(im_folder.split('_')[-1])] = torch.load(tensor_path, map_location = 'cpu')\n",
    "    return all_images\n"
   ]
  },
  {
   "cell_type": "code",
   "execution_count": 3,
   "metadata": {},
   "outputs": [],
   "source": [
    "def display_tensor(tensor_dict:dict, im_dict:dict, target_dict:dict, im_num: int = 0 , vmin:float = 0, vmax: float = 1):\n",
    "    fig, ax = plt.subplots(1,3, figsize = (18, 12))\n",
    "    im1 = ax[0].imshow(im_dict[im_num], cmap = 'gray',)\n",
    "    im2 = ax[1].imshow(tensor_dict[im_num][0][0].numpy(), cmap = 'gray', vmin = vmin, vmax = vmax)\n",
    "    im3 = ax[2].imshow(target_dict[im_num], cmap = 'gray', )\n",
    "    ax[0].set_title('Orig')\n",
    "    ax[1].set_title('Expected')\n",
    "    ax[2].set_title('GT')\n",
    "    fig.show()\n",
    "    print('Min: ' ,torch.min(tensor_dict[im_num][0][0]).item())\n",
    "    print('Max: ' ,torch.max(tensor_dict[im_num][0][0]).item())"
   ]
  },
  {
   "cell_type": "code",
   "execution_count": 4,
   "metadata": {},
   "outputs": [],
   "source": [
    "def compare_tensor(tensor_dict1:dict, tensor_dict2:dict, im_dict:dict, target_dict:dict, im_num: int = 0 , vmin:float = 0, vmax: float = 1):\n",
    "    fig, ax = plt.subplots(1,4, figsize = (30, 28))\n",
    "    im1 = ax[0].imshow(im_dict[im_num], cmap = 'gray',)\n",
    "    im2 = ax[1].imshow(tensor_dict1[im_num][0][0].numpy(), cmap = 'gray', vmin = vmin, vmax = vmax)\n",
    "    im3 = ax[2].imshow(tensor_dict2[im_num][0][0].numpy(), cmap = 'gray', vmin = vmin, vmax = vmax)\n",
    "    im4 = ax[3].imshow(target_dict[im_num], cmap = 'gray', )\n",
    "    ax[0].set_title('Orig')\n",
    "    ax[1].set_title('Independent')\n",
    "    ax[2].set_title('Dependent')\n",
    "    ax[3].set_title('GT')\n",
    "    fig.show()\n",
    "    print(f'Min: I:{torch.min(tensor_dict1[im_num][0][0]).item():7.5f} D: {torch.min(tensor_dict2[im_num][0][0]).item():7.5f}', )\n",
    "    print(f'Min: I:{torch.max(tensor_dict1[im_num][0][0]).item():7.5f} D: {torch.max(tensor_dict2[im_num][0][0]).item():7.5f}', )"
   ]
  },
  {
   "cell_type": "code",
   "execution_count": 5,
   "metadata": {},
   "outputs": [],
   "source": [
    "def pseudo_anim(tensor_dict: dict, val_num: int = 0 , im_num: int = 0 ):\n",
    "    ''' creates an animated gif using images\n",
    "    \n",
    "    output:\n",
    "    creates a gif'''\n",
    "\n",
    "    fig, ax = plt.subplots(1,1, figsize = (8, 8))\n",
    "    ax.imshow(tensor_dict[val_num][im_num][0][0].numpy(), cmap = 'gray', vmin = 0, vmax = 1)\n",
    "    fig.show()\n",
    "    "
   ]
  },
  {
   "cell_type": "code",
   "execution_count": null,
   "metadata": {},
   "outputs": [],
   "source": []
  },
  {
   "cell_type": "markdown",
   "metadata": {},
   "source": [
    "Root Directory - change if different (make sure corresponding internal files are also changed)"
   ]
  },
  {
   "cell_type": "code",
   "execution_count": 6,
   "metadata": {},
   "outputs": [
    {
     "name": "stdout",
     "output_type": "stream",
     "text": [
      "['model_info', 'lightning_logs', 'test_statistics', 'dropblock_uncertainty_i', 'rotational_uncertainty', 'test_statistics_32_32', 'test_statistics_128_128', 'test_statistics_64_64', 'test_statistics_256_256', 'dropblock_uncertainty_d']\n"
     ]
    }
   ],
   "source": [
    "root = '../results/base_model'\n",
    "\n",
    "print(os.listdir(root))"
   ]
  },
  {
   "cell_type": "markdown",
   "metadata": {},
   "source": [
    "Validation Images"
   ]
  },
  {
   "cell_type": "code",
   "execution_count": 7,
   "metadata": {},
   "outputs": [],
   "source": [
    "val_root_images = '../augmented_data/val/images'\n",
    "orig = {}\n",
    "# retrieves validation images as grayscale\n",
    "for im in os.listdir(val_root_images):\n",
    "    orig[int(im.split('_')[0])] = np.array(Image.open(join(val_root_images, im)).convert('L'))\n",
    "\n",
    "val_root_targets = '../augmented_data/val/targets'\n",
    "targets = {}\n",
    "for im in os.listdir(val_root_targets):\n",
    "    targets[int(im.split('_')[0])] = np.array(Image.open(join(val_root_targets, im)).convert('L'))\n"
   ]
  },
  {
   "cell_type": "markdown",
   "metadata": {},
   "source": [
    "# Monte Carlo Dropblock - Dependent Channels"
   ]
  },
  {
   "cell_type": "code",
   "execution_count": 8,
   "metadata": {},
   "outputs": [],
   "source": [
    "DB_d_path = join(root, 'dropblock_uncertainty_d/tensors')\n",
    "\n",
    "DB_d_mean_tensors = extract_tensors(DB_d_path, 'mean.pt')\n",
    "DB_d_tensors = extract_tensors(DB_d_path, 'std.pt')\n",
    "DB_d_extra_tensors = extract_tensors(DB_d_path, 'tensors.pt')"
   ]
  },
  {
   "cell_type": "markdown",
   "metadata": {},
   "source": [
    "Means"
   ]
  },
  {
   "cell_type": "code",
   "execution_count": 9,
   "metadata": {},
   "outputs": [
    {
     "data": {
      "application/vnd.jupyter.widget-view+json": {
       "model_id": "a3f2f0f3c4a249348de6c6cbc5a9f0ce",
       "version_major": 2,
       "version_minor": 0
      },
      "text/plain": [
       "interactive(children=(IntSlider(value=0, description='im_num', max=5), FloatSlider(value=0.0, description='vmi…"
      ]
     },
     "metadata": {},
     "output_type": "display_data"
    }
   ],
   "source": [
    "x = interact(display_tensor,\n",
    "        tensor_dict=fixed(DB_d_mean_tensors),\n",
    "        im_dict = fixed(orig),\n",
    "        target_dict = fixed(targets),\n",
    "        im_num = (0,len(DB_d_mean_tensors) -1),\n",
    "        vmin = (0.0,1.0, .01 ),\n",
    "        vmax = (0.0, 1.0, .01))"
   ]
  },
  {
   "cell_type": "markdown",
   "metadata": {},
   "source": [
    "STD"
   ]
  },
  {
   "cell_type": "code",
   "execution_count": 10,
   "metadata": {},
   "outputs": [
    {
     "data": {
      "application/vnd.jupyter.widget-view+json": {
       "model_id": "abbfa1d5540242e1b7472526234cd026",
       "version_major": 2,
       "version_minor": 0
      },
      "text/plain": [
       "interactive(children=(IntSlider(value=0, description='im_num', max=5), FloatSlider(value=0.0, description='vmi…"
      ]
     },
     "metadata": {},
     "output_type": "display_data"
    }
   ],
   "source": [
    "x = interact(display_tensor,\n",
    "        tensor_dict=fixed(DB_d_tensors),\n",
    "        im_dict = fixed(orig),\n",
    "        target_dict = fixed(targets),\n",
    "        im_num = (0,len(DB_d_tensors) -1),\n",
    "        vmin = (0.0,1.0, .01 ),\n",
    "        vmax = (0.0, 1.0, .01), )"
   ]
  },
  {
   "cell_type": "markdown",
   "metadata": {},
   "source": [
    "View 25 Examples"
   ]
  },
  {
   "cell_type": "code",
   "execution_count": 11,
   "metadata": {},
   "outputs": [
    {
     "data": {
      "application/vnd.jupyter.widget-view+json": {
       "model_id": "02e83692ddfe4dbf8d9440dfa4e04dc5",
       "version_major": 2,
       "version_minor": 0
      },
      "text/plain": [
       "interactive(children=(IntSlider(value=0, description='val_num', max=5), IntSlider(value=0, description='im_num…"
      ]
     },
     "metadata": {},
     "output_type": "display_data"
    }
   ],
   "source": [
    "x = interact(pseudo_anim, \n",
    "                tensor_dict = fixed(DB_d_extra_tensors),\n",
    "                val_num =  (0,len(DB_d_extra_tensors) -1),\n",
    "                im_num = (0, len(DB_d_extra_tensors[0]) -1))"
   ]
  },
  {
   "cell_type": "markdown",
   "metadata": {},
   "source": [
    "# Monte Carlo Dropblock = Independent"
   ]
  },
  {
   "cell_type": "code",
   "execution_count": 12,
   "metadata": {},
   "outputs": [],
   "source": [
    "DB_i_path = join(root, 'dropblock_uncertainty_i/tensors')\n",
    "\n",
    "DB_i_mean_tensors = extract_tensors(DB_i_path, 'mean.pt')\n",
    "DB_i_tensors = extract_tensors(DB_i_path, 'std.pt')\n",
    "DB_i_extra_tensors = extract_tensors(DB_i_path, 'tensors.pt')"
   ]
  },
  {
   "cell_type": "markdown",
   "metadata": {},
   "source": [
    "Mean"
   ]
  },
  {
   "cell_type": "code",
   "execution_count": 13,
   "metadata": {},
   "outputs": [
    {
     "data": {
      "application/vnd.jupyter.widget-view+json": {
       "model_id": "3a8be1e80d524eae8ecae0dd8db1f4f9",
       "version_major": 2,
       "version_minor": 0
      },
      "text/plain": [
       "interactive(children=(IntSlider(value=0, description='im_num', max=5), FloatSlider(value=0.0, description='vmi…"
      ]
     },
     "metadata": {},
     "output_type": "display_data"
    }
   ],
   "source": [
    "x = interact(display_tensor,\n",
    "        tensor_dict=fixed(DB_i_mean_tensors),\n",
    "        im_dict = fixed(orig),\n",
    "        target_dict = fixed(targets),\n",
    "        im_num = (0,len(DB_i_mean_tensors) -1),\n",
    "        vmin = (0.0,1.0, .01 ),\n",
    "        vmax = (0.0, 1.0, .01), )"
   ]
  },
  {
   "cell_type": "markdown",
   "metadata": {},
   "source": [
    "STD"
   ]
  },
  {
   "cell_type": "code",
   "execution_count": 14,
   "metadata": {},
   "outputs": [
    {
     "data": {
      "application/vnd.jupyter.widget-view+json": {
       "model_id": "ceaa4cdb1ea2490c8b0156110fe0597b",
       "version_major": 2,
       "version_minor": 0
      },
      "text/plain": [
       "interactive(children=(IntSlider(value=0, description='im_num', max=5), FloatSlider(value=0.0, description='vmi…"
      ]
     },
     "metadata": {},
     "output_type": "display_data"
    }
   ],
   "source": [
    "x = interact(display_tensor,\n",
    "        tensor_dict=fixed(DB_i_tensors),\n",
    "        im_dict = fixed(orig),\n",
    "        target_dict = fixed(targets),\n",
    "        im_num = (0,len(DB_i_tensors) -1),\n",
    "        vmin = (0.0,1.0, .01 ),\n",
    "        vmax = (0.0, 1.0, .01), )"
   ]
  },
  {
   "cell_type": "markdown",
   "metadata": {},
   "source": [
    "View 25 Tensors"
   ]
  },
  {
   "cell_type": "code",
   "execution_count": 15,
   "metadata": {},
   "outputs": [
    {
     "data": {
      "application/vnd.jupyter.widget-view+json": {
       "model_id": "78b2ab0620024f69b5c9870516a67f87",
       "version_major": 2,
       "version_minor": 0
      },
      "text/plain": [
       "interactive(children=(IntSlider(value=0, description='val_num', max=5), IntSlider(value=0, description='im_num…"
      ]
     },
     "metadata": {},
     "output_type": "display_data"
    },
    {
     "data": {
      "text/plain": [
       "<function __main__.pseudo_anim(tensor_dict: dict, val_num: int = 0, im_num: int = 0)>"
      ]
     },
     "execution_count": 15,
     "metadata": {},
     "output_type": "execute_result"
    }
   ],
   "source": [
    "interact(pseudo_anim, \n",
    "                tensor_dict = fixed(DB_i_extra_tensors),\n",
    "                val_num =  (0,len(DB_i_extra_tensors) -1),\n",
    "                im_num = (0, len(DB_i_extra_tensors[0]) -1))"
   ]
  },
  {
   "cell_type": "markdown",
   "metadata": {},
   "source": [
    "# Independent vs Dependent"
   ]
  },
  {
   "cell_type": "markdown",
   "metadata": {},
   "source": [
    "Mean"
   ]
  },
  {
   "cell_type": "code",
   "execution_count": 16,
   "metadata": {},
   "outputs": [
    {
     "data": {
      "application/vnd.jupyter.widget-view+json": {
       "model_id": "449766a88de04a05949d2c499419a280",
       "version_major": 2,
       "version_minor": 0
      },
      "text/plain": [
       "interactive(children=(IntSlider(value=0, description='im_num', max=5), FloatSlider(value=0.0, description='vmi…"
      ]
     },
     "metadata": {},
     "output_type": "display_data"
    }
   ],
   "source": [
    "x = interact(compare_tensor,\n",
    "        tensor_dict1=fixed(DB_i_mean_tensors),\n",
    "        tensor_dict2=fixed(DB_d_mean_tensors),\n",
    "        im_dict = fixed(orig),\n",
    "        target_dict = fixed(targets),\n",
    "        im_num = (0,len(DB_i_mean_tensors) -1),\n",
    "        vmin = (0.0,1.0, .01 ),\n",
    "        vmax = (0.0, 1.0, .01), )"
   ]
  },
  {
   "cell_type": "markdown",
   "metadata": {},
   "source": [
    "STD"
   ]
  },
  {
   "cell_type": "code",
   "execution_count": 17,
   "metadata": {},
   "outputs": [
    {
     "data": {
      "application/vnd.jupyter.widget-view+json": {
       "model_id": "dddee7113c224a538d5bc6b0006c5e9f",
       "version_major": 2,
       "version_minor": 0
      },
      "text/plain": [
       "interactive(children=(IntSlider(value=0, description='im_num', max=5), FloatSlider(value=0.0, description='vmi…"
      ]
     },
     "metadata": {},
     "output_type": "display_data"
    }
   ],
   "source": [
    "x = interact(compare_tensor,\n",
    "        tensor_dict1=fixed(DB_i_tensors),\n",
    "        tensor_dict2=fixed(DB_d_tensors),\n",
    "        im_dict = fixed(orig),\n",
    "        target_dict = fixed(targets),\n",
    "        im_num = (0,len(DB_i_tensors) -1),\n",
    "        vmin = (0.0,1.0, .01 ),\n",
    "        vmax = (0.0, 1.0, .01), )"
   ]
  },
  {
   "cell_type": "markdown",
   "metadata": {},
   "source": [
    "# Rotational Uncertainty"
   ]
  },
  {
   "cell_type": "code",
   "execution_count": 18,
   "metadata": {},
   "outputs": [],
   "source": [
    "rotation_path = join(root, 'rotational_uncertainty')\n",
    "\n",
    "rotation_mean_tensors = extract_tensors(rotation_path, 'mean.pt')\n",
    "rotation_tensors = extract_tensors(rotation_path, 'std.pt')\n",
    "rotation_extra_tensors = extract_tensors(rotation_path, 'tensors.pt')"
   ]
  },
  {
   "cell_type": "code",
   "execution_count": 19,
   "metadata": {},
   "outputs": [
    {
     "data": {
      "text/plain": [
       "torch.Size([1, 1, 584, 565])"
      ]
     },
     "execution_count": 19,
     "metadata": {},
     "output_type": "execute_result"
    }
   ],
   "source": [
    "rotation_mean_tensors[0].shape"
   ]
  },
  {
   "cell_type": "markdown",
   "metadata": {},
   "source": [
    "Mean"
   ]
  },
  {
   "cell_type": "code",
   "execution_count": 20,
   "metadata": {},
   "outputs": [
    {
     "data": {
      "application/vnd.jupyter.widget-view+json": {
       "model_id": "a34c82a038b74abf90b3a76f25a006d3",
       "version_major": 2,
       "version_minor": 0
      },
      "text/plain": [
       "interactive(children=(IntSlider(value=0, description='im_num', max=5), FloatSlider(value=0.0, description='vmi…"
      ]
     },
     "metadata": {},
     "output_type": "display_data"
    }
   ],
   "source": [
    "x = interact(display_tensor,\n",
    "        tensor_dict=fixed(rotation_mean_tensors),\n",
    "        im_dict = fixed(orig),\n",
    "        target_dict = fixed(targets),\n",
    "        im_num = (0,len(rotation_mean_tensors) -1),\n",
    "        vmin = (0.0,1.0, .01 ),\n",
    "        vmax = (0.0, 1.0, .01), )"
   ]
  },
  {
   "cell_type": "markdown",
   "metadata": {},
   "source": [
    "STD"
   ]
  },
  {
   "cell_type": "code",
   "execution_count": 21,
   "metadata": {},
   "outputs": [
    {
     "data": {
      "application/vnd.jupyter.widget-view+json": {
       "model_id": "fd9d44a560c8474583733fcf8ab96c3e",
       "version_major": 2,
       "version_minor": 0
      },
      "text/plain": [
       "interactive(children=(IntSlider(value=0, description='im_num', max=5), FloatSlider(value=0.0, description='vmi…"
      ]
     },
     "metadata": {},
     "output_type": "display_data"
    }
   ],
   "source": [
    "x = interact(display_tensor,\n",
    "        tensor_dict=fixed(rotation_tensors),\n",
    "        im_dict = fixed(orig),\n",
    "        target_dict = fixed(targets),\n",
    "        im_num = (0,len(rotation_tensors) -1),\n",
    "        vmin = (0.0,1.0, .01 ),\n",
    "        vmax = (0.0, 1.0, .01), )"
   ]
  },
  {
   "cell_type": "markdown",
   "metadata": {},
   "source": [
    "View 25 Images"
   ]
  },
  {
   "cell_type": "code",
   "execution_count": 22,
   "metadata": {},
   "outputs": [
    {
     "data": {
      "application/vnd.jupyter.widget-view+json": {
       "model_id": "f8c8051ca58f4645a0a55fbd62cc6083",
       "version_major": 2,
       "version_minor": 0
      },
      "text/plain": [
       "interactive(children=(IntSlider(value=0, description='val_num', max=5), IntSlider(value=0, description='im_num…"
      ]
     },
     "metadata": {},
     "output_type": "display_data"
    }
   ],
   "source": [
    "x = interact(pseudo_anim, \n",
    "                tensor_dict = fixed(rotation_extra_tensors),\n",
    "                val_num =  (0,len(rotation_extra_tensors) -1),\n",
    "                im_num = (0, len(rotation_extra_tensors[0]) -1))"
   ]
  },
  {
   "cell_type": "code",
   "execution_count": null,
   "metadata": {},
   "outputs": [],
   "source": []
  },
  {
   "cell_type": "code",
   "execution_count": null,
   "metadata": {},
   "outputs": [],
   "source": []
  },
  {
   "cell_type": "code",
   "execution_count": null,
   "metadata": {},
   "outputs": [],
   "source": []
  },
  {
   "cell_type": "markdown",
   "metadata": {},
   "source": [
    "# Testing Function"
   ]
  },
  {
   "cell_type": "code",
   "execution_count": 23,
   "metadata": {},
   "outputs": [],
   "source": [
    "\n",
    "def visualize_magnitudes(\n",
    "                tensor_dicts,\n",
    "                im_dict,\n",
    "                target_dict,\n",
    "                im_num = 0,\n",
    "                vmin = 0,\n",
    "                vmax = 1):\n",
    "        arr = len(tensor_dicts) + 2\n",
    "\n",
    "        cols = 4\n",
    "        rows = math.ceil(arr / 4)\n",
    "\n",
    "        fig, axes = plt.subplots(rows, cols, figsize = (8 * cols, 8*rows))\n",
    "\n",
    "        axes = axes.flatten()\n",
    "\n",
    "        axes[0].imshow(im_dict[im_num], cmap = 'gray',)\n",
    "        axes[0].set_title('Input Image')\n",
    "        for model_id, (model_name, model_dict) in enumerate(tensor_dicts.items()):\n",
    "                model_id = model_id + 1\n",
    "                axes[model_id].imshow(model_dict[im_num][0][0].numpy(), cmap = 'gray', vmin = vmin, vmax = vmax)\n",
    "                axes[model_id].set_title(model_name)\n",
    "        axes[-1].imshow(target_dict[im_num], cmap = 'gray',)\n",
    "        axes[-1].set_title('GT Image')\n",
    "        \n",
    "        fig.show()"
   ]
  },
  {
   "cell_type": "code",
   "execution_count": 24,
   "metadata": {},
   "outputs": [],
   "source": [
    "def calculate_magnitudes(std_dicts, mean_dicts):\n",
    "\n",
    "        cols = ['model_name', 'im_num', 'min', 'max','mean', 'std',  'mean_thresholded_0.01', 'std_thresholded_0.01','mean_thresholded_0.001','std_thresholded_0.001','mean_thresholded_0','std_thresholded_0',]\n",
    "        data = dict(zip(cols, [[] for i in range(len(cols))]))\n",
    "        data2 = dict(zip(cols, [[] for i in range(len(cols))]))\n",
    "\n",
    "        for model_id, (model_name, model_dict) in enumerate(std_dicts.items()):\n",
    "                for im_num in model_dict:\n",
    "                        \n",
    "                        std_data = model_dict[im_num][0][0].flatten()\n",
    "                        data['model_name'].append(model_name)\n",
    "                        data['im_num'].append(im_num)\n",
    "                        data['min'].append(torch.min(std_data).item())\n",
    "                        data['max'].append(torch.max(std_data).item())\n",
    "                        data['mean'].append(torch.mean(std_data).item())\n",
    "                        data['std'].append(torch.std(std_data).item())\n",
    "                        data['mean_thresholded_0.01'].append(torch.mean(std_data[std_data > 0.01]).item())\n",
    "                        data['std_thresholded_0.01'].append(torch.std(std_data[std_data > 0.01]).item())\n",
    "                        data['mean_thresholded_0.001'].append(torch.mean(std_data[std_data > 0.001]).item())\n",
    "                        data['std_thresholded_0.001'].append(torch.std(std_data[std_data > 0.001]).item())\n",
    "                        data['mean_thresholded_0'].append(torch.mean(std_data[std_data > 0]).item())\n",
    "                        data['std_thresholded_0'].append(torch.std(std_data[std_data > 0]).item())\n",
    "\n",
    "        for model_id, (model_name, model_dict) in enumerate(mean_dicts.items()):\n",
    "                for im_num in model_dict:\n",
    "                        mean_data = model_dict[im_num][0][0].flatten()\n",
    "                        data2['model_name'].append(model_name)\n",
    "                        data2['im_num'].append(im_num)\n",
    "                        data2['min'].append(torch.min(mean_data).item())\n",
    "                        data2['max'].append(torch.max(mean_data).item())\n",
    "                        data2['mean'].append(torch.mean(mean_data).item())\n",
    "                        data2['std'].append(torch.std(mean_data).item())\n",
    "                        data2['mean_thresholded_0.01'].append(torch.mean(mean_data[mean_data > 0.01]).item())\n",
    "                        data2['std_thresholded_0.01'].append(torch.std(mean_data[mean_data > 0.01]).item())\n",
    "                        data2['mean_thresholded_0.001'].append(torch.mean(mean_data[mean_data > 0.001]).item())\n",
    "                        data2['std_thresholded_0.001'].append(torch.std(mean_data[mean_data > 0.001]).item())\n",
    "                        data2['mean_thresholded_0'].append(torch.mean(mean_data[mean_data > 0]).item())\n",
    "                        data2['std_thresholded_0'].append(torch.std(mean_data[mean_data > 0]).item())\n",
    "        \n",
    "        return pd.DataFrame(data, columns = cols), pd.DataFrame(data2, columns = cols)"
   ]
  },
  {
   "cell_type": "code",
   "execution_count": 25,
   "metadata": {},
   "outputs": [],
   "source": [
    "def display_std_hist(std_dict, key = 'base_model', im_num = 0, threshold = .01):\n",
    "    data = std_dict[key][im_num].flatten()\n",
    "    data = data[data > threshold]\n",
    "    print(\"Data size:\", len(data))\n",
    "    plt.hist(data)"
   ]
  },
  {
   "cell_type": "code",
   "execution_count": 26,
   "metadata": {},
   "outputs": [],
   "source": [
    "def add_data(path, name, df):\n",
    "    temp = pd.read_csv(path, index_col = 0)\n",
    "    temp['name'] = name\n",
    "    return pd.concat([df, temp])"
   ]
  },
  {
   "cell_type": "markdown",
   "metadata": {},
   "source": [
    "# Test 1 - equivalent data, rf trained with no knowledge of higher fidelity"
   ]
  },
  {
   "cell_type": "code",
   "execution_count": 27,
   "metadata": {},
   "outputs": [],
   "source": [
    "import pandas as pd"
   ]
  },
  {
   "cell_type": "markdown",
   "metadata": {},
   "source": []
  },
  {
   "cell_type": "code",
   "execution_count": 28,
   "metadata": {},
   "outputs": [],
   "source": [
    "all_data = pd.DataFrame()\n",
    "mean_db_tensors = {}\n",
    "std_db_tensors = {}\n",
    "mean_rot_tensors = {}\n",
    "std_rot_tensors = {}\n"
   ]
  },
  {
   "cell_type": "code",
   "execution_count": 21,
   "metadata": {},
   "outputs": [],
   "source": []
  },
  {
   "cell_type": "code",
   "execution_count": 29,
   "metadata": {},
   "outputs": [],
   "source": [
    "drive_root = 'DRIVE/'\n",
    "#models\n",
    "for model_id in 'BM-1 BM-2 BM-3 MF-1 MF-2 LF-1 LF-2 LF-3 LF-4 LF-5 LF-6'.split():\n",
    "    path = join(drive_root, model_id)\n",
    "    # reg\n",
    "    all_data = add_data(join(path, 'statistics/val_images/metrics.csv'), name = model_id, df =  all_data)\n",
    "    # db\n",
    "    all_data = add_data(join(path, 'dropblock_uncertainty/statistics/val_images/metrics.csv'), name = 'base_model_db', df = all_data)\n",
    "    mean_db_tensors[model_id] = extract_tensors(join(path, 'dropblock_uncertainty/tensors'), 'mean.pt')\n",
    "    std_db_tensors[model_id] = extract_tensors(join(path, 'dropblock_uncertainty/tensors'), 'std.pt')\n",
    "    mean_rot_tensors[model_id] = extract_tensors(join(path, 'rotational_uncertainty'), 'mean.pt')\n",
    "    std_rot_tensors[model_id] = extract_tensors(join(path, 'rotational_uncertainty'), 'std.pt')"
   ]
  },
  {
   "cell_type": "code",
   "execution_count": 32,
   "metadata": {},
   "outputs": [
    {
     "data": {
      "text/html": [
       "<div>\n",
       "<style scoped>\n",
       "    .dataframe tbody tr th:only-of-type {\n",
       "        vertical-align: middle;\n",
       "    }\n",
       "\n",
       "    .dataframe tbody tr th {\n",
       "        vertical-align: top;\n",
       "    }\n",
       "\n",
       "    .dataframe thead th {\n",
       "        text-align: right;\n",
       "    }\n",
       "</style>\n",
       "<table border=\"1\" class=\"dataframe\">\n",
       "  <thead>\n",
       "    <tr style=\"text-align: right;\">\n",
       "      <th></th>\n",
       "      <th>F1_Vessel</th>\n",
       "      <th>AUROC_Vessel</th>\n",
       "      <th>Accuracy_Vessel</th>\n",
       "    </tr>\n",
       "    <tr>\n",
       "      <th>name</th>\n",
       "      <th></th>\n",
       "      <th></th>\n",
       "      <th></th>\n",
       "    </tr>\n",
       "  </thead>\n",
       "  <tbody>\n",
       "    <tr>\n",
       "      <th>128_128</th>\n",
       "      <td>0.524038</td>\n",
       "      <td>0.733808</td>\n",
       "      <td>0.922568</td>\n",
       "    </tr>\n",
       "    <tr>\n",
       "      <th>128_128_db</th>\n",
       "      <td>0.459324</td>\n",
       "      <td>0.675947</td>\n",
       "      <td>0.925157</td>\n",
       "    </tr>\n",
       "    <tr>\n",
       "      <th>256_256</th>\n",
       "      <td>0.710415</td>\n",
       "      <td>0.818374</td>\n",
       "      <td>0.954858</td>\n",
       "    </tr>\n",
       "    <tr>\n",
       "      <th>256_256_db</th>\n",
       "      <td>0.679832</td>\n",
       "      <td>0.778285</td>\n",
       "      <td>0.954762</td>\n",
       "    </tr>\n",
       "    <tr>\n",
       "      <th>32_32</th>\n",
       "      <td>0.093510</td>\n",
       "      <td>0.520609</td>\n",
       "      <td>0.903494</td>\n",
       "    </tr>\n",
       "    <tr>\n",
       "      <th>32_32_db</th>\n",
       "      <td>0.078163</td>\n",
       "      <td>0.516654</td>\n",
       "      <td>0.905484</td>\n",
       "    </tr>\n",
       "    <tr>\n",
       "      <th>64_64</th>\n",
       "      <td>0.325207</td>\n",
       "      <td>0.615942</td>\n",
       "      <td>0.907267</td>\n",
       "    </tr>\n",
       "    <tr>\n",
       "      <th>64_64_db</th>\n",
       "      <td>0.275221</td>\n",
       "      <td>0.589005</td>\n",
       "      <td>0.910146</td>\n",
       "    </tr>\n",
       "    <tr>\n",
       "      <th>base_model</th>\n",
       "      <td>0.806247</td>\n",
       "      <td>0.889031</td>\n",
       "      <td>0.967834</td>\n",
       "    </tr>\n",
       "    <tr>\n",
       "      <th>base_model_db</th>\n",
       "      <td>0.804475</td>\n",
       "      <td>0.875477</td>\n",
       "      <td>0.968541</td>\n",
       "    </tr>\n",
       "    <tr>\n",
       "      <th>mf_model</th>\n",
       "      <td>0.795618</td>\n",
       "      <td>0.881191</td>\n",
       "      <td>0.966440</td>\n",
       "    </tr>\n",
       "    <tr>\n",
       "      <th>mf_model_db</th>\n",
       "      <td>0.776246</td>\n",
       "      <td>0.845420</td>\n",
       "      <td>0.965741</td>\n",
       "    </tr>\n",
       "  </tbody>\n",
       "</table>\n",
       "</div>"
      ],
      "text/plain": [
       "               F1_Vessel  AUROC_Vessel  Accuracy_Vessel\n",
       "name                                                   \n",
       "128_128         0.524038      0.733808         0.922568\n",
       "128_128_db      0.459324      0.675947         0.925157\n",
       "256_256         0.710415      0.818374         0.954858\n",
       "256_256_db      0.679832      0.778285         0.954762\n",
       "32_32           0.093510      0.520609         0.903494\n",
       "32_32_db        0.078163      0.516654         0.905484\n",
       "64_64           0.325207      0.615942         0.907267\n",
       "64_64_db        0.275221      0.589005         0.910146\n",
       "base_model      0.806247      0.889031         0.967834\n",
       "base_model_db   0.804475      0.875477         0.968541\n",
       "mf_model        0.795618      0.881191         0.966440\n",
       "mf_model_db     0.776246      0.845420         0.965741"
      ]
     },
     "execution_count": 32,
     "metadata": {},
     "output_type": "execute_result"
    }
   ],
   "source": [
    "all_data.groupby(['name']).mean()"
   ]
  },
  {
   "cell_type": "code",
   "execution_count": 33,
   "metadata": {},
   "outputs": [
    {
     "data": {
      "application/vnd.jupyter.widget-view+json": {
       "model_id": "b706fe8d93004e6ea31a27221e364726",
       "version_major": 2,
       "version_minor": 0
      },
      "text/plain": [
       "interactive(children=(IntSlider(value=0, description='im_num', max=5), FloatSlider(value=0.0, description='vmi…"
      ]
     },
     "metadata": {},
     "output_type": "display_data"
    }
   ],
   "source": [
    "x = interact_manual(visualize_magnitudes,\n",
    "        tensor_dicts=fixed(mean_db_tensors),\n",
    "        im_dict = fixed(orig),\n",
    "        target_dict = fixed(targets),\n",
    "        im_num = (0,len(mean_db_tensors) - 1),\n",
    "        vmin = (0.0,1.0, .01 ),\n",
    "        vmax = (0.0, 1.0, .01), )"
   ]
  },
  {
   "cell_type": "code",
   "execution_count": 34,
   "metadata": {},
   "outputs": [
    {
     "data": {
      "application/vnd.jupyter.widget-view+json": {
       "model_id": "4cdd0063c9c540aca97ce04cb3c365b7",
       "version_major": 2,
       "version_minor": 0
      },
      "text/plain": [
       "interactive(children=(IntSlider(value=0, description='im_num', max=5), FloatSlider(value=0.0, description='vmi…"
      ]
     },
     "metadata": {},
     "output_type": "display_data"
    }
   ],
   "source": [
    "x = interact_manual(visualize_magnitudes,\n",
    "        tensor_dicts=fixed(std_db_tensors),\n",
    "        im_dict = fixed(orig),\n",
    "        target_dict = fixed(targets),\n",
    "        im_num = (0,len(std_db_tensors) - 1),\n",
    "        vmin = (0.0,1.0, .01 ),\n",
    "        vmax = (0.0, 1.0, .01), )"
   ]
  },
  {
   "cell_type": "code",
   "execution_count": 35,
   "metadata": {},
   "outputs": [
    {
     "data": {
      "application/vnd.jupyter.widget-view+json": {
       "model_id": "f5bcf4c718cb488480a913546697b6e2",
       "version_major": 2,
       "version_minor": 0
      },
      "text/plain": [
       "interactive(children=(IntSlider(value=0, description='im_num', max=5), FloatSlider(value=0.0, description='vmi…"
      ]
     },
     "metadata": {},
     "output_type": "display_data"
    }
   ],
   "source": [
    "x = interact_manual(visualize_magnitudes,\n",
    "        tensor_dicts=fixed(mean_rot_tensors),\n",
    "        im_dict = fixed(orig),\n",
    "        target_dict = fixed(targets),\n",
    "        im_num = (0,len(mean_rot_tensors) - 1),\n",
    "        vmin = (0.0,1.0, .01 ),\n",
    "        vmax = (0.0, 1.0, .01), )"
   ]
  },
  {
   "cell_type": "code",
   "execution_count": 36,
   "metadata": {},
   "outputs": [
    {
     "data": {
      "application/vnd.jupyter.widget-view+json": {
       "model_id": "377f3bf664b34eb8b2239b2412206579",
       "version_major": 2,
       "version_minor": 0
      },
      "text/plain": [
       "interactive(children=(IntSlider(value=0, description='im_num', max=5), FloatSlider(value=0.0, description='vmi…"
      ]
     },
     "metadata": {},
     "output_type": "display_data"
    }
   ],
   "source": [
    "x = interact_manual(visualize_magnitudes,\n",
    "        tensor_dicts=fixed(std_rot_tensors),\n",
    "        im_dict = fixed(orig),\n",
    "        target_dict = fixed(targets),\n",
    "        im_num = (0,len(std_rot_tensors) - 1),\n",
    "        vmin = (0.0,1.0, .01 ),\n",
    "        vmax = (0.0, 1.0, .01), )"
   ]
  },
  {
   "cell_type": "code",
   "execution_count": 37,
   "metadata": {},
   "outputs": [
    {
     "data": {
      "application/vnd.jupyter.widget-view+json": {
       "model_id": "67cbcc48a8174b21b23c89cb7aada30a",
       "version_major": 2,
       "version_minor": 0
      },
      "text/plain": [
       "interactive(children=(Dropdown(description='key', options=('base_model', 'rf_model_32_32', 'rf_model_64_64', '…"
      ]
     },
     "metadata": {},
     "output_type": "display_data"
    }
   ],
   "source": [
    "x = interact(display_std_hist, \n",
    "            std_dict = fixed(std_db_tensors),\n",
    "            key = list(std_db_tensors.keys()),\n",
    "            im_num = (0, len(std_db_tensors['base_model']) - 1),\n",
    "            threshold = (0, 1, .001))\n"
   ]
  },
  {
   "cell_type": "code",
   "execution_count": 38,
   "metadata": {},
   "outputs": [],
   "source": [
    "db_std_mag, db_mean_mag = calculate_magnitudes(std_db_tensors, mean_db_tensors)\n",
    "rot_std_mag, rot_mean_mag = calculate_magnitudes(std_rot_tensors, mean_rot_tensors)"
   ]
  },
  {
   "cell_type": "code",
   "execution_count": 39,
   "metadata": {},
   "outputs": [
    {
     "data": {
      "text/html": [
       "<div>\n",
       "<style scoped>\n",
       "    .dataframe tbody tr th:only-of-type {\n",
       "        vertical-align: middle;\n",
       "    }\n",
       "\n",
       "    .dataframe tbody tr th {\n",
       "        vertical-align: top;\n",
       "    }\n",
       "\n",
       "    .dataframe thead th {\n",
       "        text-align: right;\n",
       "    }\n",
       "</style>\n",
       "<table border=\"1\" class=\"dataframe\">\n",
       "  <thead>\n",
       "    <tr style=\"text-align: right;\">\n",
       "      <th></th>\n",
       "      <th>im_num</th>\n",
       "      <th>min</th>\n",
       "      <th>max</th>\n",
       "      <th>mean</th>\n",
       "      <th>std</th>\n",
       "      <th>mean_thresholded_0.01</th>\n",
       "      <th>std_thresholded_0.01</th>\n",
       "      <th>mean_thresholded_0.001</th>\n",
       "      <th>std_thresholded_0.001</th>\n",
       "      <th>mean_thresholded_0</th>\n",
       "      <th>std_thresholded_0</th>\n",
       "    </tr>\n",
       "    <tr>\n",
       "      <th>model_name</th>\n",
       "      <th></th>\n",
       "      <th></th>\n",
       "      <th></th>\n",
       "      <th></th>\n",
       "      <th></th>\n",
       "      <th></th>\n",
       "      <th></th>\n",
       "      <th></th>\n",
       "      <th></th>\n",
       "      <th></th>\n",
       "      <th></th>\n",
       "    </tr>\n",
       "  </thead>\n",
       "  <tbody>\n",
       "    <tr>\n",
       "      <th>base_model</th>\n",
       "      <td>2.5</td>\n",
       "      <td>0.0</td>\n",
       "      <td>0.999766</td>\n",
       "      <td>0.081301</td>\n",
       "      <td>0.228359</td>\n",
       "      <td>0.335703</td>\n",
       "      <td>0.364631</td>\n",
       "      <td>0.146602</td>\n",
       "      <td>0.290586</td>\n",
       "      <td>0.118181</td>\n",
       "      <td>0.267278</td>\n",
       "    </tr>\n",
       "    <tr>\n",
       "      <th>mf_model</th>\n",
       "      <td>2.5</td>\n",
       "      <td>0.0</td>\n",
       "      <td>0.999835</td>\n",
       "      <td>0.075817</td>\n",
       "      <td>0.220392</td>\n",
       "      <td>0.273149</td>\n",
       "      <td>0.351702</td>\n",
       "      <td>0.132724</td>\n",
       "      <td>0.278341</td>\n",
       "      <td>0.110210</td>\n",
       "      <td>0.258475</td>\n",
       "    </tr>\n",
       "    <tr>\n",
       "      <th>rf_model_128_128</th>\n",
       "      <td>2.5</td>\n",
       "      <td>0.0</td>\n",
       "      <td>0.999077</td>\n",
       "      <td>0.086054</td>\n",
       "      <td>0.177588</td>\n",
       "      <td>0.166840</td>\n",
       "      <td>0.220321</td>\n",
       "      <td>0.126442</td>\n",
       "      <td>0.202905</td>\n",
       "      <td>0.125088</td>\n",
       "      <td>0.202291</td>\n",
       "    </tr>\n",
       "    <tr>\n",
       "      <th>rf_model_256_256</th>\n",
       "      <td>2.5</td>\n",
       "      <td>0.0</td>\n",
       "      <td>0.999302</td>\n",
       "      <td>0.077329</td>\n",
       "      <td>0.191877</td>\n",
       "      <td>0.179030</td>\n",
       "      <td>0.263083</td>\n",
       "      <td>0.115858</td>\n",
       "      <td>0.225009</td>\n",
       "      <td>0.112406</td>\n",
       "      <td>0.222547</td>\n",
       "    </tr>\n",
       "    <tr>\n",
       "      <th>rf_model_32_32</th>\n",
       "      <td>2.5</td>\n",
       "      <td>0.0</td>\n",
       "      <td>0.952298</td>\n",
       "      <td>0.080087</td>\n",
       "      <td>0.115916</td>\n",
       "      <td>0.116679</td>\n",
       "      <td>0.123724</td>\n",
       "      <td>0.116420</td>\n",
       "      <td>0.123689</td>\n",
       "      <td>0.116409</td>\n",
       "      <td>0.123688</td>\n",
       "    </tr>\n",
       "    <tr>\n",
       "      <th>rf_model_64_64</th>\n",
       "      <td>2.5</td>\n",
       "      <td>0.0</td>\n",
       "      <td>0.990090</td>\n",
       "      <td>0.082775</td>\n",
       "      <td>0.153431</td>\n",
       "      <td>0.134050</td>\n",
       "      <td>0.177408</td>\n",
       "      <td>0.120393</td>\n",
       "      <td>0.172343</td>\n",
       "      <td>0.120318</td>\n",
       "      <td>0.172313</td>\n",
       "    </tr>\n",
       "  </tbody>\n",
       "</table>\n",
       "</div>"
      ],
      "text/plain": [
       "                  im_num  min       max      mean       std  \\\n",
       "model_name                                                    \n",
       "base_model           2.5  0.0  0.999766  0.081301  0.228359   \n",
       "mf_model             2.5  0.0  0.999835  0.075817  0.220392   \n",
       "rf_model_128_128     2.5  0.0  0.999077  0.086054  0.177588   \n",
       "rf_model_256_256     2.5  0.0  0.999302  0.077329  0.191877   \n",
       "rf_model_32_32       2.5  0.0  0.952298  0.080087  0.115916   \n",
       "rf_model_64_64       2.5  0.0  0.990090  0.082775  0.153431   \n",
       "\n",
       "                  mean_thresholded_0.01  std_thresholded_0.01  \\\n",
       "model_name                                                      \n",
       "base_model                     0.335703              0.364631   \n",
       "mf_model                       0.273149              0.351702   \n",
       "rf_model_128_128               0.166840              0.220321   \n",
       "rf_model_256_256               0.179030              0.263083   \n",
       "rf_model_32_32                 0.116679              0.123724   \n",
       "rf_model_64_64                 0.134050              0.177408   \n",
       "\n",
       "                  mean_thresholded_0.001  std_thresholded_0.001  \\\n",
       "model_name                                                        \n",
       "base_model                      0.146602               0.290586   \n",
       "mf_model                        0.132724               0.278341   \n",
       "rf_model_128_128                0.126442               0.202905   \n",
       "rf_model_256_256                0.115858               0.225009   \n",
       "rf_model_32_32                  0.116420               0.123689   \n",
       "rf_model_64_64                  0.120393               0.172343   \n",
       "\n",
       "                  mean_thresholded_0  std_thresholded_0  \n",
       "model_name                                               \n",
       "base_model                  0.118181           0.267278  \n",
       "mf_model                    0.110210           0.258475  \n",
       "rf_model_128_128            0.125088           0.202291  \n",
       "rf_model_256_256            0.112406           0.222547  \n",
       "rf_model_32_32              0.116409           0.123688  \n",
       "rf_model_64_64              0.120318           0.172313  "
      ]
     },
     "execution_count": 39,
     "metadata": {},
     "output_type": "execute_result"
    }
   ],
   "source": [
    "db_mean_mag.groupby('model_name').mean()"
   ]
  },
  {
   "cell_type": "code",
   "execution_count": 40,
   "metadata": {},
   "outputs": [
    {
     "data": {
      "text/html": [
       "<div>\n",
       "<style scoped>\n",
       "    .dataframe tbody tr th:only-of-type {\n",
       "        vertical-align: middle;\n",
       "    }\n",
       "\n",
       "    .dataframe tbody tr th {\n",
       "        vertical-align: top;\n",
       "    }\n",
       "\n",
       "    .dataframe thead th {\n",
       "        text-align: right;\n",
       "    }\n",
       "</style>\n",
       "<table border=\"1\" class=\"dataframe\">\n",
       "  <thead>\n",
       "    <tr style=\"text-align: right;\">\n",
       "      <th></th>\n",
       "      <th>im_num</th>\n",
       "      <th>min</th>\n",
       "      <th>max</th>\n",
       "      <th>mean</th>\n",
       "      <th>std</th>\n",
       "      <th>mean_thresholded_0.01</th>\n",
       "      <th>std_thresholded_0.01</th>\n",
       "      <th>mean_thresholded_0.001</th>\n",
       "      <th>std_thresholded_0.001</th>\n",
       "      <th>mean_thresholded_0</th>\n",
       "      <th>std_thresholded_0</th>\n",
       "    </tr>\n",
       "    <tr>\n",
       "      <th>model_name</th>\n",
       "      <th></th>\n",
       "      <th></th>\n",
       "      <th></th>\n",
       "      <th></th>\n",
       "      <th></th>\n",
       "      <th></th>\n",
       "      <th></th>\n",
       "      <th></th>\n",
       "      <th></th>\n",
       "      <th></th>\n",
       "      <th></th>\n",
       "    </tr>\n",
       "  </thead>\n",
       "  <tbody>\n",
       "    <tr>\n",
       "      <th>base_model</th>\n",
       "      <td>2.5</td>\n",
       "      <td>0.0</td>\n",
       "      <td>0.314011</td>\n",
       "      <td>0.012924</td>\n",
       "      <td>0.026978</td>\n",
       "      <td>0.049251</td>\n",
       "      <td>0.036683</td>\n",
       "      <td>0.021783</td>\n",
       "      <td>0.032271</td>\n",
       "      <td>0.018783</td>\n",
       "      <td>0.030784</td>\n",
       "    </tr>\n",
       "    <tr>\n",
       "      <th>mf_model</th>\n",
       "      <td>2.5</td>\n",
       "      <td>0.0</td>\n",
       "      <td>0.306536</td>\n",
       "      <td>0.018456</td>\n",
       "      <td>0.037292</td>\n",
       "      <td>0.058651</td>\n",
       "      <td>0.049695</td>\n",
       "      <td>0.030485</td>\n",
       "      <td>0.043989</td>\n",
       "      <td>0.026826</td>\n",
       "      <td>0.042380</td>\n",
       "    </tr>\n",
       "    <tr>\n",
       "      <th>rf_model_128_128</th>\n",
       "      <td>2.5</td>\n",
       "      <td>0.0</td>\n",
       "      <td>0.286140</td>\n",
       "      <td>0.030790</td>\n",
       "      <td>0.045105</td>\n",
       "      <td>0.062749</td>\n",
       "      <td>0.048406</td>\n",
       "      <td>0.045340</td>\n",
       "      <td>0.048307</td>\n",
       "      <td>0.044759</td>\n",
       "      <td>0.048272</td>\n",
       "    </tr>\n",
       "    <tr>\n",
       "      <th>rf_model_256_256</th>\n",
       "      <td>2.5</td>\n",
       "      <td>0.0</td>\n",
       "      <td>0.334632</td>\n",
       "      <td>0.025472</td>\n",
       "      <td>0.040994</td>\n",
       "      <td>0.057627</td>\n",
       "      <td>0.047330</td>\n",
       "      <td>0.037985</td>\n",
       "      <td>0.045009</td>\n",
       "      <td>0.037027</td>\n",
       "      <td>0.044829</td>\n",
       "    </tr>\n",
       "    <tr>\n",
       "      <th>rf_model_32_32</th>\n",
       "      <td>2.5</td>\n",
       "      <td>0.0</td>\n",
       "      <td>0.246839</td>\n",
       "      <td>0.027603</td>\n",
       "      <td>0.033890</td>\n",
       "      <td>0.043499</td>\n",
       "      <td>0.034191</td>\n",
       "      <td>0.040123</td>\n",
       "      <td>0.034163</td>\n",
       "      <td>0.040122</td>\n",
       "      <td>0.034164</td>\n",
       "    </tr>\n",
       "    <tr>\n",
       "      <th>rf_model_64_64</th>\n",
       "      <td>2.5</td>\n",
       "      <td>0.0</td>\n",
       "      <td>0.297770</td>\n",
       "      <td>0.029466</td>\n",
       "      <td>0.041686</td>\n",
       "      <td>0.055781</td>\n",
       "      <td>0.044646</td>\n",
       "      <td>0.042847</td>\n",
       "      <td>0.044187</td>\n",
       "      <td>0.042832</td>\n",
       "      <td>0.044186</td>\n",
       "    </tr>\n",
       "  </tbody>\n",
       "</table>\n",
       "</div>"
      ],
      "text/plain": [
       "                  im_num  min       max      mean       std  \\\n",
       "model_name                                                    \n",
       "base_model           2.5  0.0  0.314011  0.012924  0.026978   \n",
       "mf_model             2.5  0.0  0.306536  0.018456  0.037292   \n",
       "rf_model_128_128     2.5  0.0  0.286140  0.030790  0.045105   \n",
       "rf_model_256_256     2.5  0.0  0.334632  0.025472  0.040994   \n",
       "rf_model_32_32       2.5  0.0  0.246839  0.027603  0.033890   \n",
       "rf_model_64_64       2.5  0.0  0.297770  0.029466  0.041686   \n",
       "\n",
       "                  mean_thresholded_0.01  std_thresholded_0.01  \\\n",
       "model_name                                                      \n",
       "base_model                     0.049251              0.036683   \n",
       "mf_model                       0.058651              0.049695   \n",
       "rf_model_128_128               0.062749              0.048406   \n",
       "rf_model_256_256               0.057627              0.047330   \n",
       "rf_model_32_32                 0.043499              0.034191   \n",
       "rf_model_64_64                 0.055781              0.044646   \n",
       "\n",
       "                  mean_thresholded_0.001  std_thresholded_0.001  \\\n",
       "model_name                                                        \n",
       "base_model                      0.021783               0.032271   \n",
       "mf_model                        0.030485               0.043989   \n",
       "rf_model_128_128                0.045340               0.048307   \n",
       "rf_model_256_256                0.037985               0.045009   \n",
       "rf_model_32_32                  0.040123               0.034163   \n",
       "rf_model_64_64                  0.042847               0.044187   \n",
       "\n",
       "                  mean_thresholded_0  std_thresholded_0  \n",
       "model_name                                               \n",
       "base_model                  0.018783           0.030784  \n",
       "mf_model                    0.026826           0.042380  \n",
       "rf_model_128_128            0.044759           0.048272  \n",
       "rf_model_256_256            0.037027           0.044829  \n",
       "rf_model_32_32              0.040122           0.034164  \n",
       "rf_model_64_64              0.042832           0.044186  "
      ]
     },
     "execution_count": 40,
     "metadata": {},
     "output_type": "execute_result"
    }
   ],
   "source": [
    "db_std_mag.groupby('model_name').mean()"
   ]
  },
  {
   "cell_type": "code",
   "execution_count": 41,
   "metadata": {},
   "outputs": [
    {
     "data": {
      "text/html": [
       "<div>\n",
       "<style scoped>\n",
       "    .dataframe tbody tr th:only-of-type {\n",
       "        vertical-align: middle;\n",
       "    }\n",
       "\n",
       "    .dataframe tbody tr th {\n",
       "        vertical-align: top;\n",
       "    }\n",
       "\n",
       "    .dataframe thead th {\n",
       "        text-align: right;\n",
       "    }\n",
       "</style>\n",
       "<table border=\"1\" class=\"dataframe\">\n",
       "  <thead>\n",
       "    <tr style=\"text-align: right;\">\n",
       "      <th></th>\n",
       "      <th>im_num</th>\n",
       "      <th>min</th>\n",
       "      <th>max</th>\n",
       "      <th>mean</th>\n",
       "      <th>std</th>\n",
       "      <th>mean_thresholded_0.01</th>\n",
       "      <th>std_thresholded_0.01</th>\n",
       "      <th>mean_thresholded_0.001</th>\n",
       "      <th>std_thresholded_0.001</th>\n",
       "      <th>mean_thresholded_0</th>\n",
       "      <th>std_thresholded_0</th>\n",
       "    </tr>\n",
       "    <tr>\n",
       "      <th>model_name</th>\n",
       "      <th></th>\n",
       "      <th></th>\n",
       "      <th></th>\n",
       "      <th></th>\n",
       "      <th></th>\n",
       "      <th></th>\n",
       "      <th></th>\n",
       "      <th></th>\n",
       "      <th></th>\n",
       "      <th></th>\n",
       "      <th></th>\n",
       "    </tr>\n",
       "  </thead>\n",
       "  <tbody>\n",
       "    <tr>\n",
       "      <th>base_model</th>\n",
       "      <td>2.5</td>\n",
       "      <td>0.0</td>\n",
       "      <td>0.999994</td>\n",
       "      <td>0.088071</td>\n",
       "      <td>0.236270</td>\n",
       "      <td>0.358149</td>\n",
       "      <td>0.364237</td>\n",
       "      <td>0.184553</td>\n",
       "      <td>0.314785</td>\n",
       "      <td>0.128018</td>\n",
       "      <td>0.275717</td>\n",
       "    </tr>\n",
       "    <tr>\n",
       "      <th>mf_model</th>\n",
       "      <td>2.5</td>\n",
       "      <td>0.0</td>\n",
       "      <td>0.999989</td>\n",
       "      <td>0.090559</td>\n",
       "      <td>0.239932</td>\n",
       "      <td>0.315408</td>\n",
       "      <td>0.363640</td>\n",
       "      <td>0.151134</td>\n",
       "      <td>0.294884</td>\n",
       "      <td>0.131635</td>\n",
       "      <td>0.279761</td>\n",
       "    </tr>\n",
       "    <tr>\n",
       "      <th>rf_model_128_128</th>\n",
       "      <td>2.5</td>\n",
       "      <td>0.0</td>\n",
       "      <td>0.998772</td>\n",
       "      <td>0.093570</td>\n",
       "      <td>0.188161</td>\n",
       "      <td>0.167324</td>\n",
       "      <td>0.228217</td>\n",
       "      <td>0.136529</td>\n",
       "      <td>0.213783</td>\n",
       "      <td>0.136015</td>\n",
       "      <td>0.213557</td>\n",
       "    </tr>\n",
       "    <tr>\n",
       "      <th>rf_model_256_256</th>\n",
       "      <td>2.5</td>\n",
       "      <td>0.0</td>\n",
       "      <td>0.999863</td>\n",
       "      <td>0.086979</td>\n",
       "      <td>0.214741</td>\n",
       "      <td>0.209426</td>\n",
       "      <td>0.296441</td>\n",
       "      <td>0.132890</td>\n",
       "      <td>0.253748</td>\n",
       "      <td>0.126442</td>\n",
       "      <td>0.248975</td>\n",
       "    </tr>\n",
       "    <tr>\n",
       "      <th>rf_model_32_32</th>\n",
       "      <td>2.5</td>\n",
       "      <td>0.0</td>\n",
       "      <td>0.774203</td>\n",
       "      <td>0.067328</td>\n",
       "      <td>0.075885</td>\n",
       "      <td>0.097863</td>\n",
       "      <td>0.073352</td>\n",
       "      <td>0.097863</td>\n",
       "      <td>0.073352</td>\n",
       "      <td>0.097863</td>\n",
       "      <td>0.073352</td>\n",
       "    </tr>\n",
       "    <tr>\n",
       "      <th>rf_model_64_64</th>\n",
       "      <td>2.5</td>\n",
       "      <td>0.0</td>\n",
       "      <td>0.978089</td>\n",
       "      <td>0.073851</td>\n",
       "      <td>0.127798</td>\n",
       "      <td>0.108935</td>\n",
       "      <td>0.142351</td>\n",
       "      <td>0.107347</td>\n",
       "      <td>0.141813</td>\n",
       "      <td>0.107347</td>\n",
       "      <td>0.141813</td>\n",
       "    </tr>\n",
       "  </tbody>\n",
       "</table>\n",
       "</div>"
      ],
      "text/plain": [
       "                  im_num  min       max      mean       std  \\\n",
       "model_name                                                    \n",
       "base_model           2.5  0.0  0.999994  0.088071  0.236270   \n",
       "mf_model             2.5  0.0  0.999989  0.090559  0.239932   \n",
       "rf_model_128_128     2.5  0.0  0.998772  0.093570  0.188161   \n",
       "rf_model_256_256     2.5  0.0  0.999863  0.086979  0.214741   \n",
       "rf_model_32_32       2.5  0.0  0.774203  0.067328  0.075885   \n",
       "rf_model_64_64       2.5  0.0  0.978089  0.073851  0.127798   \n",
       "\n",
       "                  mean_thresholded_0.01  std_thresholded_0.01  \\\n",
       "model_name                                                      \n",
       "base_model                     0.358149              0.364237   \n",
       "mf_model                       0.315408              0.363640   \n",
       "rf_model_128_128               0.167324              0.228217   \n",
       "rf_model_256_256               0.209426              0.296441   \n",
       "rf_model_32_32                 0.097863              0.073352   \n",
       "rf_model_64_64                 0.108935              0.142351   \n",
       "\n",
       "                  mean_thresholded_0.001  std_thresholded_0.001  \\\n",
       "model_name                                                        \n",
       "base_model                      0.184553               0.314785   \n",
       "mf_model                        0.151134               0.294884   \n",
       "rf_model_128_128                0.136529               0.213783   \n",
       "rf_model_256_256                0.132890               0.253748   \n",
       "rf_model_32_32                  0.097863               0.073352   \n",
       "rf_model_64_64                  0.107347               0.141813   \n",
       "\n",
       "                  mean_thresholded_0  std_thresholded_0  \n",
       "model_name                                               \n",
       "base_model                  0.128018           0.275717  \n",
       "mf_model                    0.131635           0.279761  \n",
       "rf_model_128_128            0.136015           0.213557  \n",
       "rf_model_256_256            0.126442           0.248975  \n",
       "rf_model_32_32              0.097863           0.073352  \n",
       "rf_model_64_64              0.107347           0.141813  "
      ]
     },
     "execution_count": 41,
     "metadata": {},
     "output_type": "execute_result"
    }
   ],
   "source": [
    "rot_mean_mag.groupby('model_name').mean()"
   ]
  },
  {
   "cell_type": "code",
   "execution_count": 42,
   "metadata": {},
   "outputs": [
    {
     "data": {
      "text/html": [
       "<div>\n",
       "<style scoped>\n",
       "    .dataframe tbody tr th:only-of-type {\n",
       "        vertical-align: middle;\n",
       "    }\n",
       "\n",
       "    .dataframe tbody tr th {\n",
       "        vertical-align: top;\n",
       "    }\n",
       "\n",
       "    .dataframe thead th {\n",
       "        text-align: right;\n",
       "    }\n",
       "</style>\n",
       "<table border=\"1\" class=\"dataframe\">\n",
       "  <thead>\n",
       "    <tr style=\"text-align: right;\">\n",
       "      <th></th>\n",
       "      <th>im_num</th>\n",
       "      <th>min</th>\n",
       "      <th>max</th>\n",
       "      <th>mean</th>\n",
       "      <th>std</th>\n",
       "      <th>mean_thresholded_0.01</th>\n",
       "      <th>std_thresholded_0.01</th>\n",
       "      <th>mean_thresholded_0.001</th>\n",
       "      <th>std_thresholded_0.001</th>\n",
       "      <th>mean_thresholded_0</th>\n",
       "      <th>std_thresholded_0</th>\n",
       "    </tr>\n",
       "    <tr>\n",
       "      <th>model_name</th>\n",
       "      <th></th>\n",
       "      <th></th>\n",
       "      <th></th>\n",
       "      <th></th>\n",
       "      <th></th>\n",
       "      <th></th>\n",
       "      <th></th>\n",
       "      <th></th>\n",
       "      <th></th>\n",
       "      <th></th>\n",
       "      <th></th>\n",
       "    </tr>\n",
       "  </thead>\n",
       "  <tbody>\n",
       "    <tr>\n",
       "      <th>base_model</th>\n",
       "      <td>2.5</td>\n",
       "      <td>0.0</td>\n",
       "      <td>0.274130</td>\n",
       "      <td>0.006299</td>\n",
       "      <td>0.014207</td>\n",
       "      <td>0.030917</td>\n",
       "      <td>0.019141</td>\n",
       "      <td>0.017481</td>\n",
       "      <td>0.019355</td>\n",
       "      <td>0.009155</td>\n",
       "      <td>0.016343</td>\n",
       "    </tr>\n",
       "    <tr>\n",
       "      <th>mf_model</th>\n",
       "      <td>2.5</td>\n",
       "      <td>0.0</td>\n",
       "      <td>0.227478</td>\n",
       "      <td>0.008704</td>\n",
       "      <td>0.017743</td>\n",
       "      <td>0.037510</td>\n",
       "      <td>0.021791</td>\n",
       "      <td>0.018646</td>\n",
       "      <td>0.022380</td>\n",
       "      <td>0.012650</td>\n",
       "      <td>0.020184</td>\n",
       "    </tr>\n",
       "    <tr>\n",
       "      <th>rf_model_128_128</th>\n",
       "      <td>2.5</td>\n",
       "      <td>0.0</td>\n",
       "      <td>0.291147</td>\n",
       "      <td>0.028735</td>\n",
       "      <td>0.040414</td>\n",
       "      <td>0.056920</td>\n",
       "      <td>0.042629</td>\n",
       "      <td>0.042707</td>\n",
       "      <td>0.042769</td>\n",
       "      <td>0.041773</td>\n",
       "      <td>0.042699</td>\n",
       "    </tr>\n",
       "    <tr>\n",
       "      <th>rf_model_256_256</th>\n",
       "      <td>2.5</td>\n",
       "      <td>0.0</td>\n",
       "      <td>0.288272</td>\n",
       "      <td>0.015916</td>\n",
       "      <td>0.025269</td>\n",
       "      <td>0.041827</td>\n",
       "      <td>0.028435</td>\n",
       "      <td>0.025753</td>\n",
       "      <td>0.028115</td>\n",
       "      <td>0.023137</td>\n",
       "      <td>0.027521</td>\n",
       "    </tr>\n",
       "    <tr>\n",
       "      <th>rf_model_32_32</th>\n",
       "      <td>2.5</td>\n",
       "      <td>0.0</td>\n",
       "      <td>0.242445</td>\n",
       "      <td>0.020675</td>\n",
       "      <td>0.030082</td>\n",
       "      <td>0.038507</td>\n",
       "      <td>0.033995</td>\n",
       "      <td>0.030051</td>\n",
       "      <td>0.032131</td>\n",
       "      <td>0.030051</td>\n",
       "      <td>0.032131</td>\n",
       "    </tr>\n",
       "    <tr>\n",
       "      <th>rf_model_64_64</th>\n",
       "      <td>2.5</td>\n",
       "      <td>0.0</td>\n",
       "      <td>0.331070</td>\n",
       "      <td>0.026159</td>\n",
       "      <td>0.040596</td>\n",
       "      <td>0.052759</td>\n",
       "      <td>0.046494</td>\n",
       "      <td>0.038026</td>\n",
       "      <td>0.044056</td>\n",
       "      <td>0.038022</td>\n",
       "      <td>0.044055</td>\n",
       "    </tr>\n",
       "  </tbody>\n",
       "</table>\n",
       "</div>"
      ],
      "text/plain": [
       "                  im_num  min       max      mean       std  \\\n",
       "model_name                                                    \n",
       "base_model           2.5  0.0  0.274130  0.006299  0.014207   \n",
       "mf_model             2.5  0.0  0.227478  0.008704  0.017743   \n",
       "rf_model_128_128     2.5  0.0  0.291147  0.028735  0.040414   \n",
       "rf_model_256_256     2.5  0.0  0.288272  0.015916  0.025269   \n",
       "rf_model_32_32       2.5  0.0  0.242445  0.020675  0.030082   \n",
       "rf_model_64_64       2.5  0.0  0.331070  0.026159  0.040596   \n",
       "\n",
       "                  mean_thresholded_0.01  std_thresholded_0.01  \\\n",
       "model_name                                                      \n",
       "base_model                     0.030917              0.019141   \n",
       "mf_model                       0.037510              0.021791   \n",
       "rf_model_128_128               0.056920              0.042629   \n",
       "rf_model_256_256               0.041827              0.028435   \n",
       "rf_model_32_32                 0.038507              0.033995   \n",
       "rf_model_64_64                 0.052759              0.046494   \n",
       "\n",
       "                  mean_thresholded_0.001  std_thresholded_0.001  \\\n",
       "model_name                                                        \n",
       "base_model                      0.017481               0.019355   \n",
       "mf_model                        0.018646               0.022380   \n",
       "rf_model_128_128                0.042707               0.042769   \n",
       "rf_model_256_256                0.025753               0.028115   \n",
       "rf_model_32_32                  0.030051               0.032131   \n",
       "rf_model_64_64                  0.038026               0.044056   \n",
       "\n",
       "                  mean_thresholded_0  std_thresholded_0  \n",
       "model_name                                               \n",
       "base_model                  0.009155           0.016343  \n",
       "mf_model                    0.012650           0.020184  \n",
       "rf_model_128_128            0.041773           0.042699  \n",
       "rf_model_256_256            0.023137           0.027521  \n",
       "rf_model_32_32              0.030051           0.032131  \n",
       "rf_model_64_64              0.038022           0.044055  "
      ]
     },
     "execution_count": 42,
     "metadata": {},
     "output_type": "execute_result"
    }
   ],
   "source": [
    "rot_std_mag.groupby('model_name').mean()"
   ]
  },
  {
   "cell_type": "code",
   "execution_count": null,
   "metadata": {},
   "outputs": [],
   "source": []
  },
  {
   "cell_type": "markdown",
   "metadata": {},
   "source": [
    "# Test 2"
   ]
  },
  {
   "cell_type": "code",
   "execution_count": 43,
   "metadata": {},
   "outputs": [],
   "source": [
    "all_data = pd.DataFrame()\n",
    "mean_db_tensors = {}\n",
    "std_db_tensors = {}\n",
    "mean_rot_tensors = {}\n",
    "std_rot_tensors = {}"
   ]
  },
  {
   "cell_type": "code",
   "execution_count": 44,
   "metadata": {},
   "outputs": [],
   "source": [
    "#base model\n",
    "for folder in ['_.25', '_1', '_.0625']:\n",
    "    db_i_path = f'../results/Test2/base_model{folder}/'\n",
    "\n",
    "    # reg\n",
    "    all_data = add_data(join(db_i_path, 'statistics/val_images/metrics.csv'), name = f'base_model{folder}', df =  all_data)\n",
    "\n",
    "    # db\n",
    "    all_data = add_data(join(db_i_path, 'dropblock_uncertainty/statistics/val_images/metrics.csv'), name = f'base_model{folder}_db', df = all_data)\n",
    "    mean_db_tensors[f'base_model{folder}'] = extract_tensors(join(db_i_path, 'dropblock_uncertainty/tensors'), 'mean.pt')\n",
    "    std_db_tensors[f'base_model{folder}'] = extract_tensors(join(db_i_path, 'dropblock_uncertainty/tensors'), 'std.pt')\n",
    "    mean_rot_tensors[f'base_model{folder}'] = extract_tensors(join(db_i_path, 'rotational_uncertainty'), 'mean.pt')\n",
    "    std_rot_tensors[f'base_model{folder}'] = extract_tensors(join(db_i_path, 'rotational_uncertainty'), 'std.pt')"
   ]
  },
  {
   "cell_type": "code",
   "execution_count": 45,
   "metadata": {},
   "outputs": [],
   "source": [
    "for folder in ['128_128_1','256_256_.25','256_256_1']:\n",
    "    # 32x32, ...\n",
    "    path = f'../results/Test2/rf_model_{folder}'\n",
    "\n",
    "    # reg \n",
    "    all_data = add_data(join(path, 'statistics/statistics_normal/val_images/metrics.csv'), name = f'rf_model_{folder}', df =  all_data)\n",
    "\n",
    "    # temp\n",
    "    all_data = add_data(join(path, 'dropblock_uncertainty/statistics/val_images/metrics.csv'),name = f'rf_model_{folder}_db', df =  all_data)\n",
    "    mean_db_tensors[f'rf_model_{folder}'] = extract_tensors(join(path, 'dropblock_uncertainty/tensors'), 'mean.pt')\n",
    "    std_db_tensors[f'rf_model_{folder}'] = extract_tensors(join(path, 'dropblock_uncertainty/tensors'), 'std.pt')\n",
    "    mean_rot_tensors[f'rf_model_{folder}'] = extract_tensors(join(path, 'rotational_uncertainty'), 'mean.pt')\n",
    "    std_rot_tensors[f'rf_model_{folder}'] = extract_tensors(join(path, 'rotational_uncertainty'), 'std.pt')"
   ]
  },
  {
   "cell_type": "code",
   "execution_count": 46,
   "metadata": {},
   "outputs": [],
   "source": [
    "#mf model\n",
    "mf_path = '../results/Test2/mf_model/'\n",
    "\n",
    "# reg \n",
    "all_data = add_data(join(mf_path, 'statistics/statistics_normal/val_images/metrics.csv'), name = 'mf_model', df =  all_data)\n",
    "\n",
    "# temp\n",
    "all_data = add_data(join(mf_path, 'dropblock_uncertainty/statistics/val_images/metrics.csv'),name = f'mf_model_db', df =  all_data)\n",
    "mean_db_tensors['mf_model'] = extract_tensors(join(mf_path, 'dropblock_uncertainty/tensors'), 'mean.pt')\n",
    "std_db_tensors['mf_model'] = extract_tensors(join(mf_path, 'dropblock_uncertainty/tensors'), 'std.pt')\n",
    "mean_rot_tensors['mf_model'] = extract_tensors(join(mf_path, 'rotational_uncertainty'), 'mean.pt')\n",
    "std_rot_tensors['mf_model'] = extract_tensors(join(mf_path, 'rotational_uncertainty'), 'std.pt')"
   ]
  },
  {
   "cell_type": "code",
   "execution_count": 47,
   "metadata": {},
   "outputs": [
    {
     "data": {
      "text/html": [
       "<div>\n",
       "<style scoped>\n",
       "    .dataframe tbody tr th:only-of-type {\n",
       "        vertical-align: middle;\n",
       "    }\n",
       "\n",
       "    .dataframe tbody tr th {\n",
       "        vertical-align: top;\n",
       "    }\n",
       "\n",
       "    .dataframe thead th {\n",
       "        text-align: right;\n",
       "    }\n",
       "</style>\n",
       "<table border=\"1\" class=\"dataframe\">\n",
       "  <thead>\n",
       "    <tr style=\"text-align: right;\">\n",
       "      <th></th>\n",
       "      <th>F1_Vessel</th>\n",
       "      <th>AUROC_Vessel</th>\n",
       "      <th>Accuracy_Vessel</th>\n",
       "    </tr>\n",
       "    <tr>\n",
       "      <th>name</th>\n",
       "      <th></th>\n",
       "      <th></th>\n",
       "      <th></th>\n",
       "    </tr>\n",
       "  </thead>\n",
       "  <tbody>\n",
       "    <tr>\n",
       "      <th>base_model_.0625</th>\n",
       "      <td>0.777135</td>\n",
       "      <td>0.865662</td>\n",
       "      <td>0.964051</td>\n",
       "    </tr>\n",
       "    <tr>\n",
       "      <th>base_model_.0625_db</th>\n",
       "      <td>0.718423</td>\n",
       "      <td>0.799434</td>\n",
       "      <td>0.959787</td>\n",
       "    </tr>\n",
       "    <tr>\n",
       "      <th>base_model_.25</th>\n",
       "      <td>0.803741</td>\n",
       "      <td>0.893278</td>\n",
       "      <td>0.967089</td>\n",
       "    </tr>\n",
       "    <tr>\n",
       "      <th>base_model_.25_db</th>\n",
       "      <td>0.795954</td>\n",
       "      <td>0.867031</td>\n",
       "      <td>0.967621</td>\n",
       "    </tr>\n",
       "    <tr>\n",
       "      <th>base_model_1</th>\n",
       "      <td>0.803757</td>\n",
       "      <td>0.884405</td>\n",
       "      <td>0.967700</td>\n",
       "    </tr>\n",
       "    <tr>\n",
       "      <th>base_model_1_db</th>\n",
       "      <td>0.797923</td>\n",
       "      <td>0.868913</td>\n",
       "      <td>0.967789</td>\n",
       "    </tr>\n",
       "    <tr>\n",
       "      <th>mf_model</th>\n",
       "      <td>0.802595</td>\n",
       "      <td>0.879663</td>\n",
       "      <td>0.967887</td>\n",
       "    </tr>\n",
       "    <tr>\n",
       "      <th>mf_model_db</th>\n",
       "      <td>0.794788</td>\n",
       "      <td>0.863990</td>\n",
       "      <td>0.967612</td>\n",
       "    </tr>\n",
       "    <tr>\n",
       "      <th>rf_model_128_128_1</th>\n",
       "      <td>0.518001</td>\n",
       "      <td>0.729046</td>\n",
       "      <td>0.922324</td>\n",
       "    </tr>\n",
       "    <tr>\n",
       "      <th>rf_model_128_128_1_db</th>\n",
       "      <td>0.463410</td>\n",
       "      <td>0.678264</td>\n",
       "      <td>0.925593</td>\n",
       "    </tr>\n",
       "    <tr>\n",
       "      <th>rf_model_256_256_.25</th>\n",
       "      <td>0.674041</td>\n",
       "      <td>0.817500</td>\n",
       "      <td>0.946184</td>\n",
       "    </tr>\n",
       "    <tr>\n",
       "      <th>rf_model_256_256_.25_db</th>\n",
       "      <td>0.654388</td>\n",
       "      <td>0.780446</td>\n",
       "      <td>0.948396</td>\n",
       "    </tr>\n",
       "    <tr>\n",
       "      <th>rf_model_256_256_1</th>\n",
       "      <td>0.695480</td>\n",
       "      <td>0.815930</td>\n",
       "      <td>0.951644</td>\n",
       "    </tr>\n",
       "    <tr>\n",
       "      <th>rf_model_256_256_1_db</th>\n",
       "      <td>0.664201</td>\n",
       "      <td>0.774497</td>\n",
       "      <td>0.951845</td>\n",
       "    </tr>\n",
       "  </tbody>\n",
       "</table>\n",
       "</div>"
      ],
      "text/plain": [
       "                         F1_Vessel  AUROC_Vessel  Accuracy_Vessel\n",
       "name                                                             \n",
       "base_model_.0625          0.777135      0.865662         0.964051\n",
       "base_model_.0625_db       0.718423      0.799434         0.959787\n",
       "base_model_.25            0.803741      0.893278         0.967089\n",
       "base_model_.25_db         0.795954      0.867031         0.967621\n",
       "base_model_1              0.803757      0.884405         0.967700\n",
       "base_model_1_db           0.797923      0.868913         0.967789\n",
       "mf_model                  0.802595      0.879663         0.967887\n",
       "mf_model_db               0.794788      0.863990         0.967612\n",
       "rf_model_128_128_1        0.518001      0.729046         0.922324\n",
       "rf_model_128_128_1_db     0.463410      0.678264         0.925593\n",
       "rf_model_256_256_.25      0.674041      0.817500         0.946184\n",
       "rf_model_256_256_.25_db   0.654388      0.780446         0.948396\n",
       "rf_model_256_256_1        0.695480      0.815930         0.951644\n",
       "rf_model_256_256_1_db     0.664201      0.774497         0.951845"
      ]
     },
     "execution_count": 47,
     "metadata": {},
     "output_type": "execute_result"
    }
   ],
   "source": [
    "all_data.groupby(['name']).mean()"
   ]
  },
  {
   "cell_type": "code",
   "execution_count": 48,
   "metadata": {},
   "outputs": [
    {
     "data": {
      "application/vnd.jupyter.widget-view+json": {
       "model_id": "f802f2a9781f4c21802812d8f4adef68",
       "version_major": 2,
       "version_minor": 0
      },
      "text/plain": [
       "interactive(children=(IntSlider(value=0, description='im_num', max=6), FloatSlider(value=0.0, description='vmi…"
      ]
     },
     "metadata": {},
     "output_type": "display_data"
    }
   ],
   "source": [
    "x = interact_manual(visualize_magnitudes,\n",
    "        tensor_dicts=fixed(mean_db_tensors),\n",
    "        im_dict = fixed(orig),\n",
    "        target_dict = fixed(targets),\n",
    "        im_num = (0,len(mean_db_tensors) - 1),\n",
    "        vmin = (0.0,1.0, .01 ),\n",
    "        vmax = (0.0, 1.0, .01), )"
   ]
  },
  {
   "cell_type": "code",
   "execution_count": 49,
   "metadata": {},
   "outputs": [
    {
     "data": {
      "application/vnd.jupyter.widget-view+json": {
       "model_id": "26bbc682698a40b394528414db6bdd11",
       "version_major": 2,
       "version_minor": 0
      },
      "text/plain": [
       "interactive(children=(IntSlider(value=0, description='im_num', max=6), FloatSlider(value=0.0, description='vmi…"
      ]
     },
     "metadata": {},
     "output_type": "display_data"
    }
   ],
   "source": [
    "x = interact_manual(visualize_magnitudes,\n",
    "        tensor_dicts=fixed(std_db_tensors),\n",
    "        im_dict = fixed(orig),\n",
    "        target_dict = fixed(targets),\n",
    "        im_num = (0,len(std_db_tensors) - 1),\n",
    "        vmin = (0.0,1.0, .01 ),\n",
    "        vmax = (0.0, 1.0, .01), )"
   ]
  },
  {
   "cell_type": "code",
   "execution_count": 50,
   "metadata": {},
   "outputs": [
    {
     "data": {
      "application/vnd.jupyter.widget-view+json": {
       "model_id": "24c60efdad7044fc91f27c0045618a75",
       "version_major": 2,
       "version_minor": 0
      },
      "text/plain": [
       "interactive(children=(IntSlider(value=0, description='im_num', max=6), FloatSlider(value=0.0, description='vmi…"
      ]
     },
     "metadata": {},
     "output_type": "display_data"
    }
   ],
   "source": [
    "x = interact_manual(visualize_magnitudes,\n",
    "        tensor_dicts=fixed(mean_rot_tensors),\n",
    "        im_dict = fixed(orig),\n",
    "        target_dict = fixed(targets),\n",
    "        im_num = (0,len(mean_rot_tensors) - 1),\n",
    "        vmin = (0.0,1.0, .01 ),\n",
    "        vmax = (0.0, 1.0, .01), )"
   ]
  },
  {
   "cell_type": "code",
   "execution_count": 51,
   "metadata": {},
   "outputs": [
    {
     "data": {
      "application/vnd.jupyter.widget-view+json": {
       "model_id": "115a6fc0fec94e2fb731b39298e8cc35",
       "version_major": 2,
       "version_minor": 0
      },
      "text/plain": [
       "interactive(children=(IntSlider(value=0, description='im_num', max=6), FloatSlider(value=0.0, description='vmi…"
      ]
     },
     "metadata": {},
     "output_type": "display_data"
    }
   ],
   "source": [
    "x = interact_manual(visualize_magnitudes,\n",
    "        tensor_dicts=fixed(std_rot_tensors),\n",
    "        im_dict = fixed(orig),\n",
    "        target_dict = fixed(targets),\n",
    "        im_num = (0,len(std_rot_tensors) - 1),\n",
    "        vmin = (0.0,1.0, .01 ),\n",
    "        vmax = (0.0, 1.0, .01), )"
   ]
  },
  {
   "cell_type": "code",
   "execution_count": 52,
   "metadata": {},
   "outputs": [
    {
     "data": {
      "application/vnd.jupyter.widget-view+json": {
       "model_id": "16b3c40d36bf40de9fce532e041af1d9",
       "version_major": 2,
       "version_minor": 0
      },
      "text/plain": [
       "interactive(children=(Dropdown(description='key', options=('base_model_.25', 'base_model_1', 'base_model_.0625…"
      ]
     },
     "metadata": {},
     "output_type": "display_data"
    }
   ],
   "source": [
    "x = interact(display_std_hist, \n",
    "            std_dict = fixed(std_db_tensors),\n",
    "            key = list(std_db_tensors.keys()),\n",
    "            im_num = (0, len(std_db_tensors['base_model_1']) - 1),\n",
    "            threshold = (0, 1, .001))\n"
   ]
  },
  {
   "cell_type": "code",
   "execution_count": 53,
   "metadata": {},
   "outputs": [],
   "source": [
    "db_std_mag, db_mean_mag = calculate_magnitudes(std_db_tensors, mean_db_tensors)\n",
    "rot_std_mag, rot_mean_mag = calculate_magnitudes(std_rot_tensors, mean_rot_tensors)"
   ]
  },
  {
   "cell_type": "markdown",
   "metadata": {},
   "source": []
  },
  {
   "cell_type": "code",
   "execution_count": 54,
   "metadata": {},
   "outputs": [
    {
     "data": {
      "text/html": [
       "<div>\n",
       "<style scoped>\n",
       "    .dataframe tbody tr th:only-of-type {\n",
       "        vertical-align: middle;\n",
       "    }\n",
       "\n",
       "    .dataframe tbody tr th {\n",
       "        vertical-align: top;\n",
       "    }\n",
       "\n",
       "    .dataframe thead th {\n",
       "        text-align: right;\n",
       "    }\n",
       "</style>\n",
       "<table border=\"1\" class=\"dataframe\">\n",
       "  <thead>\n",
       "    <tr style=\"text-align: right;\">\n",
       "      <th></th>\n",
       "      <th>im_num</th>\n",
       "      <th>min</th>\n",
       "      <th>max</th>\n",
       "      <th>mean</th>\n",
       "      <th>std</th>\n",
       "      <th>mean_thresholded_0.01</th>\n",
       "      <th>std_thresholded_0.01</th>\n",
       "      <th>mean_thresholded_0.001</th>\n",
       "      <th>std_thresholded_0.001</th>\n",
       "      <th>mean_thresholded_0</th>\n",
       "      <th>std_thresholded_0</th>\n",
       "    </tr>\n",
       "    <tr>\n",
       "      <th>model_name</th>\n",
       "      <th></th>\n",
       "      <th></th>\n",
       "      <th></th>\n",
       "      <th></th>\n",
       "      <th></th>\n",
       "      <th></th>\n",
       "      <th></th>\n",
       "      <th></th>\n",
       "      <th></th>\n",
       "      <th></th>\n",
       "      <th></th>\n",
       "    </tr>\n",
       "  </thead>\n",
       "  <tbody>\n",
       "    <tr>\n",
       "      <th>base_model_.0625</th>\n",
       "      <td>2.5</td>\n",
       "      <td>0.0</td>\n",
       "      <td>0.986358</td>\n",
       "      <td>0.073270</td>\n",
       "      <td>0.186516</td>\n",
       "      <td>0.143478</td>\n",
       "      <td>0.243521</td>\n",
       "      <td>0.106534</td>\n",
       "      <td>0.216880</td>\n",
       "      <td>0.106502</td>\n",
       "      <td>0.216856</td>\n",
       "    </tr>\n",
       "    <tr>\n",
       "      <th>base_model_.25</th>\n",
       "      <td>2.5</td>\n",
       "      <td>0.0</td>\n",
       "      <td>0.998973</td>\n",
       "      <td>0.081503</td>\n",
       "      <td>0.222536</td>\n",
       "      <td>0.273929</td>\n",
       "      <td>0.341553</td>\n",
       "      <td>0.123577</td>\n",
       "      <td>0.264385</td>\n",
       "      <td>0.118475</td>\n",
       "      <td>0.260006</td>\n",
       "    </tr>\n",
       "    <tr>\n",
       "      <th>base_model_1</th>\n",
       "      <td>2.5</td>\n",
       "      <td>0.0</td>\n",
       "      <td>0.999399</td>\n",
       "      <td>0.081400</td>\n",
       "      <td>0.222742</td>\n",
       "      <td>0.283823</td>\n",
       "      <td>0.343921</td>\n",
       "      <td>0.130523</td>\n",
       "      <td>0.270492</td>\n",
       "      <td>0.118325</td>\n",
       "      <td>0.260279</td>\n",
       "    </tr>\n",
       "    <tr>\n",
       "      <th>mf_model</th>\n",
       "      <td>2.5</td>\n",
       "      <td>0.0</td>\n",
       "      <td>0.999529</td>\n",
       "      <td>0.082953</td>\n",
       "      <td>0.222265</td>\n",
       "      <td>0.249057</td>\n",
       "      <td>0.330461</td>\n",
       "      <td>0.122327</td>\n",
       "      <td>0.260806</td>\n",
       "      <td>0.120581</td>\n",
       "      <td>0.259362</td>\n",
       "    </tr>\n",
       "    <tr>\n",
       "      <th>rf_model_128_128_1</th>\n",
       "      <td>2.5</td>\n",
       "      <td>0.0</td>\n",
       "      <td>0.999937</td>\n",
       "      <td>0.088003</td>\n",
       "      <td>0.185005</td>\n",
       "      <td>0.182728</td>\n",
       "      <td>0.233359</td>\n",
       "      <td>0.136030</td>\n",
       "      <td>0.214924</td>\n",
       "      <td>0.127919</td>\n",
       "      <td>0.211217</td>\n",
       "    </tr>\n",
       "    <tr>\n",
       "      <th>rf_model_256_256_.25</th>\n",
       "      <td>2.5</td>\n",
       "      <td>0.0</td>\n",
       "      <td>0.999913</td>\n",
       "      <td>0.084473</td>\n",
       "      <td>0.207979</td>\n",
       "      <td>0.219549</td>\n",
       "      <td>0.290766</td>\n",
       "      <td>0.142673</td>\n",
       "      <td>0.254105</td>\n",
       "      <td>0.122792</td>\n",
       "      <td>0.241135</td>\n",
       "    </tr>\n",
       "    <tr>\n",
       "      <th>rf_model_256_256_1</th>\n",
       "      <td>2.5</td>\n",
       "      <td>0.0</td>\n",
       "      <td>0.999962</td>\n",
       "      <td>0.078294</td>\n",
       "      <td>0.201123</td>\n",
       "      <td>0.203279</td>\n",
       "      <td>0.285547</td>\n",
       "      <td>0.130495</td>\n",
       "      <td>0.245813</td>\n",
       "      <td>0.113811</td>\n",
       "      <td>0.233941</td>\n",
       "    </tr>\n",
       "  </tbody>\n",
       "</table>\n",
       "</div>"
      ],
      "text/plain": [
       "                      im_num  min       max      mean       std  \\\n",
       "model_name                                                        \n",
       "base_model_.0625         2.5  0.0  0.986358  0.073270  0.186516   \n",
       "base_model_.25           2.5  0.0  0.998973  0.081503  0.222536   \n",
       "base_model_1             2.5  0.0  0.999399  0.081400  0.222742   \n",
       "mf_model                 2.5  0.0  0.999529  0.082953  0.222265   \n",
       "rf_model_128_128_1       2.5  0.0  0.999937  0.088003  0.185005   \n",
       "rf_model_256_256_.25     2.5  0.0  0.999913  0.084473  0.207979   \n",
       "rf_model_256_256_1       2.5  0.0  0.999962  0.078294  0.201123   \n",
       "\n",
       "                      mean_thresholded_0.01  std_thresholded_0.01  \\\n",
       "model_name                                                          \n",
       "base_model_.0625                   0.143478              0.243521   \n",
       "base_model_.25                     0.273929              0.341553   \n",
       "base_model_1                       0.283823              0.343921   \n",
       "mf_model                           0.249057              0.330461   \n",
       "rf_model_128_128_1                 0.182728              0.233359   \n",
       "rf_model_256_256_.25               0.219549              0.290766   \n",
       "rf_model_256_256_1                 0.203279              0.285547   \n",
       "\n",
       "                      mean_thresholded_0.001  std_thresholded_0.001  \\\n",
       "model_name                                                            \n",
       "base_model_.0625                    0.106534               0.216880   \n",
       "base_model_.25                      0.123577               0.264385   \n",
       "base_model_1                        0.130523               0.270492   \n",
       "mf_model                            0.122327               0.260806   \n",
       "rf_model_128_128_1                  0.136030               0.214924   \n",
       "rf_model_256_256_.25                0.142673               0.254105   \n",
       "rf_model_256_256_1                  0.130495               0.245813   \n",
       "\n",
       "                      mean_thresholded_0  std_thresholded_0  \n",
       "model_name                                                   \n",
       "base_model_.0625                0.106502           0.216856  \n",
       "base_model_.25                  0.118475           0.260006  \n",
       "base_model_1                    0.118325           0.260279  \n",
       "mf_model                        0.120581           0.259362  \n",
       "rf_model_128_128_1              0.127919           0.211217  \n",
       "rf_model_256_256_.25            0.122792           0.241135  \n",
       "rf_model_256_256_1              0.113811           0.233941  "
      ]
     },
     "execution_count": 54,
     "metadata": {},
     "output_type": "execute_result"
    }
   ],
   "source": [
    "db_mean_mag.groupby('model_name').mean()"
   ]
  },
  {
   "cell_type": "code",
   "execution_count": 55,
   "metadata": {},
   "outputs": [
    {
     "data": {
      "text/html": [
       "<div>\n",
       "<style scoped>\n",
       "    .dataframe tbody tr th:only-of-type {\n",
       "        vertical-align: middle;\n",
       "    }\n",
       "\n",
       "    .dataframe tbody tr th {\n",
       "        vertical-align: top;\n",
       "    }\n",
       "\n",
       "    .dataframe thead th {\n",
       "        text-align: right;\n",
       "    }\n",
       "</style>\n",
       "<table border=\"1\" class=\"dataframe\">\n",
       "  <thead>\n",
       "    <tr style=\"text-align: right;\">\n",
       "      <th></th>\n",
       "      <th>im_num</th>\n",
       "      <th>min</th>\n",
       "      <th>max</th>\n",
       "      <th>mean</th>\n",
       "      <th>std</th>\n",
       "      <th>mean_thresholded_0.01</th>\n",
       "      <th>std_thresholded_0.01</th>\n",
       "      <th>mean_thresholded_0.001</th>\n",
       "      <th>std_thresholded_0.001</th>\n",
       "      <th>mean_thresholded_0</th>\n",
       "      <th>std_thresholded_0</th>\n",
       "    </tr>\n",
       "    <tr>\n",
       "      <th>model_name</th>\n",
       "      <th></th>\n",
       "      <th></th>\n",
       "      <th></th>\n",
       "      <th></th>\n",
       "      <th></th>\n",
       "      <th></th>\n",
       "      <th></th>\n",
       "      <th></th>\n",
       "      <th></th>\n",
       "      <th></th>\n",
       "      <th></th>\n",
       "    </tr>\n",
       "  </thead>\n",
       "  <tbody>\n",
       "    <tr>\n",
       "      <th>base_model_.0625</th>\n",
       "      <td>2.5</td>\n",
       "      <td>0.0</td>\n",
       "      <td>0.290920</td>\n",
       "      <td>0.029831</td>\n",
       "      <td>0.045042</td>\n",
       "      <td>0.053042</td>\n",
       "      <td>0.050470</td>\n",
       "      <td>0.043360</td>\n",
       "      <td>0.048596</td>\n",
       "      <td>0.043360</td>\n",
       "      <td>0.048596</td>\n",
       "    </tr>\n",
       "    <tr>\n",
       "      <th>base_model_.25</th>\n",
       "      <td>2.5</td>\n",
       "      <td>0.0</td>\n",
       "      <td>0.297801</td>\n",
       "      <td>0.016873</td>\n",
       "      <td>0.031429</td>\n",
       "      <td>0.050680</td>\n",
       "      <td>0.040155</td>\n",
       "      <td>0.024989</td>\n",
       "      <td>0.035505</td>\n",
       "      <td>0.024525</td>\n",
       "      <td>0.035324</td>\n",
       "    </tr>\n",
       "    <tr>\n",
       "      <th>base_model_1</th>\n",
       "      <td>2.5</td>\n",
       "      <td>0.0</td>\n",
       "      <td>0.278446</td>\n",
       "      <td>0.014686</td>\n",
       "      <td>0.027340</td>\n",
       "      <td>0.046517</td>\n",
       "      <td>0.034737</td>\n",
       "      <td>0.022515</td>\n",
       "      <td>0.031183</td>\n",
       "      <td>0.021345</td>\n",
       "      <td>0.030727</td>\n",
       "    </tr>\n",
       "    <tr>\n",
       "      <th>mf_model</th>\n",
       "      <td>2.5</td>\n",
       "      <td>0.0</td>\n",
       "      <td>0.286063</td>\n",
       "      <td>0.019093</td>\n",
       "      <td>0.033174</td>\n",
       "      <td>0.051423</td>\n",
       "      <td>0.040247</td>\n",
       "      <td>0.027941</td>\n",
       "      <td>0.036906</td>\n",
       "      <td>0.027751</td>\n",
       "      <td>0.036852</td>\n",
       "    </tr>\n",
       "    <tr>\n",
       "      <th>rf_model_128_128_1</th>\n",
       "      <td>2.5</td>\n",
       "      <td>0.0</td>\n",
       "      <td>0.319807</td>\n",
       "      <td>0.035429</td>\n",
       "      <td>0.052351</td>\n",
       "      <td>0.071200</td>\n",
       "      <td>0.056033</td>\n",
       "      <td>0.053616</td>\n",
       "      <td>0.056270</td>\n",
       "      <td>0.051501</td>\n",
       "      <td>0.056164</td>\n",
       "    </tr>\n",
       "    <tr>\n",
       "      <th>rf_model_256_256_.25</th>\n",
       "      <td>2.5</td>\n",
       "      <td>0.0</td>\n",
       "      <td>0.343904</td>\n",
       "      <td>0.033238</td>\n",
       "      <td>0.057707</td>\n",
       "      <td>0.080075</td>\n",
       "      <td>0.067859</td>\n",
       "      <td>0.053731</td>\n",
       "      <td>0.065382</td>\n",
       "      <td>0.048316</td>\n",
       "      <td>0.064107</td>\n",
       "    </tr>\n",
       "    <tr>\n",
       "      <th>rf_model_256_256_1</th>\n",
       "      <td>2.5</td>\n",
       "      <td>0.0</td>\n",
       "      <td>0.357455</td>\n",
       "      <td>0.027951</td>\n",
       "      <td>0.049488</td>\n",
       "      <td>0.069391</td>\n",
       "      <td>0.059454</td>\n",
       "      <td>0.045081</td>\n",
       "      <td>0.056310</td>\n",
       "      <td>0.040632</td>\n",
       "      <td>0.055153</td>\n",
       "    </tr>\n",
       "  </tbody>\n",
       "</table>\n",
       "</div>"
      ],
      "text/plain": [
       "                      im_num  min       max      mean       std  \\\n",
       "model_name                                                        \n",
       "base_model_.0625         2.5  0.0  0.290920  0.029831  0.045042   \n",
       "base_model_.25           2.5  0.0  0.297801  0.016873  0.031429   \n",
       "base_model_1             2.5  0.0  0.278446  0.014686  0.027340   \n",
       "mf_model                 2.5  0.0  0.286063  0.019093  0.033174   \n",
       "rf_model_128_128_1       2.5  0.0  0.319807  0.035429  0.052351   \n",
       "rf_model_256_256_.25     2.5  0.0  0.343904  0.033238  0.057707   \n",
       "rf_model_256_256_1       2.5  0.0  0.357455  0.027951  0.049488   \n",
       "\n",
       "                      mean_thresholded_0.01  std_thresholded_0.01  \\\n",
       "model_name                                                          \n",
       "base_model_.0625                   0.053042              0.050470   \n",
       "base_model_.25                     0.050680              0.040155   \n",
       "base_model_1                       0.046517              0.034737   \n",
       "mf_model                           0.051423              0.040247   \n",
       "rf_model_128_128_1                 0.071200              0.056033   \n",
       "rf_model_256_256_.25               0.080075              0.067859   \n",
       "rf_model_256_256_1                 0.069391              0.059454   \n",
       "\n",
       "                      mean_thresholded_0.001  std_thresholded_0.001  \\\n",
       "model_name                                                            \n",
       "base_model_.0625                    0.043360               0.048596   \n",
       "base_model_.25                      0.024989               0.035505   \n",
       "base_model_1                        0.022515               0.031183   \n",
       "mf_model                            0.027941               0.036906   \n",
       "rf_model_128_128_1                  0.053616               0.056270   \n",
       "rf_model_256_256_.25                0.053731               0.065382   \n",
       "rf_model_256_256_1                  0.045081               0.056310   \n",
       "\n",
       "                      mean_thresholded_0  std_thresholded_0  \n",
       "model_name                                                   \n",
       "base_model_.0625                0.043360           0.048596  \n",
       "base_model_.25                  0.024525           0.035324  \n",
       "base_model_1                    0.021345           0.030727  \n",
       "mf_model                        0.027751           0.036852  \n",
       "rf_model_128_128_1              0.051501           0.056164  \n",
       "rf_model_256_256_.25            0.048316           0.064107  \n",
       "rf_model_256_256_1              0.040632           0.055153  "
      ]
     },
     "execution_count": 55,
     "metadata": {},
     "output_type": "execute_result"
    }
   ],
   "source": [
    "db_std_mag.groupby('model_name').mean()"
   ]
  },
  {
   "cell_type": "code",
   "execution_count": 56,
   "metadata": {},
   "outputs": [
    {
     "data": {
      "text/html": [
       "<div>\n",
       "<style scoped>\n",
       "    .dataframe tbody tr th:only-of-type {\n",
       "        vertical-align: middle;\n",
       "    }\n",
       "\n",
       "    .dataframe tbody tr th {\n",
       "        vertical-align: top;\n",
       "    }\n",
       "\n",
       "    .dataframe thead th {\n",
       "        text-align: right;\n",
       "    }\n",
       "</style>\n",
       "<table border=\"1\" class=\"dataframe\">\n",
       "  <thead>\n",
       "    <tr style=\"text-align: right;\">\n",
       "      <th></th>\n",
       "      <th>im_num</th>\n",
       "      <th>min</th>\n",
       "      <th>max</th>\n",
       "      <th>mean</th>\n",
       "      <th>std</th>\n",
       "      <th>mean_thresholded_0.01</th>\n",
       "      <th>std_thresholded_0.01</th>\n",
       "      <th>mean_thresholded_0.001</th>\n",
       "      <th>std_thresholded_0.001</th>\n",
       "      <th>mean_thresholded_0</th>\n",
       "      <th>std_thresholded_0</th>\n",
       "    </tr>\n",
       "    <tr>\n",
       "      <th>model_name</th>\n",
       "      <th></th>\n",
       "      <th></th>\n",
       "      <th></th>\n",
       "      <th></th>\n",
       "      <th></th>\n",
       "      <th></th>\n",
       "      <th></th>\n",
       "      <th></th>\n",
       "      <th></th>\n",
       "      <th></th>\n",
       "      <th></th>\n",
       "    </tr>\n",
       "  </thead>\n",
       "  <tbody>\n",
       "    <tr>\n",
       "      <th>base_model_.0625</th>\n",
       "      <td>2.5</td>\n",
       "      <td>0.0</td>\n",
       "      <td>0.998944</td>\n",
       "      <td>0.089509</td>\n",
       "      <td>0.225490</td>\n",
       "      <td>0.232939</td>\n",
       "      <td>0.317766</td>\n",
       "      <td>0.136383</td>\n",
       "      <td>0.266632</td>\n",
       "      <td>0.130107</td>\n",
       "      <td>0.261963</td>\n",
       "    </tr>\n",
       "    <tr>\n",
       "      <th>base_model_.25</th>\n",
       "      <td>2.5</td>\n",
       "      <td>0.0</td>\n",
       "      <td>0.999907</td>\n",
       "      <td>0.092224</td>\n",
       "      <td>0.238747</td>\n",
       "      <td>0.337280</td>\n",
       "      <td>0.358198</td>\n",
       "      <td>0.158430</td>\n",
       "      <td>0.295785</td>\n",
       "      <td>0.134055</td>\n",
       "      <td>0.277928</td>\n",
       "    </tr>\n",
       "    <tr>\n",
       "      <th>base_model_1</th>\n",
       "      <td>2.5</td>\n",
       "      <td>0.0</td>\n",
       "      <td>0.999965</td>\n",
       "      <td>0.087962</td>\n",
       "      <td>0.232245</td>\n",
       "      <td>0.325827</td>\n",
       "      <td>0.352977</td>\n",
       "      <td>0.164448</td>\n",
       "      <td>0.297105</td>\n",
       "      <td>0.127861</td>\n",
       "      <td>0.270728</td>\n",
       "    </tr>\n",
       "    <tr>\n",
       "      <th>mf_model</th>\n",
       "      <td>2.5</td>\n",
       "      <td>0.0</td>\n",
       "      <td>0.999852</td>\n",
       "      <td>0.087938</td>\n",
       "      <td>0.230232</td>\n",
       "      <td>0.306359</td>\n",
       "      <td>0.346928</td>\n",
       "      <td>0.131557</td>\n",
       "      <td>0.271182</td>\n",
       "      <td>0.127826</td>\n",
       "      <td>0.268230</td>\n",
       "    </tr>\n",
       "    <tr>\n",
       "      <th>rf_model_128_128_1</th>\n",
       "      <td>2.5</td>\n",
       "      <td>0.0</td>\n",
       "      <td>0.999203</td>\n",
       "      <td>0.097572</td>\n",
       "      <td>0.188901</td>\n",
       "      <td>0.160544</td>\n",
       "      <td>0.221375</td>\n",
       "      <td>0.142211</td>\n",
       "      <td>0.213495</td>\n",
       "      <td>0.141832</td>\n",
       "      <td>0.213360</td>\n",
       "    </tr>\n",
       "    <tr>\n",
       "      <th>rf_model_256_256_.25</th>\n",
       "      <td>2.5</td>\n",
       "      <td>0.0</td>\n",
       "      <td>0.999993</td>\n",
       "      <td>0.094628</td>\n",
       "      <td>0.225453</td>\n",
       "      <td>0.238703</td>\n",
       "      <td>0.310335</td>\n",
       "      <td>0.154623</td>\n",
       "      <td>0.271578</td>\n",
       "      <td>0.137553</td>\n",
       "      <td>0.260625</td>\n",
       "    </tr>\n",
       "    <tr>\n",
       "      <th>rf_model_256_256_1</th>\n",
       "      <td>2.5</td>\n",
       "      <td>0.0</td>\n",
       "      <td>0.999992</td>\n",
       "      <td>0.090186</td>\n",
       "      <td>0.220066</td>\n",
       "      <td>0.208271</td>\n",
       "      <td>0.298594</td>\n",
       "      <td>0.140191</td>\n",
       "      <td>0.261240</td>\n",
       "      <td>0.131102</td>\n",
       "      <td>0.254948</td>\n",
       "    </tr>\n",
       "  </tbody>\n",
       "</table>\n",
       "</div>"
      ],
      "text/plain": [
       "                      im_num  min       max      mean       std  \\\n",
       "model_name                                                        \n",
       "base_model_.0625         2.5  0.0  0.998944  0.089509  0.225490   \n",
       "base_model_.25           2.5  0.0  0.999907  0.092224  0.238747   \n",
       "base_model_1             2.5  0.0  0.999965  0.087962  0.232245   \n",
       "mf_model                 2.5  0.0  0.999852  0.087938  0.230232   \n",
       "rf_model_128_128_1       2.5  0.0  0.999203  0.097572  0.188901   \n",
       "rf_model_256_256_.25     2.5  0.0  0.999993  0.094628  0.225453   \n",
       "rf_model_256_256_1       2.5  0.0  0.999992  0.090186  0.220066   \n",
       "\n",
       "                      mean_thresholded_0.01  std_thresholded_0.01  \\\n",
       "model_name                                                          \n",
       "base_model_.0625                   0.232939              0.317766   \n",
       "base_model_.25                     0.337280              0.358198   \n",
       "base_model_1                       0.325827              0.352977   \n",
       "mf_model                           0.306359              0.346928   \n",
       "rf_model_128_128_1                 0.160544              0.221375   \n",
       "rf_model_256_256_.25               0.238703              0.310335   \n",
       "rf_model_256_256_1                 0.208271              0.298594   \n",
       "\n",
       "                      mean_thresholded_0.001  std_thresholded_0.001  \\\n",
       "model_name                                                            \n",
       "base_model_.0625                    0.136383               0.266632   \n",
       "base_model_.25                      0.158430               0.295785   \n",
       "base_model_1                        0.164448               0.297105   \n",
       "mf_model                            0.131557               0.271182   \n",
       "rf_model_128_128_1                  0.142211               0.213495   \n",
       "rf_model_256_256_.25                0.154623               0.271578   \n",
       "rf_model_256_256_1                  0.140191               0.261240   \n",
       "\n",
       "                      mean_thresholded_0  std_thresholded_0  \n",
       "model_name                                                   \n",
       "base_model_.0625                0.130107           0.261963  \n",
       "base_model_.25                  0.134055           0.277928  \n",
       "base_model_1                    0.127861           0.270728  \n",
       "mf_model                        0.127826           0.268230  \n",
       "rf_model_128_128_1              0.141832           0.213360  \n",
       "rf_model_256_256_.25            0.137553           0.260625  \n",
       "rf_model_256_256_1              0.131102           0.254948  "
      ]
     },
     "execution_count": 56,
     "metadata": {},
     "output_type": "execute_result"
    }
   ],
   "source": [
    "rot_mean_mag.groupby('model_name').mean()"
   ]
  },
  {
   "cell_type": "code",
   "execution_count": 57,
   "metadata": {},
   "outputs": [
    {
     "data": {
      "text/html": [
       "<div>\n",
       "<style scoped>\n",
       "    .dataframe tbody tr th:only-of-type {\n",
       "        vertical-align: middle;\n",
       "    }\n",
       "\n",
       "    .dataframe tbody tr th {\n",
       "        vertical-align: top;\n",
       "    }\n",
       "\n",
       "    .dataframe thead th {\n",
       "        text-align: right;\n",
       "    }\n",
       "</style>\n",
       "<table border=\"1\" class=\"dataframe\">\n",
       "  <thead>\n",
       "    <tr style=\"text-align: right;\">\n",
       "      <th></th>\n",
       "      <th>im_num</th>\n",
       "      <th>min</th>\n",
       "      <th>max</th>\n",
       "      <th>mean</th>\n",
       "      <th>std</th>\n",
       "      <th>mean_thresholded_0.01</th>\n",
       "      <th>std_thresholded_0.01</th>\n",
       "      <th>mean_thresholded_0.001</th>\n",
       "      <th>std_thresholded_0.001</th>\n",
       "      <th>mean_thresholded_0</th>\n",
       "      <th>std_thresholded_0</th>\n",
       "    </tr>\n",
       "    <tr>\n",
       "      <th>model_name</th>\n",
       "      <th></th>\n",
       "      <th></th>\n",
       "      <th></th>\n",
       "      <th></th>\n",
       "      <th></th>\n",
       "      <th></th>\n",
       "      <th></th>\n",
       "      <th></th>\n",
       "      <th></th>\n",
       "      <th></th>\n",
       "      <th></th>\n",
       "    </tr>\n",
       "  </thead>\n",
       "  <tbody>\n",
       "    <tr>\n",
       "      <th>base_model_.0625</th>\n",
       "      <td>2.5</td>\n",
       "      <td>0.0</td>\n",
       "      <td>0.238858</td>\n",
       "      <td>0.011278</td>\n",
       "      <td>0.022376</td>\n",
       "      <td>0.041025</td>\n",
       "      <td>0.029488</td>\n",
       "      <td>0.020017</td>\n",
       "      <td>0.026852</td>\n",
       "      <td>0.016392</td>\n",
       "      <td>0.025373</td>\n",
       "    </tr>\n",
       "    <tr>\n",
       "      <th>base_model_.25</th>\n",
       "      <td>2.5</td>\n",
       "      <td>0.0</td>\n",
       "      <td>0.276573</td>\n",
       "      <td>0.007111</td>\n",
       "      <td>0.015520</td>\n",
       "      <td>0.032566</td>\n",
       "      <td>0.020723</td>\n",
       "      <td>0.017360</td>\n",
       "      <td>0.020471</td>\n",
       "      <td>0.010334</td>\n",
       "      <td>0.017795</td>\n",
       "    </tr>\n",
       "    <tr>\n",
       "      <th>base_model_1</th>\n",
       "      <td>2.5</td>\n",
       "      <td>0.0</td>\n",
       "      <td>0.252663</td>\n",
       "      <td>0.006770</td>\n",
       "      <td>0.014501</td>\n",
       "      <td>0.030590</td>\n",
       "      <td>0.019115</td>\n",
       "      <td>0.016451</td>\n",
       "      <td>0.018982</td>\n",
       "      <td>0.009839</td>\n",
       "      <td>0.016595</td>\n",
       "    </tr>\n",
       "    <tr>\n",
       "      <th>mf_model</th>\n",
       "      <td>2.5</td>\n",
       "      <td>0.0</td>\n",
       "      <td>0.198608</td>\n",
       "      <td>0.007641</td>\n",
       "      <td>0.014732</td>\n",
       "      <td>0.031201</td>\n",
       "      <td>0.017297</td>\n",
       "      <td>0.016517</td>\n",
       "      <td>0.018248</td>\n",
       "      <td>0.011105</td>\n",
       "      <td>0.016636</td>\n",
       "    </tr>\n",
       "    <tr>\n",
       "      <th>rf_model_128_128_1</th>\n",
       "      <td>2.5</td>\n",
       "      <td>0.0</td>\n",
       "      <td>0.328926</td>\n",
       "      <td>0.033673</td>\n",
       "      <td>0.043456</td>\n",
       "      <td>0.059936</td>\n",
       "      <td>0.043899</td>\n",
       "      <td>0.049252</td>\n",
       "      <td>0.044562</td>\n",
       "      <td>0.048951</td>\n",
       "      <td>0.044597</td>\n",
       "    </tr>\n",
       "    <tr>\n",
       "      <th>rf_model_256_256_.25</th>\n",
       "      <td>2.5</td>\n",
       "      <td>0.0</td>\n",
       "      <td>0.294888</td>\n",
       "      <td>0.021769</td>\n",
       "      <td>0.036454</td>\n",
       "      <td>0.056282</td>\n",
       "      <td>0.041737</td>\n",
       "      <td>0.036943</td>\n",
       "      <td>0.041366</td>\n",
       "      <td>0.031642</td>\n",
       "      <td>0.040197</td>\n",
       "    </tr>\n",
       "    <tr>\n",
       "      <th>rf_model_256_256_1</th>\n",
       "      <td>2.5</td>\n",
       "      <td>0.0</td>\n",
       "      <td>0.324648</td>\n",
       "      <td>0.020102</td>\n",
       "      <td>0.032311</td>\n",
       "      <td>0.049843</td>\n",
       "      <td>0.036508</td>\n",
       "      <td>0.032427</td>\n",
       "      <td>0.035958</td>\n",
       "      <td>0.029221</td>\n",
       "      <td>0.035326</td>\n",
       "    </tr>\n",
       "  </tbody>\n",
       "</table>\n",
       "</div>"
      ],
      "text/plain": [
       "                      im_num  min       max      mean       std  \\\n",
       "model_name                                                        \n",
       "base_model_.0625         2.5  0.0  0.238858  0.011278  0.022376   \n",
       "base_model_.25           2.5  0.0  0.276573  0.007111  0.015520   \n",
       "base_model_1             2.5  0.0  0.252663  0.006770  0.014501   \n",
       "mf_model                 2.5  0.0  0.198608  0.007641  0.014732   \n",
       "rf_model_128_128_1       2.5  0.0  0.328926  0.033673  0.043456   \n",
       "rf_model_256_256_.25     2.5  0.0  0.294888  0.021769  0.036454   \n",
       "rf_model_256_256_1       2.5  0.0  0.324648  0.020102  0.032311   \n",
       "\n",
       "                      mean_thresholded_0.01  std_thresholded_0.01  \\\n",
       "model_name                                                          \n",
       "base_model_.0625                   0.041025              0.029488   \n",
       "base_model_.25                     0.032566              0.020723   \n",
       "base_model_1                       0.030590              0.019115   \n",
       "mf_model                           0.031201              0.017297   \n",
       "rf_model_128_128_1                 0.059936              0.043899   \n",
       "rf_model_256_256_.25               0.056282              0.041737   \n",
       "rf_model_256_256_1                 0.049843              0.036508   \n",
       "\n",
       "                      mean_thresholded_0.001  std_thresholded_0.001  \\\n",
       "model_name                                                            \n",
       "base_model_.0625                    0.020017               0.026852   \n",
       "base_model_.25                      0.017360               0.020471   \n",
       "base_model_1                        0.016451               0.018982   \n",
       "mf_model                            0.016517               0.018248   \n",
       "rf_model_128_128_1                  0.049252               0.044562   \n",
       "rf_model_256_256_.25                0.036943               0.041366   \n",
       "rf_model_256_256_1                  0.032427               0.035958   \n",
       "\n",
       "                      mean_thresholded_0  std_thresholded_0  \n",
       "model_name                                                   \n",
       "base_model_.0625                0.016392           0.025373  \n",
       "base_model_.25                  0.010334           0.017795  \n",
       "base_model_1                    0.009839           0.016595  \n",
       "mf_model                        0.011105           0.016636  \n",
       "rf_model_128_128_1              0.048951           0.044597  \n",
       "rf_model_256_256_.25            0.031642           0.040197  \n",
       "rf_model_256_256_1              0.029221           0.035326  "
      ]
     },
     "execution_count": 57,
     "metadata": {},
     "output_type": "execute_result"
    }
   ],
   "source": [
    "rot_std_mag.groupby('model_name').mean()"
   ]
  },
  {
   "cell_type": "code",
   "execution_count": null,
   "metadata": {},
   "outputs": [],
   "source": []
  }
 ],
 "metadata": {
  "interpreter": {
   "hash": "8cd0503a7256b6879885e7a0d555cf87c9094c8c446a8a7b20536b9bce8ed19f"
  },
  "kernelspec": {
   "display_name": "Python 3.7.3 64-bit",
   "language": "python",
   "name": "python3"
  },
  "language_info": {
   "codemirror_mode": {
    "name": "ipython",
    "version": 3
   },
   "file_extension": ".py",
   "mimetype": "text/x-python",
   "name": "python",
   "nbconvert_exporter": "python",
   "pygments_lexer": "ipython3",
   "version": "3.7.3"
  },
  "orig_nbformat": 4
 },
 "nbformat": 4,
 "nbformat_minor": 2
}
