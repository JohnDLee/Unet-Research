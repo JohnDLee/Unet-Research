{
 "cells": [
  {
   "cell_type": "code",
   "execution_count": 156,
   "metadata": {},
   "outputs": [],
   "source": [
    "import sys\n",
    "import os\n",
    "from os.path import join\n",
    "import torch\n",
    "import matplotlib.pyplot as plt\n",
    "import numpy as np\n",
    "from PIL import Image\n",
    "from ipywidgets import interact_manual,interact, fixed\n",
    "import math\n",
    "import cv2\n"
   ]
  },
  {
   "cell_type": "markdown",
   "metadata": {},
   "source": [
    "# Preliminary Uncertainty Tests"
   ]
  },
  {
   "cell_type": "markdown",
   "metadata": {},
   "source": [
    "Functions"
   ]
  },
  {
   "cell_type": "code",
   "execution_count": 2,
   "metadata": {},
   "outputs": [],
   "source": [
    "def extract_tensors(path, tensor_name):\n",
    "    '''extracts tensors from path (as created when any uncertainty test is ran'''\n",
    "    # get only the correct folders\n",
    "    folders = []\n",
    "    for sub_path in os.listdir(path):\n",
    "        if sub_path.startswith('image'):\n",
    "            folders.append( sub_path)\n",
    "    \n",
    "    # extract tensors\n",
    "    all_images = {}\n",
    "    for im_folder in folders:\n",
    "        im_path = join(path, im_folder)\n",
    "        # save the tensors in their own dict according to name before\n",
    "        for tensor in os.listdir(im_path):\n",
    "            if tensor == tensor_name:\n",
    "                tensor_path = join(im_path, tensor)\n",
    "                all_images[int(im_folder.split('_')[-1])] = torch.load(tensor_path, map_location = 'cpu')\n",
    "    return all_images\n"
   ]
  },
  {
   "cell_type": "code",
   "execution_count": 3,
   "metadata": {},
   "outputs": [],
   "source": [
    "def display_tensor(tensor_dict:dict, im_dict:dict, target_dict:dict, im_num: int = 0 , vmin:float = 0, vmax: float = 1):\n",
    "    fig, ax = plt.subplots(1,3, figsize = (18, 12))\n",
    "    im1 = ax[0].imshow(im_dict[im_num], cmap = 'gray',)\n",
    "    im2 = ax[1].imshow(tensor_dict[im_num][0][0].numpy(), cmap = 'gray', vmin = vmin, vmax = vmax)\n",
    "    im3 = ax[2].imshow(target_dict[im_num], cmap = 'gray', )\n",
    "    ax[0].set_title('Orig')\n",
    "    ax[1].set_title('Expected')\n",
    "    ax[2].set_title('GT')\n",
    "    fig.show()\n",
    "    print('Min: ' ,torch.min(tensor_dict[im_num][0][0]).item())\n",
    "    print('Max: ' ,torch.max(tensor_dict[im_num][0][0]).item())"
   ]
  },
  {
   "cell_type": "code",
   "execution_count": 4,
   "metadata": {},
   "outputs": [],
   "source": [
    "def compare_tensor(tensor_dict1:dict, tensor_dict2:dict, im_dict:dict, target_dict:dict, im_num: int = 0 , vmin:float = 0, vmax: float = 1):\n",
    "    fig, ax = plt.subplots(1,4, figsize = (30, 28))\n",
    "    im1 = ax[0].imshow(im_dict[im_num], cmap = 'gray',)\n",
    "    im2 = ax[1].imshow(tensor_dict1[im_num][0][0].numpy(), cmap = 'gray', vmin = vmin, vmax = vmax)\n",
    "    im3 = ax[2].imshow(tensor_dict2[im_num][0][0].numpy(), cmap = 'gray', vmin = vmin, vmax = vmax)\n",
    "    im4 = ax[3].imshow(target_dict[im_num], cmap = 'gray', )\n",
    "    ax[0].set_title('Orig')\n",
    "    ax[1].set_title('Independent')\n",
    "    ax[2].set_title('Dependent')\n",
    "    ax[3].set_title('GT')\n",
    "    fig.show()\n",
    "    print(f'Min: I:{torch.min(tensor_dict1[im_num][0][0]).item():7.5f} D: {torch.max(tensor_dict2[im_num][0][0]).item():7.5f}', )\n",
    "    print(f'Min: I:{torch.max(tensor_dict1[im_num][0][0]).item():7.5f} D: {torch.max(tensor_dict2[im_num][0][0]).item():7.5f}', )"
   ]
  },
  {
   "cell_type": "code",
   "execution_count": 5,
   "metadata": {},
   "outputs": [],
   "source": [
    "def pseudo_anim(tensor_dict: dict, val_num: int = 0 , im_num: int = 0 ):\n",
    "    ''' creates an animated gif using images\n",
    "    \n",
    "    output:\n",
    "    creates a gif'''\n",
    "\n",
    "    fig, ax = plt.subplots(1,1, figsize = (8, 8))\n",
    "    ax.imshow(tensor_dict[val_num][im_num][0][0].numpy(), cmap = 'gray', vmin = 0, vmax = 1)\n",
    "    fig.show()\n",
    "    "
   ]
  },
  {
   "cell_type": "code",
   "execution_count": null,
   "metadata": {},
   "outputs": [],
   "source": []
  },
  {
   "cell_type": "markdown",
   "metadata": {},
   "source": [
    "Root Directory - change if different (make sure corresponding internal files are also changed)"
   ]
  },
  {
   "cell_type": "code",
   "execution_count": 6,
   "metadata": {},
   "outputs": [
    {
     "name": "stdout",
     "output_type": "stream",
     "text": [
      "['model_info', 'lightning_logs', 'test_statistics', 'dropblock_uncertainty_i', 'rotational_uncertainty', 'test_statistics_32_32', 'test_statistics_128_128', 'test_statistics_64_64', 'test_statistics_256_256', 'dropblock_uncertainty_d']\n"
     ]
    }
   ],
   "source": [
    "root = '../results/base_model'\n",
    "\n",
    "print(os.listdir(root))"
   ]
  },
  {
   "cell_type": "markdown",
   "metadata": {},
   "source": [
    "Validation Images"
   ]
  },
  {
   "cell_type": "code",
   "execution_count": 7,
   "metadata": {},
   "outputs": [],
   "source": [
    "val_root_images = '../augmented_data/val/images'\n",
    "orig = {}\n",
    "# retrieves validation images as grayscale\n",
    "for im in os.listdir(val_root_images):\n",
    "    orig[int(im.split('_')[0])] = np.array(Image.open(join(val_root_images, im)).convert('L'))\n",
    "\n",
    "val_root_targets = '../augmented_data/val/targets'\n",
    "targets = {}\n",
    "for im in os.listdir(val_root_targets):\n",
    "    targets[int(im.split('_')[0])] = np.array(Image.open(join(val_root_targets, im)).convert('L'))\n",
    "\n",
    "mask_root_targets = '../augmented_data/val/masks'\n",
    "masks = {}\n",
    "for im in os.listdir(mask_root_targets):\n",
    "    masks[int(im.split('_')[0])] = np.array(Image.open(join(mask_root_targets, im)).convert('L'))\n"
   ]
  },
  {
   "cell_type": "markdown",
   "metadata": {},
   "source": [
    "# Monte Carlo Dropblock - Dependent Channels"
   ]
  },
  {
   "cell_type": "code",
   "execution_count": 8,
   "metadata": {},
   "outputs": [],
   "source": [
    "DB_d_path = join(root, 'dropblock_uncertainty_d/tensors')\n",
    "\n",
    "DB_d_mean_tensors = extract_tensors(DB_d_path, 'mean.pt')\n",
    "DB_d_tensors = extract_tensors(DB_d_path, 'std.pt')\n",
    "DB_d_extra_tensors = extract_tensors(DB_d_path, 'tensors.pt')"
   ]
  },
  {
   "cell_type": "markdown",
   "metadata": {},
   "source": [
    "Means"
   ]
  },
  {
   "cell_type": "code",
   "execution_count": 9,
   "metadata": {},
   "outputs": [
    {
     "data": {
      "application/vnd.jupyter.widget-view+json": {
       "model_id": "2178e455c374451799099aac2757eae8",
       "version_major": 2,
       "version_minor": 0
      },
      "text/plain": [
       "interactive(children=(IntSlider(value=0, description='im_num', max=5), FloatSlider(value=0.0, description='vmi…"
      ]
     },
     "metadata": {},
     "output_type": "display_data"
    }
   ],
   "source": [
    "x = interact(display_tensor,\n",
    "        tensor_dict=fixed(DB_d_mean_tensors),\n",
    "        im_dict = fixed(orig),\n",
    "        target_dict = fixed(targets),\n",
    "        im_num = (0,len(DB_d_mean_tensors) -1),\n",
    "        vmin = (0.0,1.0, .01 ),\n",
    "        vmax = (0.0, 1.0, .01))"
   ]
  },
  {
   "cell_type": "markdown",
   "metadata": {},
   "source": [
    "STD"
   ]
  },
  {
   "cell_type": "code",
   "execution_count": 10,
   "metadata": {},
   "outputs": [
    {
     "data": {
      "application/vnd.jupyter.widget-view+json": {
       "model_id": "c45896422eb947a787d60004cc6c7a8a",
       "version_major": 2,
       "version_minor": 0
      },
      "text/plain": [
       "interactive(children=(IntSlider(value=0, description='im_num', max=5), FloatSlider(value=0.0, description='vmi…"
      ]
     },
     "metadata": {},
     "output_type": "display_data"
    }
   ],
   "source": [
    "x = interact(display_tensor,\n",
    "        tensor_dict=fixed(DB_d_tensors),\n",
    "        im_dict = fixed(orig),\n",
    "        target_dict = fixed(targets),\n",
    "        im_num = (0,len(DB_d_tensors) -1),\n",
    "        vmin = (0.0,1.0, .01 ),\n",
    "        vmax = (0.0, 1.0, .01), )"
   ]
  },
  {
   "cell_type": "markdown",
   "metadata": {},
   "source": [
    "View 25 Examples"
   ]
  },
  {
   "cell_type": "code",
   "execution_count": 11,
   "metadata": {},
   "outputs": [
    {
     "data": {
      "application/vnd.jupyter.widget-view+json": {
       "model_id": "fcd889b41db6465ca681242dc5c34284",
       "version_major": 2,
       "version_minor": 0
      },
      "text/plain": [
       "interactive(children=(IntSlider(value=0, description='val_num', max=5), IntSlider(value=0, description='im_num…"
      ]
     },
     "metadata": {},
     "output_type": "display_data"
    }
   ],
   "source": [
    "x = interact(pseudo_anim, \n",
    "                tensor_dict = fixed(DB_d_extra_tensors),\n",
    "                val_num =  (0,len(DB_d_extra_tensors) -1),\n",
    "                im_num = (0, len(DB_d_extra_tensors[0]) -1))"
   ]
  },
  {
   "cell_type": "markdown",
   "metadata": {},
   "source": [
    "# Monte Carlo Dropblock = Independent"
   ]
  },
  {
   "cell_type": "code",
   "execution_count": 12,
   "metadata": {},
   "outputs": [],
   "source": [
    "DB_i_path = join(root, 'dropblock_uncertainty_i/tensors')\n",
    "\n",
    "DB_i_mean_tensors = extract_tensors(DB_i_path, 'mean.pt')\n",
    "DB_i_tensors = extract_tensors(DB_i_path, 'std.pt')\n",
    "DB_i_extra_tensors = extract_tensors(DB_i_path, 'tensors.pt')"
   ]
  },
  {
   "cell_type": "markdown",
   "metadata": {},
   "source": [
    "Mean"
   ]
  },
  {
   "cell_type": "code",
   "execution_count": 13,
   "metadata": {},
   "outputs": [
    {
     "data": {
      "application/vnd.jupyter.widget-view+json": {
       "model_id": "ea8c80b40fce4ba982a7a5ddd90d756a",
       "version_major": 2,
       "version_minor": 0
      },
      "text/plain": [
       "interactive(children=(IntSlider(value=0, description='im_num', max=5), FloatSlider(value=0.0, description='vmi…"
      ]
     },
     "metadata": {},
     "output_type": "display_data"
    }
   ],
   "source": [
    "x = interact(display_tensor,\n",
    "        tensor_dict=fixed(DB_i_mean_tensors),\n",
    "        im_dict = fixed(orig),\n",
    "        target_dict = fixed(targets),\n",
    "        im_num = (0,len(DB_i_mean_tensors) -1),\n",
    "        vmin = (0.0,1.0, .01 ),\n",
    "        vmax = (0.0, 1.0, .01), )"
   ]
  },
  {
   "cell_type": "markdown",
   "metadata": {},
   "source": [
    "STD"
   ]
  },
  {
   "cell_type": "code",
   "execution_count": 14,
   "metadata": {},
   "outputs": [
    {
     "data": {
      "application/vnd.jupyter.widget-view+json": {
       "model_id": "115e276f910145cb80b173b083a6376d",
       "version_major": 2,
       "version_minor": 0
      },
      "text/plain": [
       "interactive(children=(IntSlider(value=0, description='im_num', max=5), FloatSlider(value=0.0, description='vmi…"
      ]
     },
     "metadata": {},
     "output_type": "display_data"
    }
   ],
   "source": [
    "x = interact(display_tensor,\n",
    "        tensor_dict=fixed(DB_i_tensors),\n",
    "        im_dict = fixed(orig),\n",
    "        target_dict = fixed(targets),\n",
    "        im_num = (0,len(DB_i_tensors) -1),\n",
    "        vmin = (0.0,1.0, .01 ),\n",
    "        vmax = (0.0, 1.0, .01), )"
   ]
  },
  {
   "cell_type": "markdown",
   "metadata": {},
   "source": [
    "View 25 Tensors"
   ]
  },
  {
   "cell_type": "code",
   "execution_count": 15,
   "metadata": {},
   "outputs": [
    {
     "data": {
      "application/vnd.jupyter.widget-view+json": {
       "model_id": "dfda29facfbc44b7bb3371cc815235ba",
       "version_major": 2,
       "version_minor": 0
      },
      "text/plain": [
       "interactive(children=(IntSlider(value=0, description='val_num', max=5), IntSlider(value=0, description='im_num…"
      ]
     },
     "metadata": {},
     "output_type": "display_data"
    },
    {
     "data": {
      "text/plain": [
       "<function __main__.pseudo_anim(tensor_dict: dict, val_num: int = 0, im_num: int = 0)>"
      ]
     },
     "execution_count": 15,
     "metadata": {},
     "output_type": "execute_result"
    }
   ],
   "source": [
    "interact(pseudo_anim, \n",
    "                tensor_dict = fixed(DB_i_extra_tensors),\n",
    "                val_num =  (0,len(DB_i_extra_tensors) -1),\n",
    "                im_num = (0, len(DB_i_extra_tensors[0]) -1))"
   ]
  },
  {
   "cell_type": "markdown",
   "metadata": {},
   "source": [
    "# Independent vs Dependent"
   ]
  },
  {
   "cell_type": "markdown",
   "metadata": {},
   "source": [
    "Mean"
   ]
  },
  {
   "cell_type": "code",
   "execution_count": 16,
   "metadata": {},
   "outputs": [
    {
     "data": {
      "application/vnd.jupyter.widget-view+json": {
       "model_id": "de90b6ff092a424683be9f7eaba065cd",
       "version_major": 2,
       "version_minor": 0
      },
      "text/plain": [
       "interactive(children=(IntSlider(value=0, description='im_num', max=5), FloatSlider(value=0.0, description='vmi…"
      ]
     },
     "metadata": {},
     "output_type": "display_data"
    }
   ],
   "source": [
    "x = interact(compare_tensor,\n",
    "        tensor_dict1=fixed(DB_i_mean_tensors),\n",
    "        tensor_dict2=fixed(DB_d_mean_tensors),\n",
    "        im_dict = fixed(orig),\n",
    "        target_dict = fixed(targets),\n",
    "        im_num = (0,len(DB_i_mean_tensors) -1),\n",
    "        vmin = (0.0,1.0, .01 ),\n",
    "        vmax = (0.0, 1.0, .01), )"
   ]
  },
  {
   "cell_type": "markdown",
   "metadata": {},
   "source": [
    "STD"
   ]
  },
  {
   "cell_type": "code",
   "execution_count": 17,
   "metadata": {},
   "outputs": [
    {
     "data": {
      "application/vnd.jupyter.widget-view+json": {
       "model_id": "da7b9ab3e6d0463fa6ea1fbab1e0b603",
       "version_major": 2,
       "version_minor": 0
      },
      "text/plain": [
       "interactive(children=(IntSlider(value=0, description='im_num', max=5), FloatSlider(value=0.0, description='vmi…"
      ]
     },
     "metadata": {},
     "output_type": "display_data"
    }
   ],
   "source": [
    "x = interact(compare_tensor,\n",
    "        tensor_dict1=fixed(DB_i_tensors),\n",
    "        tensor_dict2=fixed(DB_d_tensors),\n",
    "        im_dict = fixed(orig),\n",
    "        target_dict = fixed(targets),\n",
    "        im_num = (0,len(DB_i_tensors) -1),\n",
    "        vmin = (0.0,1.0, .01 ),\n",
    "        vmax = (0.0, 1.0, .01), )"
   ]
  },
  {
   "cell_type": "markdown",
   "metadata": {},
   "source": [
    "# Rotational Uncertainty"
   ]
  },
  {
   "cell_type": "code",
   "execution_count": 18,
   "metadata": {},
   "outputs": [],
   "source": [
    "rotation_path = join(root, 'rotational_uncertainty')\n",
    "\n",
    "rotation_mean_tensors = extract_tensors(rotation_path, 'mean.pt')\n",
    "rotation_tensors = extract_tensors(rotation_path, 'std.pt')\n",
    "rotation_extra_tensors = extract_tensors(rotation_path, 'tensors.pt')"
   ]
  },
  {
   "cell_type": "code",
   "execution_count": 19,
   "metadata": {},
   "outputs": [
    {
     "data": {
      "text/plain": [
       "torch.Size([1, 1, 584, 565])"
      ]
     },
     "execution_count": 19,
     "metadata": {},
     "output_type": "execute_result"
    }
   ],
   "source": [
    "rotation_mean_tensors[0].shape"
   ]
  },
  {
   "cell_type": "markdown",
   "metadata": {},
   "source": [
    "Mean"
   ]
  },
  {
   "cell_type": "code",
   "execution_count": 20,
   "metadata": {},
   "outputs": [
    {
     "data": {
      "application/vnd.jupyter.widget-view+json": {
       "model_id": "906748a43fc947268635db5eb8e9cb40",
       "version_major": 2,
       "version_minor": 0
      },
      "text/plain": [
       "interactive(children=(IntSlider(value=0, description='im_num', max=5), FloatSlider(value=0.0, description='vmi…"
      ]
     },
     "metadata": {},
     "output_type": "display_data"
    }
   ],
   "source": [
    "x = interact(display_tensor,\n",
    "        tensor_dict=fixed(rotation_mean_tensors),\n",
    "        im_dict = fixed(orig),\n",
    "        target_dict = fixed(targets),\n",
    "        im_num = (0,len(rotation_mean_tensors) -1),\n",
    "        vmin = (0.0,1.0, .01 ),\n",
    "        vmax = (0.0, 1.0, .01), )"
   ]
  },
  {
   "cell_type": "markdown",
   "metadata": {},
   "source": [
    "STD"
   ]
  },
  {
   "cell_type": "code",
   "execution_count": 21,
   "metadata": {},
   "outputs": [
    {
     "data": {
      "application/vnd.jupyter.widget-view+json": {
       "model_id": "2a737a1a92ab4465b3870fbbe86f2fae",
       "version_major": 2,
       "version_minor": 0
      },
      "text/plain": [
       "interactive(children=(IntSlider(value=0, description='im_num', max=5), FloatSlider(value=0.0, description='vmi…"
      ]
     },
     "metadata": {},
     "output_type": "display_data"
    }
   ],
   "source": [
    "x = interact(display_tensor,\n",
    "        tensor_dict=fixed(rotation_tensors),\n",
    "        im_dict = fixed(orig),\n",
    "        target_dict = fixed(targets),\n",
    "        im_num = (0,len(rotation_tensors) -1),\n",
    "        vmin = (0.0,1.0, .01 ),\n",
    "        vmax = (0.0, 1.0, .01), )"
   ]
  },
  {
   "cell_type": "markdown",
   "metadata": {},
   "source": [
    "View 25 Images"
   ]
  },
  {
   "cell_type": "code",
   "execution_count": 22,
   "metadata": {},
   "outputs": [
    {
     "data": {
      "application/vnd.jupyter.widget-view+json": {
       "model_id": "a672e77402f34203b52fd25030dfcaef",
       "version_major": 2,
       "version_minor": 0
      },
      "text/plain": [
       "interactive(children=(IntSlider(value=0, description='val_num', max=5), IntSlider(value=0, description='im_num…"
      ]
     },
     "metadata": {},
     "output_type": "display_data"
    }
   ],
   "source": [
    "x = interact(pseudo_anim, \n",
    "                tensor_dict = fixed(rotation_extra_tensors),\n",
    "                val_num =  (0,len(rotation_extra_tensors) -1),\n",
    "                im_num = (0, len(rotation_extra_tensors[0]) -1))"
   ]
  },
  {
   "cell_type": "code",
   "execution_count": null,
   "metadata": {},
   "outputs": [],
   "source": []
  },
  {
   "cell_type": "code",
   "execution_count": null,
   "metadata": {},
   "outputs": [],
   "source": []
  },
  {
   "cell_type": "code",
   "execution_count": null,
   "metadata": {},
   "outputs": [],
   "source": []
  },
  {
   "cell_type": "markdown",
   "metadata": {},
   "source": [
    "# Testing Function"
   ]
  },
  {
   "cell_type": "code",
   "execution_count": 23,
   "metadata": {},
   "outputs": [],
   "source": [
    "\n",
    "def visualize_magnitudes(\n",
    "                tensor_dicts,\n",
    "                im_dict,\n",
    "                target_dict,\n",
    "                im_num = 0,\n",
    "                vmin = 0,\n",
    "                vmax = 1):\n",
    "        arr = len(tensor_dicts) + 2\n",
    "\n",
    "        cols = 4\n",
    "        rows = math.ceil(arr / 4)\n",
    "\n",
    "        fig, axes = plt.subplots(rows, cols, figsize = (8 * cols, 8*rows))\n",
    "\n",
    "        axes = axes.flatten()\n",
    "\n",
    "        axes[0].imshow(im_dict[im_num], cmap = 'gray',)\n",
    "        axes[0].set_title('Input Image')\n",
    "        for model_id, (model_name, model_dict) in enumerate(tensor_dicts.items()):\n",
    "                model_id = model_id + 1\n",
    "                axes[model_id].imshow(model_dict[im_num][0][0].numpy(), cmap = 'gray', vmin = vmin, vmax = vmax)\n",
    "                axes[model_id].set_title(model_name)\n",
    "        axes[-1].imshow(target_dict[im_num], cmap = 'gray',)\n",
    "        axes[-1].set_title('GT Image')\n",
    "        \n",
    "        fig.show()"
   ]
  },
  {
   "cell_type": "code",
   "execution_count": 24,
   "metadata": {},
   "outputs": [],
   "source": [
    "def calculate_magnitudes(std_dicts, mean_dicts):\n",
    "\n",
    "        cols = ['model_name', 'im_num', 'min', 'max','mean', 'std',  'mean_thresholded_0.01', 'std_thresholded_0.01','mean_thresholded_0.001','std_thresholded_0.001','mean_thresholded_0','std_thresholded_0',]\n",
    "        data = dict(zip(cols, [[] for i in range(len(cols))]))\n",
    "        data2 = dict(zip(cols, [[] for i in range(len(cols))]))\n",
    "\n",
    "        for model_id, (model_name, model_dict) in enumerate(std_dicts.items()):\n",
    "                for im_num in model_dict:\n",
    "                        \n",
    "                        std_data = model_dict[im_num][0][0].flatten()\n",
    "                        data['model_name'].append(model_name)\n",
    "                        data['im_num'].append(im_num)\n",
    "                        data['min'].append(torch.min(std_data).item())\n",
    "                        data['max'].append(torch.max(std_data).item())\n",
    "                        data['mean'].append(torch.mean(std_data).item())\n",
    "                        data['std'].append(torch.std(std_data).item())\n",
    "                        data['mean_thresholded_0.01'].append(torch.mean(std_data[std_data > 0.01]).item())\n",
    "                        data['std_thresholded_0.01'].append(torch.std(std_data[std_data > 0.01]).item())\n",
    "                        data['mean_thresholded_0.001'].append(torch.mean(std_data[std_data > 0.001]).item())\n",
    "                        data['std_thresholded_0.001'].append(torch.std(std_data[std_data > 0.001]).item())\n",
    "                        data['mean_thresholded_0'].append(torch.mean(std_data[std_data > 0]).item())\n",
    "                        data['std_thresholded_0'].append(torch.std(std_data[std_data > 0]).item())\n",
    "\n",
    "        for model_id, (model_name, model_dict) in enumerate(mean_dicts.items()):\n",
    "                for im_num in model_dict:\n",
    "                        mean_data = model_dict[im_num][0][0].flatten()\n",
    "                        data2['model_name'].append(model_name)\n",
    "                        data2['im_num'].append(im_num)\n",
    "                        data2['min'].append(torch.min(mean_data).item())\n",
    "                        data2['max'].append(torch.max(mean_data).item())\n",
    "                        data2['mean'].append(torch.mean(mean_data).item())\n",
    "                        data2['std'].append(torch.std(mean_data).item())\n",
    "                        data2['mean_thresholded_0.01'].append(torch.mean(mean_data[mean_data > 0.01]).item())\n",
    "                        data2['std_thresholded_0.01'].append(torch.std(mean_data[mean_data > 0.01]).item())\n",
    "                        data2['mean_thresholded_0.001'].append(torch.mean(mean_data[mean_data > 0.001]).item())\n",
    "                        data2['std_thresholded_0.001'].append(torch.std(mean_data[mean_data > 0.001]).item())\n",
    "                        data2['mean_thresholded_0'].append(torch.mean(mean_data[mean_data > 0]).item())\n",
    "                        data2['std_thresholded_0'].append(torch.std(mean_data[mean_data > 0]).item())\n",
    "        \n",
    "        return pd.DataFrame(data, columns = cols), pd.DataFrame(data2, columns = cols)"
   ]
  },
  {
   "cell_type": "code",
   "execution_count": 25,
   "metadata": {},
   "outputs": [],
   "source": [
    "def display_std_hist(std_dict, key = 'BM-1', im_num = 0, threshold = .01):\n",
    "    data = std_dict[key][im_num].flatten()\n",
    "    data = data[data > threshold]\n",
    "    print(\"Data size:\", len(data))\n",
    "    plt.hist(data)"
   ]
  },
  {
   "cell_type": "code",
   "execution_count": 26,
   "metadata": {},
   "outputs": [],
   "source": [
    "def display_agg_std_hist(std_dict, key = 'BM-1', threshold = .01):\n",
    "    data = torch.cat(list(std_dict[key].values())).flatten()\n",
    "    data = data[data > threshold]\n",
    "    print(\"Data size:\", len(data))\n",
    "    plt.hist(data, bins = 'auto')"
   ]
  },
  {
   "cell_type": "code",
   "execution_count": null,
   "metadata": {},
   "outputs": [],
   "source": []
  },
  {
   "cell_type": "code",
   "execution_count": 27,
   "metadata": {},
   "outputs": [],
   "source": [
    "def add_data(path, name, df):\n",
    "    temp = pd.read_csv(path, index_col = 0)\n",
    "    temp['name'] = name\n",
    "    return pd.concat([df, temp])"
   ]
  },
  {
   "cell_type": "markdown",
   "metadata": {},
   "source": [
    "# Test 1 - equivalent data, rf trained with no knowledge of higher fidelity"
   ]
  },
  {
   "cell_type": "code",
   "execution_count": 28,
   "metadata": {},
   "outputs": [],
   "source": [
    "import pandas as pd"
   ]
  },
  {
   "cell_type": "markdown",
   "metadata": {},
   "source": []
  },
  {
   "cell_type": "code",
   "execution_count": 161,
   "metadata": {},
   "outputs": [],
   "source": [
    "all_data = pd.DataFrame()\n",
    "mean_db_tensors = {}\n",
    "std_db_tensors = {}\n",
    "mean_rot_tensors = {}\n",
    "std_rot_tensors = {}\n",
    "seg_tensors = {}\n"
   ]
  },
  {
   "cell_type": "code",
   "execution_count": 162,
   "metadata": {},
   "outputs": [],
   "source": [
    "models = 'BM-1 BM-2 BM-3 MF-1 MF-2 LF-1 LF-2 LF-3 LF-4 LF-5 LF-6'.split()"
   ]
  },
  {
   "cell_type": "code",
   "execution_count": 163,
   "metadata": {},
   "outputs": [],
   "source": [
    "drive_root = '../results/DRIVE/'\n",
    "#models\n",
    "for model_id in models:\n",
    "    path = join(drive_root, model_id)\n",
    "    # reg\n",
    "    all_data = add_data(join(path, 'statistics/val_images/metrics.csv'), name = model_id, df =  all_data)\n",
    "    # db\n",
    "    all_data = add_data(join(path, 'dropblock_uncertainty/statistics/val_images/metrics.csv'), name = f'{model_id}_DB', df = all_data)\n",
    "    seg_tensors[model_id] = extract_tensors(join(path, 'statistics/val_images/tensors'), 'segmentation.pt')\n",
    "    mean_db_tensors[model_id] = extract_tensors(join(path, 'dropblock_uncertainty/tensors'), 'mean.pt')\n",
    "    std_db_tensors[model_id] = extract_tensors(join(path, 'dropblock_uncertainty/tensors'), 'std.pt')\n",
    "    mean_rot_tensors[model_id] = extract_tensors(join(path, 'rotation_uncertainty'), 'mean.pt')\n",
    "    std_rot_tensors[model_id] = extract_tensors(join(path, 'rotation_uncertainty'), 'std.pt')"
   ]
  },
  {
   "cell_type": "code",
   "execution_count": 164,
   "metadata": {},
   "outputs": [
    {
     "data": {
      "text/html": [
       "<div>\n",
       "<style scoped>\n",
       "    .dataframe tbody tr th:only-of-type {\n",
       "        vertical-align: middle;\n",
       "    }\n",
       "\n",
       "    .dataframe tbody tr th {\n",
       "        vertical-align: top;\n",
       "    }\n",
       "\n",
       "    .dataframe thead th {\n",
       "        text-align: right;\n",
       "    }\n",
       "</style>\n",
       "<table border=\"1\" class=\"dataframe\">\n",
       "  <thead>\n",
       "    <tr style=\"text-align: right;\">\n",
       "      <th></th>\n",
       "      <th>F1_Vessel</th>\n",
       "      <th>AUROC_Vessel</th>\n",
       "      <th>Accuracy_Vessel</th>\n",
       "    </tr>\n",
       "    <tr>\n",
       "      <th>name</th>\n",
       "      <th></th>\n",
       "      <th></th>\n",
       "      <th></th>\n",
       "    </tr>\n",
       "  </thead>\n",
       "  <tbody>\n",
       "    <tr>\n",
       "      <th>BM-1</th>\n",
       "      <td>0.805617</td>\n",
       "      <td>0.978334</td>\n",
       "      <td>0.953049</td>\n",
       "    </tr>\n",
       "    <tr>\n",
       "      <th>BM-1_DB</th>\n",
       "      <td>0.802173</td>\n",
       "      <td>0.978961</td>\n",
       "      <td>0.953915</td>\n",
       "    </tr>\n",
       "    <tr>\n",
       "      <th>BM-2</th>\n",
       "      <td>0.803296</td>\n",
       "      <td>0.976341</td>\n",
       "      <td>0.952435</td>\n",
       "    </tr>\n",
       "    <tr>\n",
       "      <th>BM-2_DB</th>\n",
       "      <td>0.792923</td>\n",
       "      <td>0.976687</td>\n",
       "      <td>0.952650</td>\n",
       "    </tr>\n",
       "    <tr>\n",
       "      <th>BM-3</th>\n",
       "      <td>0.784428</td>\n",
       "      <td>0.968870</td>\n",
       "      <td>0.947088</td>\n",
       "    </tr>\n",
       "    <tr>\n",
       "      <th>BM-3_DB</th>\n",
       "      <td>0.753785</td>\n",
       "      <td>0.968238</td>\n",
       "      <td>0.946234</td>\n",
       "    </tr>\n",
       "    <tr>\n",
       "      <th>LF-1</th>\n",
       "      <td>0.691763</td>\n",
       "      <td>0.901398</td>\n",
       "      <td>0.927147</td>\n",
       "    </tr>\n",
       "    <tr>\n",
       "      <th>LF-1_DB</th>\n",
       "      <td>0.669808</td>\n",
       "      <td>0.900444</td>\n",
       "      <td>0.929919</td>\n",
       "    </tr>\n",
       "    <tr>\n",
       "      <th>LF-2</th>\n",
       "      <td>0.727615</td>\n",
       "      <td>0.985606</td>\n",
       "      <td>0.948716</td>\n",
       "    </tr>\n",
       "    <tr>\n",
       "      <th>LF-2_DB</th>\n",
       "      <td>0.667956</td>\n",
       "      <td>0.927180</td>\n",
       "      <td>0.932868</td>\n",
       "    </tr>\n",
       "    <tr>\n",
       "      <th>LF-3</th>\n",
       "      <td>0.514417</td>\n",
       "      <td>0.780227</td>\n",
       "      <td>0.886406</td>\n",
       "    </tr>\n",
       "    <tr>\n",
       "      <th>LF-3_DB</th>\n",
       "      <td>0.461361</td>\n",
       "      <td>0.772286</td>\n",
       "      <td>0.890312</td>\n",
       "    </tr>\n",
       "    <tr>\n",
       "      <th>LF-4</th>\n",
       "      <td>0.715717</td>\n",
       "      <td>0.979466</td>\n",
       "      <td>0.947100</td>\n",
       "    </tr>\n",
       "    <tr>\n",
       "      <th>LF-4_DB</th>\n",
       "      <td>0.462364</td>\n",
       "      <td>0.815458</td>\n",
       "      <td>0.889720</td>\n",
       "    </tr>\n",
       "    <tr>\n",
       "      <th>LF-5</th>\n",
       "      <td>0.677012</td>\n",
       "      <td>0.899800</td>\n",
       "      <td>0.923230</td>\n",
       "    </tr>\n",
       "    <tr>\n",
       "      <th>LF-5_DB</th>\n",
       "      <td>0.654101</td>\n",
       "      <td>0.893742</td>\n",
       "      <td>0.925969</td>\n",
       "    </tr>\n",
       "    <tr>\n",
       "      <th>LF-6</th>\n",
       "      <td>0.724084</td>\n",
       "      <td>0.984215</td>\n",
       "      <td>0.948320</td>\n",
       "    </tr>\n",
       "    <tr>\n",
       "      <th>LF-6_DB</th>\n",
       "      <td>0.657482</td>\n",
       "      <td>0.918731</td>\n",
       "      <td>0.930640</td>\n",
       "    </tr>\n",
       "    <tr>\n",
       "      <th>MF-1</th>\n",
       "      <td>0.808376</td>\n",
       "      <td>0.978300</td>\n",
       "      <td>0.954112</td>\n",
       "    </tr>\n",
       "    <tr>\n",
       "      <th>MF-1_DB</th>\n",
       "      <td>0.804775</td>\n",
       "      <td>0.978740</td>\n",
       "      <td>0.954530</td>\n",
       "    </tr>\n",
       "    <tr>\n",
       "      <th>MF-2</th>\n",
       "      <td>0.784831</td>\n",
       "      <td>0.965450</td>\n",
       "      <td>0.948963</td>\n",
       "    </tr>\n",
       "    <tr>\n",
       "      <th>MF-2_DB</th>\n",
       "      <td>0.764237</td>\n",
       "      <td>0.962936</td>\n",
       "      <td>0.947719</td>\n",
       "    </tr>\n",
       "  </tbody>\n",
       "</table>\n",
       "</div>"
      ],
      "text/plain": [
       "         F1_Vessel  AUROC_Vessel  Accuracy_Vessel\n",
       "name                                             \n",
       "BM-1      0.805617      0.978334         0.953049\n",
       "BM-1_DB   0.802173      0.978961         0.953915\n",
       "BM-2      0.803296      0.976341         0.952435\n",
       "BM-2_DB   0.792923      0.976687         0.952650\n",
       "BM-3      0.784428      0.968870         0.947088\n",
       "BM-3_DB   0.753785      0.968238         0.946234\n",
       "LF-1      0.691763      0.901398         0.927147\n",
       "LF-1_DB   0.669808      0.900444         0.929919\n",
       "LF-2      0.727615      0.985606         0.948716\n",
       "LF-2_DB   0.667956      0.927180         0.932868\n",
       "LF-3      0.514417      0.780227         0.886406\n",
       "LF-3_DB   0.461361      0.772286         0.890312\n",
       "LF-4      0.715717      0.979466         0.947100\n",
       "LF-4_DB   0.462364      0.815458         0.889720\n",
       "LF-5      0.677012      0.899800         0.923230\n",
       "LF-5_DB   0.654101      0.893742         0.925969\n",
       "LF-6      0.724084      0.984215         0.948320\n",
       "LF-6_DB   0.657482      0.918731         0.930640\n",
       "MF-1      0.808376      0.978300         0.954112\n",
       "MF-1_DB   0.804775      0.978740         0.954530\n",
       "MF-2      0.784831      0.965450         0.948963\n",
       "MF-2_DB   0.764237      0.962936         0.947719"
      ]
     },
     "execution_count": 164,
     "metadata": {},
     "output_type": "execute_result"
    }
   ],
   "source": [
    "all_data.groupby(['name']).mean()"
   ]
  },
  {
   "cell_type": "code",
   "execution_count": 165,
   "metadata": {},
   "outputs": [
    {
     "data": {
      "application/vnd.jupyter.widget-view+json": {
       "model_id": "c9461c73128f402281537d7ed2bef74f",
       "version_major": 2,
       "version_minor": 0
      },
      "text/plain": [
       "interactive(children=(IntSlider(value=0, description='im_num', max=10), FloatSlider(value=0.0, description='vm…"
      ]
     },
     "metadata": {},
     "output_type": "display_data"
    }
   ],
   "source": [
    "x = interact_manual(visualize_magnitudes,\n",
    "        tensor_dicts=fixed(mean_db_tensors),\n",
    "        im_dict = fixed(orig),\n",
    "        target_dict = fixed(targets),\n",
    "        im_num = (0,len(mean_db_tensors) - 1),\n",
    "        vmin = (0.0,1.0, .01 ),\n",
    "        vmax = (0.0, 1.0, .01), )"
   ]
  },
  {
   "cell_type": "code",
   "execution_count": 166,
   "metadata": {},
   "outputs": [
    {
     "data": {
      "application/vnd.jupyter.widget-view+json": {
       "model_id": "713c55db75c1419cbfcd6d9f1908fa9f",
       "version_major": 2,
       "version_minor": 0
      },
      "text/plain": [
       "interactive(children=(IntSlider(value=0, description='im_num', max=10), FloatSlider(value=0.0, description='vm…"
      ]
     },
     "metadata": {},
     "output_type": "display_data"
    }
   ],
   "source": [
    "x = interact_manual(visualize_magnitudes,\n",
    "        tensor_dicts=fixed(std_db_tensors),\n",
    "        im_dict = fixed(orig),\n",
    "        target_dict = fixed(targets),\n",
    "        im_num = (0,len(std_db_tensors) - 1),\n",
    "        vmin = (0.0,1.0, .01 ),\n",
    "        vmax = (0.0, 1.0, .01), )"
   ]
  },
  {
   "cell_type": "code",
   "execution_count": 167,
   "metadata": {},
   "outputs": [
    {
     "data": {
      "application/vnd.jupyter.widget-view+json": {
       "model_id": "5931de53c5794242bedbbe170d32e308",
       "version_major": 2,
       "version_minor": 0
      },
      "text/plain": [
       "interactive(children=(IntSlider(value=0, description='im_num', max=10), FloatSlider(value=0.0, description='vm…"
      ]
     },
     "metadata": {},
     "output_type": "display_data"
    }
   ],
   "source": [
    "x = interact_manual(visualize_magnitudes,\n",
    "        tensor_dicts=fixed(mean_rot_tensors),\n",
    "        im_dict = fixed(orig),\n",
    "        target_dict = fixed(targets),\n",
    "        im_num = (0,len(mean_rot_tensors) - 1),\n",
    "        vmin = (0.0,1.0, .01 ),\n",
    "        vmax = (0.0, 1.0, .01), )"
   ]
  },
  {
   "cell_type": "code",
   "execution_count": 168,
   "metadata": {},
   "outputs": [
    {
     "data": {
      "application/vnd.jupyter.widget-view+json": {
       "model_id": "ded52e44ba9b428fbfbc33e7612b5d47",
       "version_major": 2,
       "version_minor": 0
      },
      "text/plain": [
       "interactive(children=(IntSlider(value=0, description='im_num', max=10), FloatSlider(value=0.0, description='vm…"
      ]
     },
     "metadata": {},
     "output_type": "display_data"
    }
   ],
   "source": [
    "x = interact_manual(visualize_magnitudes,\n",
    "        tensor_dicts=fixed(std_rot_tensors),\n",
    "        im_dict = fixed(orig),\n",
    "        target_dict = fixed(targets),\n",
    "        im_num = (0,len(std_rot_tensors) - 1),\n",
    "        vmin = (0.0,1.0, .01 ),\n",
    "        vmax = (0.0, 1.0, .01), )"
   ]
  },
  {
   "cell_type": "code",
   "execution_count": 169,
   "metadata": {},
   "outputs": [
    {
     "data": {
      "application/vnd.jupyter.widget-view+json": {
       "model_id": "096a379bb48340ddbb14c26882a03590",
       "version_major": 2,
       "version_minor": 0
      },
      "text/plain": [
       "interactive(children=(Dropdown(description='key', options=('BM-1', 'BM-2', 'BM-3', 'MF-1', 'MF-2', 'LF-1', 'LF…"
      ]
     },
     "metadata": {},
     "output_type": "display_data"
    }
   ],
   "source": [
    "x = interact(display_std_hist, \n",
    "            std_dict = fixed(std_db_tensors),\n",
    "            key = list(std_db_tensors.keys()),\n",
    "            im_num = (0, len(std_db_tensors['BM-1']) - 1),\n",
    "            threshold = (0, 1, .001))\n"
   ]
  },
  {
   "cell_type": "code",
   "execution_count": 170,
   "metadata": {},
   "outputs": [
    {
     "data": {
      "application/vnd.jupyter.widget-view+json": {
       "model_id": "9c8bfa711245415a9f33194b078ecd68",
       "version_major": 2,
       "version_minor": 0
      },
      "text/plain": [
       "interactive(children=(Dropdown(description='key', options=('BM-1', 'BM-2', 'BM-3', 'MF-1', 'MF-2', 'LF-1', 'LF…"
      ]
     },
     "metadata": {},
     "output_type": "display_data"
    }
   ],
   "source": [
    "x = interact(display_agg_std_hist, \n",
    "            std_dict = fixed(std_db_tensors),\n",
    "            key = list(std_db_tensors.keys()),\n",
    "            threshold = (0, 1, .001))"
   ]
  },
  {
   "cell_type": "code",
   "execution_count": 171,
   "metadata": {},
   "outputs": [],
   "source": [
    "db_std_mag, db_mean_mag = calculate_magnitudes(std_db_tensors, mean_db_tensors)\n",
    "rot_std_mag, rot_mean_mag = calculate_magnitudes(std_rot_tensors, mean_rot_tensors)"
   ]
  },
  {
   "cell_type": "code",
   "execution_count": 248,
   "metadata": {},
   "outputs": [],
   "source": [
    "all_models = list(set(all_data.name))"
   ]
  },
  {
   "cell_type": "code",
   "execution_count": 249,
   "metadata": {},
   "outputs": [
    {
     "data": {
      "text/plain": [
       "['LF-1',\n",
       " 'LF-4',\n",
       " 'BM-3',\n",
       " 'BM-3_DB',\n",
       " 'LF-2_DB',\n",
       " 'LF-5',\n",
       " 'LF-2',\n",
       " 'LF-3',\n",
       " 'MF-1',\n",
       " 'BM-2_DB',\n",
       " 'BM-1',\n",
       " 'BM-1_DB',\n",
       " 'LF-6_DB',\n",
       " 'MF-2',\n",
       " 'MF-1_DB',\n",
       " 'LF-6',\n",
       " 'BM-2',\n",
       " 'LF-5_DB',\n",
       " 'LF-3_DB',\n",
       " 'LF-4_DB',\n",
       " 'MF-2_DB',\n",
       " 'LF-1_DB']"
      ]
     },
     "execution_count": 249,
     "metadata": {},
     "output_type": "execute_result"
    }
   ],
   "source": [
    "all_models"
   ]
  },
  {
   "cell_type": "markdown",
   "metadata": {},
   "source": [
    "Save Histograms"
   ]
  },
  {
   "cell_type": "code",
   "execution_count": 256,
   "metadata": {},
   "outputs": [],
   "source": [
    "threshold = 0.01\n",
    "for model in models:\n",
    "    data = []\n",
    "    for i in range(6):\n",
    "        temp = np.ma.array(std_db_tensors[model][i],mask = ~masks[i])\n",
    "        data.append(temp[~temp.mask])\n",
    "    data = np.concatenate(data)\n",
    "    data = data[data > threshold]\n",
    "    fig, ax =  plt.subplots(1,1)\n",
    "    ax.hist(data, bins = 'auto')\n",
    "    fig.savefig(os.path.join('../results/Images/DB_std_histograms', f\"STD_Histogram_{model}.png\"))\n",
    "    plt.close(fig)\n"
   ]
  },
  {
   "cell_type": "code",
   "execution_count": 257,
   "metadata": {},
   "outputs": [],
   "source": [
    "threshold = 0.01\n",
    "for model in models:\n",
    "    data = []\n",
    "    for i in range(6):\n",
    "        temp = np.ma.array(std_rot_tensors[model][i],mask = ~masks[i])\n",
    "        data.append(temp[~temp.mask])\n",
    "    data = np.concatenate(data)\n",
    "    data = data[data > threshold]\n",
    "    fig, ax =  plt.subplots(1,1)\n",
    "    ax.hist(data, bins = 'auto')\n",
    "    fig.savefig(os.path.join('../results/Images/ROT_std_histograms', f\"STD_Histogram_{model}.png\"))\n",
    "    plt.close(fig)\n"
   ]
  },
  {
   "cell_type": "markdown",
   "metadata": {},
   "source": [
    "Overlapped"
   ]
  },
  {
   "cell_type": "code",
   "execution_count": 227,
   "metadata": {},
   "outputs": [
    {
     "data": {
      "image/png": "[encoded data removed]",
      "text/plain": [
       "<Figure size 432x288 with 1 Axes>"
      ]
     },
     "metadata": {
      "needs_background": "light"
     },
     "output_type": "display_data"
    }
   ],
   "source": [
    "threshold = 0.01\n",
    "fig, ax =  plt.subplots(1,1)\n",
    "for model in models:\n",
    "    data = []\n",
    "    for i in range(6):\n",
    "        temp = np.ma.array(std_db_tensors[model][i],mask = ~masks[i])\n",
    "        data.append(temp[~temp.mask])\n",
    "    data = np.concatenate(data)\n",
    "    data = data[data > threshold]\n",
    " \n",
    "    ax.hist(data, bins = 'auto', alpha = .3, label = model)\n",
    "    ax.legend()\n",
    "fig.show()\n",
    "#fig.savefig(os.path.join('../results/Images/histograms', f'STD_Histogram_{model}.png'))\n",
    "#plt.close(fig)"
   ]
  },
  {
   "cell_type": "markdown",
   "metadata": {},
   "source": [
    "Dilated Histograms - WRONG"
   ]
  },
  {
   "cell_type": "code",
   "execution_count": null,
   "metadata": {},
   "outputs": [
    {
     "ename": "",
     "evalue": "",
     "output_type": "error",
     "traceback": [
      "\u001b[1;31mUnable to start Kernel 'Python 3.7.3 64-bit' due to connection timeout. \n",
      "View Jupyter <a href='command:jupyter.viewOutput'>log</a> for further details."
     ]
    }
   ],
   "source": [
    "threshold = .01\n",
    "for model in models:\n",
    "    data = []\n",
    "    for i in range(6):\n",
    "        dilated = cv2.erode(targets[i], np.ones((3,3),np.uint8))/255\n",
    "        temp = np.ma.array(std_db_tensors[model][i],mask = dilated)\n",
    "        data.append(temp[~temp.mask].data)\n",
    "\n",
    "    data = np.concatenate(data)\n",
    "    data = data[data > threshold]\n",
    "    fig, ax =  plt.subplots(1,1)\n",
    "    ax.hist(data, bins = 'auto')\n",
    "    fig.savefig(os.path.join('../results/Images/histograms_dilated', f'STD_Dilated_Histogram_{model}.png'))\n",
    "    plt.close(fig)"
   ]
  },
  {
   "cell_type": "code",
   "execution_count": null,
   "metadata": {},
   "outputs": [],
   "source": []
  },
  {
   "cell_type": "code",
   "execution_count": null,
   "metadata": {},
   "outputs": [],
   "source": []
  },
  {
   "cell_type": "code",
   "execution_count": 258,
   "metadata": {},
   "outputs": [
    {
     "ename": "AttributeError",
     "evalue": "'MaskedArray' object has no attribute 'append'",
     "output_type": "error",
     "traceback": [
      "\u001b[0;31m---------------------------------------------------------------------------\u001b[0m",
      "\u001b[0;31mAttributeError\u001b[0m                            Traceback (most recent call last)",
      "\u001b[0;32m/tmp/ipykernel_29883/3681883182.py\u001b[0m in \u001b[0;36m<module>\u001b[0;34m\u001b[0m\n\u001b[1;32m      2\u001b[0m     \u001b[0mdilated\u001b[0m \u001b[0;34m=\u001b[0m \u001b[0mcv2\u001b[0m\u001b[0;34m.\u001b[0m\u001b[0merode\u001b[0m\u001b[0;34m(\u001b[0m\u001b[0mtargets\u001b[0m\u001b[0;34m[\u001b[0m\u001b[0mi\u001b[0m\u001b[0;34m]\u001b[0m\u001b[0;34m,\u001b[0m \u001b[0mnp\u001b[0m\u001b[0;34m.\u001b[0m\u001b[0mones\u001b[0m\u001b[0;34m(\u001b[0m\u001b[0;34m(\u001b[0m\u001b[0;36m3\u001b[0m\u001b[0;34m,\u001b[0m\u001b[0;36m3\u001b[0m\u001b[0;34m)\u001b[0m\u001b[0;34m,\u001b[0m\u001b[0mnp\u001b[0m\u001b[0;34m.\u001b[0m\u001b[0muint8\u001b[0m\u001b[0;34m)\u001b[0m\u001b[0;34m)\u001b[0m\u001b[0;34m/\u001b[0m\u001b[0;36m255\u001b[0m\u001b[0;34m\u001b[0m\u001b[0;34m\u001b[0m\u001b[0m\n\u001b[1;32m      3\u001b[0m     \u001b[0mtemp\u001b[0m \u001b[0;34m=\u001b[0m \u001b[0mnp\u001b[0m\u001b[0;34m.\u001b[0m\u001b[0mma\u001b[0m\u001b[0;34m.\u001b[0m\u001b[0marray\u001b[0m\u001b[0;34m(\u001b[0m\u001b[0mstd_db_tensors\u001b[0m\u001b[0;34m[\u001b[0m\u001b[0mmodel\u001b[0m\u001b[0;34m]\u001b[0m\u001b[0;34m[\u001b[0m\u001b[0mi\u001b[0m\u001b[0;34m]\u001b[0m\u001b[0;34m,\u001b[0m\u001b[0mmask\u001b[0m \u001b[0;34m=\u001b[0m \u001b[0mdilated\u001b[0m\u001b[0;34m)\u001b[0m\u001b[0;34m\u001b[0m\u001b[0;34m\u001b[0m\u001b[0m\n\u001b[0;32m----> 4\u001b[0;31m     \u001b[0mdata\u001b[0m\u001b[0;34m.\u001b[0m\u001b[0mappend\u001b[0m\u001b[0;34m(\u001b[0m\u001b[0mtemp\u001b[0m\u001b[0;34m[\u001b[0m\u001b[0;34m~\u001b[0m\u001b[0mtemp\u001b[0m\u001b[0;34m.\u001b[0m\u001b[0mmask\u001b[0m\u001b[0;34m]\u001b[0m\u001b[0;34m.\u001b[0m\u001b[0mdata\u001b[0m\u001b[0;34m)\u001b[0m\u001b[0;34m\u001b[0m\u001b[0;34m\u001b[0m\u001b[0m\n\u001b[0m\u001b[1;32m      5\u001b[0m \u001b[0;34m\u001b[0m\u001b[0m\n\u001b[1;32m      6\u001b[0m \u001b[0mdata\u001b[0m \u001b[0;34m=\u001b[0m \u001b[0mnp\u001b[0m\u001b[0;34m.\u001b[0m\u001b[0mconcatenate\u001b[0m\u001b[0;34m(\u001b[0m\u001b[0mdata\u001b[0m\u001b[0;34m)\u001b[0m\u001b[0;34m\u001b[0m\u001b[0;34m\u001b[0m\u001b[0m\n",
      "\u001b[0;31mAttributeError\u001b[0m: 'MaskedArray' object has no attribute 'append'"
     ]
    }
   ],
   "source": [
    "    for i in range(6):\n",
    "        dilated = cv2.erode(targets[i], np.ones((3,3),np.uint8))/255\n",
    "        temp = np.ma.array(std_db_tensors[model][i],mask = dilated)\n",
    "        data.append(temp[~temp.mask].data)\n",
    "\n",
    "    data = np.concatenate(data)\n",
    "    data = data[data > threshold]\n",
    "    fig, ax =  plt.subplots(1,1)\n",
    "    ax.hist(data, bins = 'auto')\n",
    "    fig.savefig(os.path.join('../results/Images/histograms_dilated', f'STD_Dilated_Histogram_{model}.png'))\n",
    "    plt.close(fig)"
   ]
  },
  {
   "cell_type": "markdown",
   "metadata": {},
   "source": [
    "MSE over Base model "
   ]
  },
  {
   "cell_type": "code",
   "execution_count": 259,
   "metadata": {},
   "outputs": [],
   "source": [
    "import torchvision.transforms as transforms\n",
    "import torchvision.transforms.functional as TF"
   ]
  },
  {
   "cell_type": "code",
   "execution_count": 260,
   "metadata": {},
   "outputs": [
    {
     "name": "stdout",
     "output_type": "stream",
     "text": [
      "tensor(0.0295)\n",
      "tensor(0.0211)\n",
      "tensor(0.0263)\n",
      "tensor(0.0231)\n",
      "tensor(0.0196)\n"
     ]
    }
   ],
   "source": [
    "# find image with highest mean squared error\n",
    "real_max = 0\n",
    "cur_i = 0\n",
    "for i in range(5):\n",
    "    cur_max = torch.nn.MSELoss()(seg_tensors['BM-1'][i], transforms.ToTensor()(targets[i]))\n",
    "    print(cur_max)\n",
    "    if cur_max > real_max:\n",
    "        cur_i = i\n",
    "        real_max = cur_max"
   ]
  },
  {
   "cell_type": "code",
   "execution_count": 265,
   "metadata": {},
   "outputs": [],
   "source": [
    "# save an image for each model\n",
    "for model in models:\n",
    "    \n",
    "    # one for DB\n",
    "    seg = mean_db_tensors[model][cur_i][0]\n",
    "    gt = TF.resize(transforms.ToTensor()(targets[cur_i]), (seg.shape[-2:]))\n",
    "    n = torch.nn.MSELoss(reduction = 'none')(seg, gt)\n",
    "    im = transforms.ToPILImage()(n)\n",
    "    im.save(os.path.join('../results/Images/MSE_plots', f\"MSE_Plot_{model + '_DB'}.png\"))\n",
    "\n",
    "    # one for Reg\n",
    "    seg = seg_tensors[model][cur_i]\n",
    "    gt = TF.resize(transforms.ToTensor()(targets[cur_i]), (seg.shape[-2:]))\n",
    "    n = torch.nn.MSELoss(reduction = 'none')(seg, gt)\n",
    "    im = transforms.ToPILImage()(n)\n",
    "    im.save(os.path.join('../results/Images/MSE_plots', f'MSE_Plot_{model}.png'))\n",
    "\n",
    "    # one for ROT\n",
    "    seg = mean_rot_tensors[model][cur_i][0]\n",
    "    gt = TF.resize(transforms.ToTensor()(targets[cur_i]), (seg.shape[-2:]))\n",
    "    n = torch.nn.MSELoss(reduction = 'none')(seg, gt)\n",
    "    im = transforms.ToPILImage()(n)\n",
    "    im.save(os.path.join('../results/Images/MSE_plots', f\"MSE_Plot_{model + '_ROT'}.png\"))"
   ]
  },
  {
   "cell_type": "markdown",
   "metadata": {},
   "source": [
    "std UQ"
   ]
  },
  {
   "cell_type": "code",
   "execution_count": 262,
   "metadata": {},
   "outputs": [
    {
     "name": "stdout",
     "output_type": "stream",
     "text": [
      "tensor(0.0117)\n",
      "tensor(0.0122)\n",
      "tensor(0.0147)\n",
      "tensor(0.0147)\n",
      "tensor(0.0135)\n"
     ]
    }
   ],
   "source": [
    "# find image with highest stddev for DB\n",
    "real_max = 0\n",
    "cur_i = 0\n",
    "for i in range(5):\n",
    "    cur_max = (std_db_tensors['BM-1'][i][0][0]).mean()\n",
    "    print(cur_max)\n",
    "    if cur_max > real_max:\n",
    "        cur_i = i\n",
    "        real_max = cur_max"
   ]
  },
  {
   "cell_type": "code",
   "execution_count": 268,
   "metadata": {},
   "outputs": [],
   "source": [
    "# save an image for each model\n",
    "for model in models:\n",
    "    # ROT\n",
    "    seg = std_db_tensors[model][cur_i][0]\n",
    "    im = transforms.ToPILImage()(seg)\n",
    "    im.save(os.path.join('../results/Images/STD_plots', f\"STD_Plot_{model + '_ROT'}.png\"))\n",
    "    # DB\n",
    "    seg = std_db_tensors[model][cur_i][0]\n",
    "    im = transforms.ToPILImage()(seg)\n",
    "    im.save(os.path.join('../results/Images/STD_plots', f\"STD_Plot_{model + '_DB'}.png\"))"
   ]
  },
  {
   "cell_type": "code",
   "execution_count": null,
   "metadata": {},
   "outputs": [],
   "source": [
    "# save a scaled image for each model\n",
    "for model in models:\n",
    "    # ROT\n",
    "    seg = std_db_tensors[model][cur_i][0] * 3\n",
    "    im = transforms.ToPILImage()(seg)\n",
    "    im.save(os.path.join('../results/Images/STD_plots_scaled', f\"STD_Plot_{model + '_ROT'}.png\"))\n",
    "    # DB\n",
    "    seg = std_db_tensors[model][cur_i][0] * 3\n",
    "    im = transforms.ToPILImage()(seg)\n",
    "    im.save(os.path.join('../results/Images/STD_plots_scaled', f\"STD_Plot_{model + '_DB'}.png\"))"
   ]
  },
  {
   "cell_type": "code",
   "execution_count": null,
   "metadata": {},
   "outputs": [],
   "source": []
  }
 ],
 "metadata": {
  "interpreter": {
   "hash": "8cd0503a7256b6879885e7a0d555cf87c9094c8c446a8a7b20536b9bce8ed19f"
  },
  "kernelspec": {
   "display_name": "Python 3.7.3 64-bit",
   "language": "python",
   "name": "python3"
  },
  "language_info": {
   "codemirror_mode": {
    "name": "ipython",
    "version": 3
   },
   "file_extension": ".py",
   "mimetype": "text/x-python",
   "name": "python",
   "nbconvert_exporter": "python",
   "pygments_lexer": "ipython3",
   "version": "3.7.3"
  },
  "orig_nbformat": 4
 },
 "nbformat": 4,
 "nbformat_minor": 2
}
