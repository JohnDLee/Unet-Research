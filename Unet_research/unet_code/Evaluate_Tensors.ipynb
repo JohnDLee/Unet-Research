{
 "cells": [
  {
   "cell_type": "code",
   "execution_count": 1,
   "metadata": {},
   "outputs": [],
   "source": [
    "import sys\n",
    "import os\n",
    "from os.path import join\n",
    "import torch\n",
    "import matplotlib.pyplot as plt\n",
    "import numpy as np\n",
    "from PIL import Image\n",
    "from ipywidgets import interact_manual,interact, fixed\n",
    "import math\n",
    "import cv2\n"
   ]
  },
  {
   "cell_type": "markdown",
   "metadata": {},
   "source": []
  },
  {
   "cell_type": "markdown",
   "metadata": {},
   "source": [
    "# Preliminary Uncertainty Tests"
   ]
  },
  {
   "cell_type": "markdown",
   "metadata": {},
   "source": [
    "Functions"
   ]
  },
  {
   "cell_type": "code",
   "execution_count": 2,
   "metadata": {},
   "outputs": [],
   "source": [
    "def extract_tensors(path, tensor_name):\n",
    "    '''extracts tensors from path (as created when any uncertainty test is ran'''\n",
    "    # get only the correct folders\n",
    "    folders = []\n",
    "    for sub_path in os.listdir(path):\n",
    "        if sub_path.startswith('image'):\n",
    "            folders.append( sub_path)\n",
    "    \n",
    "    # extract tensors\n",
    "    all_images = {}\n",
    "    for im_folder in folders:\n",
    "        im_path = join(path, im_folder)\n",
    "        # save the tensors in their own dict according to name before\n",
    "        for tensor in os.listdir(im_path):\n",
    "            if tensor == tensor_name:\n",
    "                tensor_path = join(im_path, tensor)\n",
    "                all_images[int(im_folder.split('_')[-1])] = torch.load(tensor_path, map_location = 'cpu')\n",
    "    return all_images\n"
   ]
  },
  {
   "cell_type": "code",
   "execution_count": 3,
   "metadata": {},
   "outputs": [],
   "source": [
    "def display_tensor(tensor_dict:dict, im_dict:dict, target_dict:dict, im_num: int = 0 , vmin:float = 0, vmax: float = 1):\n",
    "    fig, ax = plt.subplots(1,3, figsize = (18, 12))\n",
    "    im1 = ax[0].imshow(im_dict[im_num], cmap = 'gray',)\n",
    "    im2 = ax[1].imshow(tensor_dict[im_num][0][0].numpy(), cmap = 'gray', vmin = vmin, vmax = vmax)\n",
    "    im3 = ax[2].imshow(target_dict[im_num], cmap = 'gray', )\n",
    "    ax[0].set_title('Orig')\n",
    "    ax[1].set_title('Expected')\n",
    "    ax[2].set_title('GT')\n",
    "    fig.show()\n",
    "    print('Min: ' ,torch.min(tensor_dict[im_num][0][0]).item())\n",
    "    print('Max: ' ,torch.max(tensor_dict[im_num][0][0]).item())"
   ]
  },
  {
   "cell_type": "code",
   "execution_count": 4,
   "metadata": {},
   "outputs": [],
   "source": [
    "def compare_tensor(tensor_dict1:dict, tensor_dict2:dict, im_dict:dict, target_dict:dict, im_num: int = 0 , vmin:float = 0, vmax: float = 1):\n",
    "    fig, ax = plt.subplots(1,4, figsize = (30, 28))\n",
    "    im1 = ax[0].imshow(im_dict[im_num], cmap = 'gray',)\n",
    "    im2 = ax[1].imshow(tensor_dict1[im_num][0][0].numpy(), cmap = 'gray', vmin = vmin, vmax = vmax)\n",
    "    im3 = ax[2].imshow(tensor_dict2[im_num][0][0].numpy(), cmap = 'gray', vmin = vmin, vmax = vmax)\n",
    "    im4 = ax[3].imshow(target_dict[im_num], cmap = 'gray', )\n",
    "    ax[0].set_title('Orig')\n",
    "    ax[1].set_title('Independent')\n",
    "    ax[2].set_title('Dependent')\n",
    "    ax[3].set_title('GT')\n",
    "    fig.show()\n",
    "    print(f'Min: I:{torch.min(tensor_dict1[im_num][0][0]).item():7.5f} D: {torch.max(tensor_dict2[im_num][0][0]).item():7.5f}', )\n",
    "    print(f'Min: I:{torch.max(tensor_dict1[im_num][0][0]).item():7.5f} D: {torch.max(tensor_dict2[im_num][0][0]).item():7.5f}', )"
   ]
  },
  {
   "cell_type": "code",
   "execution_count": 5,
   "metadata": {},
   "outputs": [],
   "source": [
    "def pseudo_anim(tensor_dict: dict, val_num: int = 0 , im_num: int = 0 ):\n",
    "    ''' creates an animated gif using images\n",
    "    \n",
    "    output:\n",
    "    creates a gif'''\n",
    "\n",
    "    fig, ax = plt.subplots(1,1, figsize = (8, 8))\n",
    "    ax.imshow(tensor_dict[val_num][im_num][0][0].numpy(), cmap = 'gray', vmin = 0, vmax = 1)\n",
    "    fig.show()\n",
    "    "
   ]
  },
  {
   "cell_type": "code",
   "execution_count": null,
   "metadata": {},
   "outputs": [],
   "source": []
  },
  {
   "cell_type": "markdown",
   "metadata": {},
   "source": [
    "Root Directory - change if different (make sure corresponding internal files are also changed)"
   ]
  },
  {
   "cell_type": "code",
   "execution_count": 6,
   "metadata": {},
   "outputs": [
    {
     "name": "stdout",
     "output_type": "stream",
     "text": [
      "['model_info', 'lightning_logs', 'test_statistics', 'dropblock_uncertainty_i', 'rotational_uncertainty', 'test_statistics_32_32', 'test_statistics_128_128', 'test_statistics_64_64', 'test_statistics_256_256', 'dropblock_uncertainty_d']\n"
     ]
    }
   ],
   "source": [
    "root = '../results/base_model'\n",
    "\n",
    "print(os.listdir(root))"
   ]
  },
  {
   "cell_type": "markdown",
   "metadata": {},
   "source": [
    "Validation Images"
   ]
  },
  {
   "cell_type": "code",
   "execution_count": 7,
   "metadata": {},
   "outputs": [],
   "source": [
    "val_root_images = '../augmented_data/val/images'\n",
    "orig = {}\n",
    "# retrieves validation images as grayscale\n",
    "for im in os.listdir(val_root_images):\n",
    "    orig[int(im.split('_')[0])] = np.array(Image.open(join(val_root_images, im)).convert('L'))\n",
    "\n",
    "val_root_targets = '../augmented_data/val/targets'\n",
    "targets = {}\n",
    "for im in os.listdir(val_root_targets):\n",
    "    targets[int(im.split('_')[0])] = np.array(Image.open(join(val_root_targets, im)).convert('L'))\n",
    "\n",
    "mask_root_targets = '../augmented_data/val/masks'\n",
    "masks = {}\n",
    "for im in os.listdir(mask_root_targets):\n",
    "    masks[int(im.split('_')[0])] = np.array(Image.open(join(mask_root_targets, im)).convert('L'))\n"
   ]
  },
  {
   "cell_type": "markdown",
   "metadata": {},
   "source": [
    "# Monte Carlo Dropblock - Dependent Channels"
   ]
  },
  {
   "cell_type": "code",
   "execution_count": 8,
   "metadata": {},
   "outputs": [],
   "source": [
    "DB_d_path = join(root, 'dropblock_uncertainty_d/tensors')\n",
    "\n",
    "DB_d_mean_tensors = extract_tensors(DB_d_path, 'mean.pt')\n",
    "DB_d_tensors = extract_tensors(DB_d_path, 'std.pt')\n",
    "DB_d_extra_tensors = extract_tensors(DB_d_path, 'tensors.pt')"
   ]
  },
  {
   "cell_type": "markdown",
   "metadata": {},
   "source": [
    "Means"
   ]
  },
  {
   "cell_type": "code",
   "execution_count": 9,
   "metadata": {},
   "outputs": [
    {
     "data": {
      "application/vnd.jupyter.widget-view+json": {
       "model_id": "75f58ac82a364f1e8434db0c2ee9c5b0",
       "version_major": 2,
       "version_minor": 0
      },
      "text/plain": [
       "interactive(children=(IntSlider(value=0, description='im_num', max=5), FloatSlider(value=0.0, description='vmi…"
      ]
     },
     "metadata": {},
     "output_type": "display_data"
    }
   ],
   "source": [
    "x = interact(display_tensor,\n",
    "        tensor_dict=fixed(DB_d_mean_tensors),\n",
    "        im_dict = fixed(orig),\n",
    "        target_dict = fixed(targets),\n",
    "        im_num = (0,len(DB_d_mean_tensors) -1),\n",
    "        vmin = (0.0,1.0, .01 ),\n",
    "        vmax = (0.0, 1.0, .01))"
   ]
  },
  {
   "cell_type": "markdown",
   "metadata": {},
   "source": [
    "STD"
   ]
  },
  {
   "cell_type": "code",
   "execution_count": 10,
   "metadata": {},
   "outputs": [
    {
     "data": {
      "application/vnd.jupyter.widget-view+json": {
       "model_id": "4cb46c908afd445e9f7238dd05540f04",
       "version_major": 2,
       "version_minor": 0
      },
      "text/plain": [
       "interactive(children=(IntSlider(value=0, description='im_num', max=5), FloatSlider(value=0.0, description='vmi…"
      ]
     },
     "metadata": {},
     "output_type": "display_data"
    }
   ],
   "source": [
    "x = interact(display_tensor,\n",
    "        tensor_dict=fixed(DB_d_tensors),\n",
    "        im_dict = fixed(orig),\n",
    "        target_dict = fixed(targets),\n",
    "        im_num = (0,len(DB_d_tensors) -1),\n",
    "        vmin = (0.0,1.0, .01 ),\n",
    "        vmax = (0.0, 1.0, .01), )"
   ]
  },
  {
   "cell_type": "markdown",
   "metadata": {},
   "source": [
    "View 25 Examples"
   ]
  },
  {
   "cell_type": "code",
   "execution_count": 11,
   "metadata": {},
   "outputs": [
    {
     "data": {
      "application/vnd.jupyter.widget-view+json": {
       "model_id": "5b4848a3b10743e0af969761d3d16606",
       "version_major": 2,
       "version_minor": 0
      },
      "text/plain": [
       "interactive(children=(IntSlider(value=0, description='val_num', max=5), IntSlider(value=0, description='im_num…"
      ]
     },
     "metadata": {},
     "output_type": "display_data"
    }
   ],
   "source": [
    "x = interact(pseudo_anim, \n",
    "                tensor_dict = fixed(DB_d_extra_tensors),\n",
    "                val_num =  (0,len(DB_d_extra_tensors) -1),\n",
    "                im_num = (0, len(DB_d_extra_tensors[0]) -1))"
   ]
  },
  {
   "cell_type": "markdown",
   "metadata": {},
   "source": [
    "# Monte Carlo Dropblock = Independent"
   ]
  },
  {
   "cell_type": "code",
   "execution_count": 12,
   "metadata": {},
   "outputs": [],
   "source": [
    "DB_i_path = join(root, 'dropblock_uncertainty_i/tensors')\n",
    "\n",
    "DB_i_mean_tensors = extract_tensors(DB_i_path, 'mean.pt')\n",
    "DB_i_tensors = extract_tensors(DB_i_path, 'std.pt')\n",
    "DB_i_extra_tensors = extract_tensors(DB_i_path, 'tensors.pt')"
   ]
  },
  {
   "cell_type": "markdown",
   "metadata": {},
   "source": [
    "Mean"
   ]
  },
  {
   "cell_type": "code",
   "execution_count": 13,
   "metadata": {},
   "outputs": [
    {
     "data": {
      "application/vnd.jupyter.widget-view+json": {
       "model_id": "0a5ef165bb9540c4bcd6ddcadf9de6fc",
       "version_major": 2,
       "version_minor": 0
      },
      "text/plain": [
       "interactive(children=(IntSlider(value=0, description='im_num', max=5), FloatSlider(value=0.0, description='vmi…"
      ]
     },
     "metadata": {},
     "output_type": "display_data"
    }
   ],
   "source": [
    "x = interact(display_tensor,\n",
    "        tensor_dict=fixed(DB_i_mean_tensors),\n",
    "        im_dict = fixed(orig),\n",
    "        target_dict = fixed(targets),\n",
    "        im_num = (0,len(DB_i_mean_tensors) -1),\n",
    "        vmin = (0.0,1.0, .01 ),\n",
    "        vmax = (0.0, 1.0, .01), )"
   ]
  },
  {
   "cell_type": "markdown",
   "metadata": {},
   "source": [
    "STD"
   ]
  },
  {
   "cell_type": "code",
   "execution_count": 14,
   "metadata": {},
   "outputs": [
    {
     "data": {
      "application/vnd.jupyter.widget-view+json": {
       "model_id": "b118b7011cca4c17be461a96086c437b",
       "version_major": 2,
       "version_minor": 0
      },
      "text/plain": [
       "interactive(children=(IntSlider(value=0, description='im_num', max=5), FloatSlider(value=0.0, description='vmi…"
      ]
     },
     "metadata": {},
     "output_type": "display_data"
    }
   ],
   "source": [
    "x = interact(display_tensor,\n",
    "        tensor_dict=fixed(DB_i_tensors),\n",
    "        im_dict = fixed(orig),\n",
    "        target_dict = fixed(targets),\n",
    "        im_num = (0,len(DB_i_tensors) -1),\n",
    "        vmin = (0.0,1.0, .01 ),\n",
    "        vmax = (0.0, 1.0, .01), )"
   ]
  },
  {
   "cell_type": "markdown",
   "metadata": {},
   "source": [
    "View 25 Tensors"
   ]
  },
  {
   "cell_type": "code",
   "execution_count": 15,
   "metadata": {},
   "outputs": [
    {
     "data": {
      "application/vnd.jupyter.widget-view+json": {
       "model_id": "f93f8cfcbc5a40739a0a750915661913",
       "version_major": 2,
       "version_minor": 0
      },
      "text/plain": [
       "interactive(children=(IntSlider(value=0, description='val_num', max=5), IntSlider(value=0, description='im_num…"
      ]
     },
     "metadata": {},
     "output_type": "display_data"
    },
    {
     "data": {
      "text/plain": [
       "<function __main__.pseudo_anim(tensor_dict: dict, val_num: int = 0, im_num: int = 0)>"
      ]
     },
     "execution_count": 15,
     "metadata": {},
     "output_type": "execute_result"
    }
   ],
   "source": [
    "interact(pseudo_anim, \n",
    "                tensor_dict = fixed(DB_i_extra_tensors),\n",
    "                val_num =  (0,len(DB_i_extra_tensors) -1),\n",
    "                im_num = (0, len(DB_i_extra_tensors[0]) -1))"
   ]
  },
  {
   "cell_type": "markdown",
   "metadata": {},
   "source": [
    "# Independent vs Dependent (Actually both are independent)"
   ]
  },
  {
   "cell_type": "markdown",
   "metadata": {},
   "source": [
    "Mean"
   ]
  },
  {
   "cell_type": "code",
   "execution_count": 16,
   "metadata": {},
   "outputs": [
    {
     "data": {
      "application/vnd.jupyter.widget-view+json": {
       "model_id": "2238f7d29c9a4f25b14001723a1628e6",
       "version_major": 2,
       "version_minor": 0
      },
      "text/plain": [
       "interactive(children=(IntSlider(value=0, description='im_num', max=5), FloatSlider(value=0.0, description='vmi…"
      ]
     },
     "metadata": {},
     "output_type": "display_data"
    }
   ],
   "source": [
    "x = interact(compare_tensor,\n",
    "        tensor_dict1=fixed(DB_i_mean_tensors),\n",
    "        tensor_dict2=fixed(DB_d_mean_tensors),\n",
    "        im_dict = fixed(orig),\n",
    "        target_dict = fixed(targets),\n",
    "        im_num = (0,len(DB_i_mean_tensors) -1),\n",
    "        vmin = (0.0,1.0, .01 ),\n",
    "        vmax = (0.0, 1.0, .01), )"
   ]
  },
  {
   "cell_type": "markdown",
   "metadata": {},
   "source": [
    "STD"
   ]
  },
  {
   "cell_type": "code",
   "execution_count": 17,
   "metadata": {},
   "outputs": [
    {
     "data": {
      "application/vnd.jupyter.widget-view+json": {
       "model_id": "b4b37ee765864b14806a1a504a1bb90b",
       "version_major": 2,
       "version_minor": 0
      },
      "text/plain": [
       "interactive(children=(IntSlider(value=0, description='im_num', max=5), FloatSlider(value=0.0, description='vmi…"
      ]
     },
     "metadata": {},
     "output_type": "display_data"
    }
   ],
   "source": [
    "x = interact(compare_tensor,\n",
    "        tensor_dict1=fixed(DB_i_tensors),\n",
    "        tensor_dict2=fixed(DB_d_tensors),\n",
    "        im_dict = fixed(orig),\n",
    "        target_dict = fixed(targets),\n",
    "        im_num = (0,len(DB_i_tensors) -1),\n",
    "        vmin = (0.0,1.0, .01 ),\n",
    "        vmax = (0.0, 1.0, .01), )"
   ]
  },
  {
   "cell_type": "markdown",
   "metadata": {},
   "source": [
    "# Rotational Uncertainty"
   ]
  },
  {
   "cell_type": "code",
   "execution_count": 18,
   "metadata": {},
   "outputs": [],
   "source": [
    "rotation_path = join(root, 'rotational_uncertainty')\n",
    "\n",
    "rotation_mean_tensors = extract_tensors(rotation_path, 'mean.pt')\n",
    "rotation_tensors = extract_tensors(rotation_path, 'std.pt')\n",
    "rotation_extra_tensors = extract_tensors(rotation_path, 'tensors.pt')"
   ]
  },
  {
   "cell_type": "code",
   "execution_count": 19,
   "metadata": {},
   "outputs": [
    {
     "data": {
      "text/plain": [
       "torch.Size([1, 1, 584, 565])"
      ]
     },
     "execution_count": 19,
     "metadata": {},
     "output_type": "execute_result"
    }
   ],
   "source": [
    "rotation_mean_tensors[0].shape"
   ]
  },
  {
   "cell_type": "markdown",
   "metadata": {},
   "source": [
    "Mean"
   ]
  },
  {
   "cell_type": "code",
   "execution_count": 20,
   "metadata": {},
   "outputs": [
    {
     "data": {
      "application/vnd.jupyter.widget-view+json": {
       "model_id": "ab3fddd654ee4a04862b35f1ec066106",
       "version_major": 2,
       "version_minor": 0
      },
      "text/plain": [
       "interactive(children=(IntSlider(value=0, description='im_num', max=5), FloatSlider(value=0.0, description='vmi…"
      ]
     },
     "metadata": {},
     "output_type": "display_data"
    }
   ],
   "source": [
    "x = interact(display_tensor,\n",
    "        tensor_dict=fixed(rotation_mean_tensors),\n",
    "        im_dict = fixed(orig),\n",
    "        target_dict = fixed(targets),\n",
    "        im_num = (0,len(rotation_mean_tensors) -1),\n",
    "        vmin = (0.0,1.0, .01 ),\n",
    "        vmax = (0.0, 1.0, .01), )"
   ]
  },
  {
   "cell_type": "markdown",
   "metadata": {},
   "source": [
    "STD"
   ]
  },
  {
   "cell_type": "code",
   "execution_count": 21,
   "metadata": {},
   "outputs": [
    {
     "data": {
      "application/vnd.jupyter.widget-view+json": {
       "model_id": "469edb9d582d416baf7c3ec032ea2a90",
       "version_major": 2,
       "version_minor": 0
      },
      "text/plain": [
       "interactive(children=(IntSlider(value=0, description='im_num', max=5), FloatSlider(value=0.0, description='vmi…"
      ]
     },
     "metadata": {},
     "output_type": "display_data"
    }
   ],
   "source": [
    "x = interact(display_tensor,\n",
    "        tensor_dict=fixed(rotation_tensors),\n",
    "        im_dict = fixed(orig),\n",
    "        target_dict = fixed(targets),\n",
    "        im_num = (0,len(rotation_tensors) -1),\n",
    "        vmin = (0.0,1.0, .01 ),\n",
    "        vmax = (0.0, 1.0, .01), )"
   ]
  },
  {
   "cell_type": "markdown",
   "metadata": {},
   "source": [
    "View 25 Images"
   ]
  },
  {
   "cell_type": "code",
   "execution_count": 22,
   "metadata": {},
   "outputs": [
    {
     "data": {
      "application/vnd.jupyter.widget-view+json": {
       "model_id": "d68c61ff4d204455b5896c7bb7f3315d",
       "version_major": 2,
       "version_minor": 0
      },
      "text/plain": [
       "interactive(children=(IntSlider(value=0, description='val_num', max=5), IntSlider(value=0, description='im_num…"
      ]
     },
     "metadata": {},
     "output_type": "display_data"
    }
   ],
   "source": [
    "x = interact(pseudo_anim, \n",
    "                tensor_dict = fixed(rotation_extra_tensors),\n",
    "                val_num =  (0,len(rotation_extra_tensors) -1),\n",
    "                im_num = (0, len(rotation_extra_tensors[0]) -1))"
   ]
  },
  {
   "cell_type": "code",
   "execution_count": null,
   "metadata": {},
   "outputs": [],
   "source": []
  },
  {
   "cell_type": "code",
   "execution_count": null,
   "metadata": {},
   "outputs": [],
   "source": []
  },
  {
   "cell_type": "code",
   "execution_count": null,
   "metadata": {},
   "outputs": [],
   "source": []
  },
  {
   "cell_type": "markdown",
   "metadata": {},
   "source": [
    "# Testing Function"
   ]
  },
  {
   "cell_type": "code",
   "execution_count": 8,
   "metadata": {},
   "outputs": [],
   "source": [
    "\n",
    "def visualize_magnitudes(\n",
    "                tensor_dicts,\n",
    "                im_dict,\n",
    "                target_dict,\n",
    "                im_num = 0,\n",
    "                vmin = 0,\n",
    "                vmax = 1):\n",
    "        arr = len(tensor_dicts) + 2\n",
    "\n",
    "        cols = 4\n",
    "        rows = math.ceil(arr / 4)\n",
    "\n",
    "        fig, axes = plt.subplots(rows, cols, figsize = (8 * cols, 8*rows))\n",
    "\n",
    "        axes = axes.flatten()\n",
    "\n",
    "        axes[0].imshow(im_dict[im_num], cmap = 'gray',)\n",
    "        axes[0].set_title('Input Image')\n",
    "        for model_id, (model_name, model_dict) in enumerate(tensor_dicts.items()):\n",
    "                model_id = model_id + 1\n",
    "                axes[model_id].imshow(model_dict[im_num][0][0].numpy(), cmap = 'gray', vmin = vmin, vmax = vmax)\n",
    "                axes[model_id].set_title(model_name)\n",
    "        axes[-1].imshow(target_dict[im_num], cmap = 'gray',)\n",
    "        axes[-1].set_title('GT Image')\n",
    "        \n",
    "        fig.show()"
   ]
  },
  {
   "cell_type": "code",
   "execution_count": 9,
   "metadata": {},
   "outputs": [],
   "source": [
    "def calculate_magnitudes(std_dicts, mean_dicts):\n",
    "\n",
    "        cols = ['model_name', 'im_num', 'min', 'max','mean', 'std',  'mean_thresholded_0.01', 'std_thresholded_0.01','mean_thresholded_0.001','std_thresholded_0.001','mean_thresholded_0','std_thresholded_0',]\n",
    "        data = dict(zip(cols, [[] for i in range(len(cols))]))\n",
    "        data2 = dict(zip(cols, [[] for i in range(len(cols))]))\n",
    "\n",
    "        for model_id, (model_name, model_dict) in enumerate(std_dicts.items()):\n",
    "                for im_num in model_dict:\n",
    "                        \n",
    "                        std_data = model_dict[im_num][0][0].flatten()\n",
    "                        data['model_name'].append(model_name)\n",
    "                        data['im_num'].append(im_num)\n",
    "                        data['min'].append(torch.min(std_data).item())\n",
    "                        data['max'].append(torch.max(std_data).item())\n",
    "                        data['mean'].append(torch.mean(std_data).item())\n",
    "                        data['std'].append(torch.std(std_data).item())\n",
    "                        data['mean_thresholded_0.01'].append(torch.mean(std_data[std_data > 0.01]).item())\n",
    "                        data['std_thresholded_0.01'].append(torch.std(std_data[std_data > 0.01]).item())\n",
    "                        data['mean_thresholded_0.001'].append(torch.mean(std_data[std_data > 0.001]).item())\n",
    "                        data['std_thresholded_0.001'].append(torch.std(std_data[std_data > 0.001]).item())\n",
    "                        data['mean_thresholded_0'].append(torch.mean(std_data[std_data > 0]).item())\n",
    "                        data['std_thresholded_0'].append(torch.std(std_data[std_data > 0]).item())\n",
    "\n",
    "        for model_id, (model_name, model_dict) in enumerate(mean_dicts.items()):\n",
    "                for im_num in model_dict:\n",
    "                        mean_data = model_dict[im_num][0][0].flatten()\n",
    "                        data2['model_name'].append(model_name)\n",
    "                        data2['im_num'].append(im_num)\n",
    "                        data2['min'].append(torch.min(mean_data).item())\n",
    "                        data2['max'].append(torch.max(mean_data).item())\n",
    "                        data2['mean'].append(torch.mean(mean_data).item())\n",
    "                        data2['std'].append(torch.std(mean_data).item())\n",
    "                        data2['mean_thresholded_0.01'].append(torch.mean(mean_data[mean_data > 0.01]).item())\n",
    "                        data2['std_thresholded_0.01'].append(torch.std(mean_data[mean_data > 0.01]).item())\n",
    "                        data2['mean_thresholded_0.001'].append(torch.mean(mean_data[mean_data > 0.001]).item())\n",
    "                        data2['std_thresholded_0.001'].append(torch.std(mean_data[mean_data > 0.001]).item())\n",
    "                        data2['mean_thresholded_0'].append(torch.mean(mean_data[mean_data > 0]).item())\n",
    "                        data2['std_thresholded_0'].append(torch.std(mean_data[mean_data > 0]).item())\n",
    "        \n",
    "        return pd.DataFrame(data, columns = cols), pd.DataFrame(data2, columns = cols)"
   ]
  },
  {
   "cell_type": "code",
   "execution_count": 10,
   "metadata": {},
   "outputs": [],
   "source": [
    "def display_std_hist(std_dict, key = 'BM-1', im_num = 0, threshold = .01):\n",
    "    data = std_dict[key][im_num].flatten()\n",
    "    data = data[data > threshold]\n",
    "    print(\"Data size:\", len(data))\n",
    "    plt.hist(data)"
   ]
  },
  {
   "cell_type": "code",
   "execution_count": null,
   "metadata": {},
   "outputs": [],
   "source": []
  },
  {
   "cell_type": "code",
   "execution_count": null,
   "metadata": {},
   "outputs": [],
   "source": []
  },
  {
   "cell_type": "code",
   "execution_count": 11,
   "metadata": {},
   "outputs": [],
   "source": [
    "def add_data(path, name, df):\n",
    "    temp = pd.read_csv(path, index_col = 0)\n",
    "    temp['name'] = name\n",
    "    return pd.concat([df, temp])"
   ]
  },
  {
   "cell_type": "markdown",
   "metadata": {},
   "source": [
    "# Test 1 - equivalent data, rf trained with no knowledge of higher fidelity"
   ]
  },
  {
   "cell_type": "code",
   "execution_count": 12,
   "metadata": {},
   "outputs": [],
   "source": [
    "import pandas as pd"
   ]
  },
  {
   "cell_type": "markdown",
   "metadata": {},
   "source": []
  },
  {
   "cell_type": "code",
   "execution_count": 13,
   "metadata": {},
   "outputs": [],
   "source": [
    "all_data = pd.DataFrame()\n",
    "mean_db_tensors = {}\n",
    "std_db_tensors = {}\n",
    "mean_rot_tensors = {}\n",
    "std_rot_tensors = {}\n",
    "seg_tensors = {}\n"
   ]
  },
  {
   "cell_type": "code",
   "execution_count": 14,
   "metadata": {},
   "outputs": [],
   "source": [
    "models = 'BM-1 BM-2 BM-3 MF-1 MF-2 LF-1 LF-2 LF-3 LF-4 LF-5 LF-6'.split()"
   ]
  },
  {
   "cell_type": "code",
   "execution_count": 15,
   "metadata": {},
   "outputs": [],
   "source": [
    "drive_root = '../results/DRIVE/'\n",
    "#models\n",
    "for model_id in models:\n",
    "    path = join(drive_root, model_id)\n",
    "    # reg\n",
    "    all_data = add_data(join(path, 'statistics/val_images/metrics.csv'), name = model_id, df =  all_data)\n",
    "    # db\n",
    "    all_data = add_data(join(path, 'dropblock_uncertainty/statistics/val_images/metrics.csv'), name = f'{model_id}_DB', df = all_data)\n",
    "    seg_tensors[model_id] = extract_tensors(join(path, 'statistics/val_images/tensors'), 'segmentation.pt')\n",
    "    mean_db_tensors[model_id] = extract_tensors(join(path, 'dropblock_uncertainty/tensors'), 'mean.pt')\n",
    "    std_db_tensors[model_id] = extract_tensors(join(path, 'dropblock_uncertainty/tensors'), 'std.pt')\n",
    "    mean_rot_tensors[model_id] = extract_tensors(join(path, 'rotation_uncertainty'), 'mean.pt')\n",
    "    std_rot_tensors[model_id] = extract_tensors(join(path, 'rotation_uncertainty'), 'std.pt')"
   ]
  },
  {
   "cell_type": "code",
   "execution_count": 16,
   "metadata": {},
   "outputs": [
    {
     "data": {
      "text/html": [
       "<div>\n",
       "<style scoped>\n",
       "    .dataframe tbody tr th:only-of-type {\n",
       "        vertical-align: middle;\n",
       "    }\n",
       "\n",
       "    .dataframe tbody tr th {\n",
       "        vertical-align: top;\n",
       "    }\n",
       "\n",
       "    .dataframe thead th {\n",
       "        text-align: right;\n",
       "    }\n",
       "</style>\n",
       "<table border=\"1\" class=\"dataframe\">\n",
       "  <thead>\n",
       "    <tr style=\"text-align: right;\">\n",
       "      <th></th>\n",
       "      <th>F1_Vessel</th>\n",
       "      <th>AUROC_Vessel</th>\n",
       "      <th>Accuracy_Vessel</th>\n",
       "    </tr>\n",
       "    <tr>\n",
       "      <th>name</th>\n",
       "      <th></th>\n",
       "      <th></th>\n",
       "      <th></th>\n",
       "    </tr>\n",
       "  </thead>\n",
       "  <tbody>\n",
       "    <tr>\n",
       "      <th>BM-1</th>\n",
       "      <td>0.807570</td>\n",
       "      <td>0.978660</td>\n",
       "      <td>0.953941</td>\n",
       "    </tr>\n",
       "    <tr>\n",
       "      <th>BM-1_DB</th>\n",
       "      <td>0.807277</td>\n",
       "      <td>0.979707</td>\n",
       "      <td>0.954648</td>\n",
       "    </tr>\n",
       "    <tr>\n",
       "      <th>BM-2</th>\n",
       "      <td>0.795150</td>\n",
       "      <td>0.973515</td>\n",
       "      <td>0.950437</td>\n",
       "    </tr>\n",
       "    <tr>\n",
       "      <th>BM-2_DB</th>\n",
       "      <td>0.785267</td>\n",
       "      <td>0.974163</td>\n",
       "      <td>0.950885</td>\n",
       "    </tr>\n",
       "    <tr>\n",
       "      <th>BM-3</th>\n",
       "      <td>0.787621</td>\n",
       "      <td>0.971152</td>\n",
       "      <td>0.948709</td>\n",
       "    </tr>\n",
       "    <tr>\n",
       "      <th>BM-3_DB</th>\n",
       "      <td>0.773889</td>\n",
       "      <td>0.971521</td>\n",
       "      <td>0.948834</td>\n",
       "    </tr>\n",
       "    <tr>\n",
       "      <th>LF-1</th>\n",
       "      <td>0.696708</td>\n",
       "      <td>0.911112</td>\n",
       "      <td>0.930099</td>\n",
       "    </tr>\n",
       "    <tr>\n",
       "      <th>LF-1_DB</th>\n",
       "      <td>0.742927</td>\n",
       "      <td>0.983735</td>\n",
       "      <td>0.953387</td>\n",
       "    </tr>\n",
       "    <tr>\n",
       "      <th>LF-2</th>\n",
       "      <td>0.736349</td>\n",
       "      <td>0.986528</td>\n",
       "      <td>0.950883</td>\n",
       "    </tr>\n",
       "    <tr>\n",
       "      <th>LF-2_DB</th>\n",
       "      <td>0.689929</td>\n",
       "      <td>0.933876</td>\n",
       "      <td>0.935900</td>\n",
       "    </tr>\n",
       "    <tr>\n",
       "      <th>LF-3</th>\n",
       "      <td>0.550053</td>\n",
       "      <td>0.791753</td>\n",
       "      <td>0.897582</td>\n",
       "    </tr>\n",
       "    <tr>\n",
       "      <th>LF-3_DB</th>\n",
       "      <td>0.751770</td>\n",
       "      <td>0.979211</td>\n",
       "      <td>0.957416</td>\n",
       "    </tr>\n",
       "    <tr>\n",
       "      <th>LF-4</th>\n",
       "      <td>0.730128</td>\n",
       "      <td>0.981430</td>\n",
       "      <td>0.950592</td>\n",
       "    </tr>\n",
       "    <tr>\n",
       "      <th>LF-4_DB</th>\n",
       "      <td>0.510802</td>\n",
       "      <td>0.853082</td>\n",
       "      <td>0.909344</td>\n",
       "    </tr>\n",
       "    <tr>\n",
       "      <th>LF-5</th>\n",
       "      <td>0.581018</td>\n",
       "      <td>0.869053</td>\n",
       "      <td>0.883397</td>\n",
       "    </tr>\n",
       "    <tr>\n",
       "      <th>LF-5_DB</th>\n",
       "      <td>0.729350</td>\n",
       "      <td>0.979461</td>\n",
       "      <td>0.951076</td>\n",
       "    </tr>\n",
       "    <tr>\n",
       "      <th>LF-6</th>\n",
       "      <td>0.710978</td>\n",
       "      <td>0.982553</td>\n",
       "      <td>0.945112</td>\n",
       "    </tr>\n",
       "    <tr>\n",
       "      <th>LF-6_DB</th>\n",
       "      <td>0.613694</td>\n",
       "      <td>0.893421</td>\n",
       "      <td>0.916009</td>\n",
       "    </tr>\n",
       "    <tr>\n",
       "      <th>MF-1</th>\n",
       "      <td>0.784916</td>\n",
       "      <td>0.969980</td>\n",
       "      <td>0.949638</td>\n",
       "    </tr>\n",
       "    <tr>\n",
       "      <th>MF-1_DB</th>\n",
       "      <td>0.775873</td>\n",
       "      <td>0.969119</td>\n",
       "      <td>0.949235</td>\n",
       "    </tr>\n",
       "    <tr>\n",
       "      <th>MF-2</th>\n",
       "      <td>0.796948</td>\n",
       "      <td>0.972912</td>\n",
       "      <td>0.951792</td>\n",
       "    </tr>\n",
       "    <tr>\n",
       "      <th>MF-2_DB</th>\n",
       "      <td>0.788723</td>\n",
       "      <td>0.972825</td>\n",
       "      <td>0.951575</td>\n",
       "    </tr>\n",
       "  </tbody>\n",
       "</table>\n",
       "</div>"
      ],
      "text/plain": [
       "         F1_Vessel  AUROC_Vessel  Accuracy_Vessel\n",
       "name                                             \n",
       "BM-1      0.807570      0.978660         0.953941\n",
       "BM-1_DB   0.807277      0.979707         0.954648\n",
       "BM-2      0.795150      0.973515         0.950437\n",
       "BM-2_DB   0.785267      0.974163         0.950885\n",
       "BM-3      0.787621      0.971152         0.948709\n",
       "BM-3_DB   0.773889      0.971521         0.948834\n",
       "LF-1      0.696708      0.911112         0.930099\n",
       "LF-1_DB   0.742927      0.983735         0.953387\n",
       "LF-2      0.736349      0.986528         0.950883\n",
       "LF-2_DB   0.689929      0.933876         0.935900\n",
       "LF-3      0.550053      0.791753         0.897582\n",
       "LF-3_DB   0.751770      0.979211         0.957416\n",
       "LF-4      0.730128      0.981430         0.950592\n",
       "LF-4_DB   0.510802      0.853082         0.909344\n",
       "LF-5      0.581018      0.869053         0.883397\n",
       "LF-5_DB   0.729350      0.979461         0.951076\n",
       "LF-6      0.710978      0.982553         0.945112\n",
       "LF-6_DB   0.613694      0.893421         0.916009\n",
       "MF-1      0.784916      0.969980         0.949638\n",
       "MF-1_DB   0.775873      0.969119         0.949235\n",
       "MF-2      0.796948      0.972912         0.951792\n",
       "MF-2_DB   0.788723      0.972825         0.951575"
      ]
     },
     "execution_count": 16,
     "metadata": {},
     "output_type": "execute_result"
    }
   ],
   "source": [
    "all_data.groupby(['name']).mean()"
   ]
  },
  {
   "cell_type": "code",
   "execution_count": 32,
   "metadata": {},
   "outputs": [
    {
     "data": {
      "application/vnd.jupyter.widget-view+json": {
       "model_id": "a9ddf5d97ef44f6fbce1bdb25e804c89",
       "version_major": 2,
       "version_minor": 0
      },
      "text/plain": [
       "interactive(children=(IntSlider(value=0, description='im_num', max=10), FloatSlider(value=0.0, description='vm…"
      ]
     },
     "metadata": {},
     "output_type": "display_data"
    }
   ],
   "source": [
    "x = interact_manual(visualize_magnitudes,\n",
    "        tensor_dicts=fixed(mean_db_tensors),\n",
    "        im_dict = fixed(orig),\n",
    "        target_dict = fixed(targets),\n",
    "        im_num = (0,len(mean_db_tensors) - 1),\n",
    "        vmin = (0.0,1.0, .01 ),\n",
    "        vmax = (0.0, 1.0, .01), )"
   ]
  },
  {
   "cell_type": "code",
   "execution_count": 33,
   "metadata": {},
   "outputs": [
    {
     "data": {
      "application/vnd.jupyter.widget-view+json": {
       "model_id": "e4eaf87a4a3d4aacb52e1bd1872ad4c6",
       "version_major": 2,
       "version_minor": 0
      },
      "text/plain": [
       "interactive(children=(IntSlider(value=0, description='im_num', max=10), FloatSlider(value=0.0, description='vm…"
      ]
     },
     "metadata": {},
     "output_type": "display_data"
    }
   ],
   "source": [
    "x = interact_manual(visualize_magnitudes,\n",
    "        tensor_dicts=fixed(std_db_tensors),\n",
    "        im_dict = fixed(orig),\n",
    "        target_dict = fixed(targets),\n",
    "        im_num = (0,len(std_db_tensors) - 1),\n",
    "        vmin = (0.0,1.0, .01 ),\n",
    "        vmax = (0.0, 1.0, .01), )"
   ]
  },
  {
   "cell_type": "code",
   "execution_count": 34,
   "metadata": {},
   "outputs": [
    {
     "data": {
      "application/vnd.jupyter.widget-view+json": {
       "model_id": "15624fba4ba34295afc9f0eedb7031ea",
       "version_major": 2,
       "version_minor": 0
      },
      "text/plain": [
       "interactive(children=(IntSlider(value=0, description='im_num', max=10), FloatSlider(value=0.0, description='vm…"
      ]
     },
     "metadata": {},
     "output_type": "display_data"
    }
   ],
   "source": [
    "x = interact_manual(visualize_magnitudes,\n",
    "        tensor_dicts=fixed(mean_rot_tensors),\n",
    "        im_dict = fixed(orig),\n",
    "        target_dict = fixed(targets),\n",
    "        im_num = (0,len(mean_rot_tensors) - 1),\n",
    "        vmin = (0.0,1.0, .01 ),\n",
    "        vmax = (0.0, 1.0, .01), )"
   ]
  },
  {
   "cell_type": "code",
   "execution_count": 35,
   "metadata": {},
   "outputs": [
    {
     "data": {
      "application/vnd.jupyter.widget-view+json": {
       "model_id": "45beeff77d38415d99129b43801970ce",
       "version_major": 2,
       "version_minor": 0
      },
      "text/plain": [
       "interactive(children=(IntSlider(value=0, description='im_num', max=10), FloatSlider(value=0.0, description='vm…"
      ]
     },
     "metadata": {},
     "output_type": "display_data"
    }
   ],
   "source": [
    "x = interact_manual(visualize_magnitudes,\n",
    "        tensor_dicts=fixed(std_rot_tensors),\n",
    "        im_dict = fixed(orig),\n",
    "        target_dict = fixed(targets),\n",
    "        im_num = (0,len(std_rot_tensors) - 1),\n",
    "        vmin = (0.0,1.0, .01 ),\n",
    "        vmax = (0.0, 1.0, .01), )"
   ]
  },
  {
   "cell_type": "code",
   "execution_count": 36,
   "metadata": {},
   "outputs": [
    {
     "data": {
      "application/vnd.jupyter.widget-view+json": {
       "model_id": "ebc46fd4cfa84a0abcd503ea4951df86",
       "version_major": 2,
       "version_minor": 0
      },
      "text/plain": [
       "interactive(children=(Dropdown(description='key', options=('BM-1', 'BM-2', 'BM-3', 'MF-1', 'MF-2', 'LF-1', 'LF…"
      ]
     },
     "metadata": {},
     "output_type": "display_data"
    }
   ],
   "source": [
    "x = interact(display_std_hist, \n",
    "            std_dict = fixed(std_db_tensors),\n",
    "            key = list(std_db_tensors.keys()),\n",
    "            im_num = (0, len(std_db_tensors['BM-1']) - 1),\n",
    "            threshold = (0, 1, .001))\n"
   ]
  },
  {
   "cell_type": "markdown",
   "metadata": {},
   "source": [
    "# CV Histograms"
   ]
  },
  {
   "cell_type": "code",
   "execution_count": 57,
   "metadata": {},
   "outputs": [],
   "source": [
    "def display_agg_std_hist(std_dict, key = 'BM-1', threshold = .01):\n",
    "    data = torch.cat(list(std_dict[key].values())).flatten()\n",
    "    data = data[data > threshold]\n",
    "    print(\"Data size:\", len(data))\n",
    "    plt.hist(data, bins = 'auto')\n",
    "\n",
    "def display_agg_CV_hist(std_dict, mean_dict, masks_dict, key = 'BM-1', range=(0,5), threshold = .01, name = 'DB', save = False, save_folder = None):\n",
    "    \n",
    "    std_data = []\n",
    "    mean_data = []\n",
    "\n",
    "    # remove mask\n",
    "    for data, value in std_dict[key].items():\n",
    "        temp = np.ma.array(std_dict[key][data],mask = ~masks_dict[data])\n",
    "        temp2 = np.ma.array(mean_dict[key][data],mask = ~masks_dict[data])\n",
    "        std_data.append(temp[~temp.mask].data)\n",
    "        mean_data.append(temp2[~temp2.mask].data)\n",
    "    std_data = np.concatenate(std_data)\n",
    "    mean_data =  np.concatenate(mean_data)\n",
    "    cv_data = (std_data/mean_data)\n",
    "\n",
    "    cv_data = cv_data.flatten()\n",
    "    cv_data = cv_data[~np.isnan(cv_data)]\n",
    "\n",
    "    \n",
    "\n",
    "    #print(cv_data.max())\n",
    "    #cv_data = cv_data[cv_data > threshold]\n",
    "    #print(\"Data size:\", len(cv_data))\n",
    "    \n",
    "    fig, ax = plt.subplots(1,1)\n",
    "    \n",
    "    ax.hist(cv_data, bins = 'auto', range = range)\n",
    "    fig.suptitle(key + f' {name} CV')\n",
    "    if save:\n",
    "        fig.savefig(os.path.join(save_folder, f\"CV_Histogram_{key}.png\"))\n",
    "        plt.close(fig)\n",
    "    else:\n",
    "        fig.show()\n",
    "        \n",
    "    "
   ]
  },
  {
   "cell_type": "code",
   "execution_count": 58,
   "metadata": {},
   "outputs": [
    {
     "data": {
      "application/vnd.jupyter.widget-view+json": {
       "model_id": "066424e5d899463ab2a7bc10a7847750",
       "version_major": 2,
       "version_minor": 0
      },
      "text/plain": [
       "interactive(children=(Dropdown(description='key', options=('BM-1', 'BM-2', 'BM-3', 'MF-1', 'MF-2', 'LF-1', 'LF…"
      ]
     },
     "metadata": {},
     "output_type": "display_data"
    }
   ],
   "source": [
    "x = interact(display_agg_CV_hist, \n",
    "            std_dict = fixed(std_db_tensors),\n",
    "            mean_dict = fixed(mean_db_tensors),\n",
    "            masks_dict = fixed(masks),\n",
    "            key = list(std_db_tensors.keys()),\n",
    "            range = fixed((0, 5)),\n",
    "            threshold = (0, 1, .001),\n",
    "            name = fixed('DB'),\n",
    "            save = False,\n",
    "            save_folder = fixed(''))"
   ]
  },
  {
   "cell_type": "code",
   "execution_count": 59,
   "metadata": {},
   "outputs": [
    {
     "data": {
      "application/vnd.jupyter.widget-view+json": {
       "model_id": "61a90ff105604ac79a44afb2a08ae781",
       "version_major": 2,
       "version_minor": 0
      },
      "text/plain": [
       "interactive(children=(Dropdown(description='key', options=('BM-1', 'BM-2', 'BM-3', 'MF-1', 'MF-2', 'LF-1', 'LF…"
      ]
     },
     "metadata": {},
     "output_type": "display_data"
    }
   ],
   "source": [
    "x = interact(display_agg_std_hist, \n",
    "            std_dict = fixed(std_db_tensors),\n",
    "            key = list(std_db_tensors.keys()),\n",
    "            threshold = (0, 1, .001))"
   ]
  },
  {
   "cell_type": "code",
   "execution_count": 60,
   "metadata": {},
   "outputs": [],
   "source": [
    "db_std_mag, db_mean_mag = calculate_magnitudes(std_db_tensors, mean_db_tensors)\n",
    "rot_std_mag, rot_mean_mag = calculate_magnitudes(std_rot_tensors, mean_rot_tensors)"
   ]
  },
  {
   "cell_type": "code",
   "execution_count": 61,
   "metadata": {},
   "outputs": [],
   "source": [
    "all_models = list(set(all_data.name))"
   ]
  },
  {
   "cell_type": "code",
   "execution_count": 62,
   "metadata": {},
   "outputs": [
    {
     "data": {
      "text/plain": [
       "['BM-2',\n",
       " 'LF-6',\n",
       " 'BM-3_DB',\n",
       " 'LF-4',\n",
       " 'BM-2_DB',\n",
       " 'LF-3_DB',\n",
       " 'BM-1_DB',\n",
       " 'BM-3',\n",
       " 'LF-1',\n",
       " 'MF-1_DB',\n",
       " 'LF-4_DB',\n",
       " 'LF-2_DB',\n",
       " 'LF-5_DB',\n",
       " 'LF-2',\n",
       " 'LF-1_DB',\n",
       " 'MF-2_DB',\n",
       " 'BM-1',\n",
       " 'MF-1',\n",
       " 'MF-2',\n",
       " 'LF-6_DB',\n",
       " 'LF-5',\n",
       " 'LF-3']"
      ]
     },
     "execution_count": 62,
     "metadata": {},
     "output_type": "execute_result"
    }
   ],
   "source": [
    "all_models"
   ]
  },
  {
   "cell_type": "markdown",
   "metadata": {},
   "source": [
    "Save Histograms"
   ]
  },
  {
   "cell_type": "code",
   "execution_count": 63,
   "metadata": {},
   "outputs": [],
   "source": [
    "threshold = 0.01\n",
    "for model in models:\n",
    "    data = []\n",
    "    for i in range(6):\n",
    "        temp = np.ma.array(std_db_tensors[model][i],mask = ~masks[i])\n",
    "        data.append(temp[~temp.mask])\n",
    "    data = np.concatenate(data)\n",
    "    data = data[data > threshold]\n",
    "    fig, ax =  plt.subplots(1,1)\n",
    "    ax.hist(data, bins = 'auto', range = (0,.5))\n",
    "    fig.suptitle(model + ' DB STD')\n",
    "    fig.savefig(os.path.join('../results/Images/DB_std_histograms', f\"STD_Histogram_{model}.png\"))\n",
    "    plt.close(fig)\n"
   ]
  },
  {
   "cell_type": "code",
   "execution_count": 64,
   "metadata": {},
   "outputs": [],
   "source": [
    "threshold = 0.01\n",
    "for model in models:\n",
    "    data = []\n",
    "    for i in range(6):\n",
    "        temp = np.ma.array(std_rot_tensors[model][i],mask = ~masks[i])\n",
    "        data.append(temp[~temp.mask])\n",
    "    data = np.concatenate(data)\n",
    "    data = data[data > threshold]\n",
    "    fig, ax =  plt.subplots(1,1)\n",
    "    ax.hist(data, bins = 'auto')\n",
    "    fig.suptitle(model + ' ROT STD')\n",
    "    fig.savefig(os.path.join('../results/Images/ROT_std_histograms', f\"STD_Histogram_{model}.png\"))\n",
    "    plt.close(fig)\n"
   ]
  },
  {
   "cell_type": "markdown",
   "metadata": {},
   "source": [
    "CV Histograms"
   ]
  },
  {
   "cell_type": "code",
   "execution_count": 66,
   "metadata": {},
   "outputs": [],
   "source": [
    "for model in models:\n",
    "    display_agg_CV_hist(std_db_tensors, mean_db_tensors, masks, model, (0,5), 0, name = 'DB', save = True, save_folder = '../results/Images/DB_cv_histograms')\n",
    "    display_agg_CV_hist(std_rot_tensors, mean_rot_tensors, masks, model, (0, 2), 0, name = 'ROT', save = True, save_folder = '../results/Images/ROT_cv_histograms')"
   ]
  },
  {
   "cell_type": "markdown",
   "metadata": {},
   "source": [
    "Dilated Histograms - WRONG"
   ]
  },
  {
   "cell_type": "code",
   "execution_count": 156,
   "metadata": {},
   "outputs": [
    {
     "data": {
      "text/plain": [
       "<matplotlib.image.AxesImage at 0x7fb44847a550>"
      ]
     },
     "execution_count": 156,
     "metadata": {},
     "output_type": "execute_result"
    },
    {
     "data": {
      "image/png": "[encoded data removed]",
      "text/plain": [
       "<Figure size 432x288 with 1 Axes>"
      ]
     },
     "metadata": {
      "needs_background": "light"
     },
     "output_type": "display_data"
    }
   ],
   "source": [
    "i = 0\n",
    "model = 'BM-1'\n",
    "dilated = cv2.erode(~targets[i], np.ones((3,3),np.uint8))/255\n",
    "temp = np.ma.array(std_db_tensors[model][i],mask = dilated)\n",
    "plt.imshow(dilated, cmap = 'gray')"
   ]
  },
  {
   "cell_type": "markdown",
   "metadata": {},
   "source": [
    "Dilated region"
   ]
  },
  {
   "cell_type": "code",
   "execution_count": 217,
   "metadata": {},
   "outputs": [],
   "source": [
    "def dilated_agg_std_hist(data, targets, model, threshold, range, name, save, savefolder):\n",
    "    aggdata = []\n",
    "    for im_num, value in data[model].items():\n",
    "        dilated = cv2.erode(~targets[im_num], np.ones((3,3),np.uint8))/255\n",
    "        temp = np.ma.array(data[model][im_num],mask = dilated)\n",
    "        aggdata.append(temp[~temp.mask].data)\n",
    "    aggdata = np.concatenate(aggdata)\n",
    "    #data = data[data > threshold]\n",
    "    fig, ax =  plt.subplots(1,1)\n",
    "    ax.hist(aggdata, bins = 'auto', range = range)\n",
    "    fig.suptitle(name)\n",
    "    if save:\n",
    "        fig.savefig(os.path.join(savefolder, f'STD_Dilated_Histogram_{model}.png'))\n",
    "        plt.close(fig)\n",
    "    else:\n",
    "        fig.show()\n",
    "def dilated_agg_cv_hist(data,mean, targets, model, threshold, range, name, save, savefolder):\n",
    "    aggdata = []\n",
    "    aggdata2 = []\n",
    "    for im_num, value in data[model].items():\n",
    "        dilated = cv2.erode(~targets[im_num], np.ones((3,3),np.uint8))/255\n",
    "        temp = np.ma.array(data[model][im_num],mask = dilated)\n",
    "        temp2 = np.ma.array(mean[model][im_num], mask = dilated)\n",
    "        aggdata.append(temp[~temp.mask].data)\n",
    "        aggdata2.append(temp2[~temp2.mask].data)\n",
    "    aggdata = np.concatenate(aggdata)\n",
    "    aggdata2 = np.concatenate(aggdata2)\n",
    "    aggdata[aggdata2 == 0] = 1e-8\n",
    "    aggdata2[aggdata2 == 0] = 1e-8\n",
    "    \n",
    "    aggdata = aggdata/aggdata2\n",
    "    \n",
    "    #aggdata = aggdata[aggdata > threshold]\n",
    "    \n",
    "    fig, ax =  plt.subplots(1,1)\n",
    "    ax.hist(aggdata, bins = 'auto', range = range)\n",
    "    fig.suptitle(name)\n",
    "    if save:\n",
    "        fig.savefig(os.path.join(savefolder, f'CV_Dilated_Histogram_{model}.png'))\n",
    "        plt.close(fig)\n",
    "    else:\n",
    "        fig.show()"
   ]
  },
  {
   "cell_type": "code",
   "execution_count": 203,
   "metadata": {},
   "outputs": [
    {
     "data": {
      "application/vnd.jupyter.widget-view+json": {
       "model_id": "f4f9977d748040f58eb33bbaac589954",
       "version_major": 2,
       "version_minor": 0
      },
      "text/plain": [
       "interactive(children=(Dropdown(description='model', options=('BM-1', 'BM-2', 'BM-3', 'MF-1', 'MF-2', 'LF-1', '…"
      ]
     },
     "metadata": {},
     "output_type": "display_data"
    }
   ],
   "source": [
    "x = interact(dilated_agg_std_hist, data = fixed(std_db_tensors), targets = fixed(targets), model = list(std_db_tensors.keys()), threshold = (0, 1, .001), range = fixed((0, .5)), name = fixed('Vessel Dilated DB STD'), save = fixed(False), savefolder = fixed(''))"
   ]
  },
  {
   "cell_type": "code",
   "execution_count": 218,
   "metadata": {},
   "outputs": [
    {
     "data": {
      "application/vnd.jupyter.widget-view+json": {
       "model_id": "d18ff15485ea4bdda765f45f344d22ae",
       "version_major": 2,
       "version_minor": 0
      },
      "text/plain": [
       "interactive(children=(Dropdown(description='model', options=('BM-1', 'BM-2', 'BM-3', 'MF-1', 'MF-2', 'LF-1', '…"
      ]
     },
     "metadata": {},
     "output_type": "display_data"
    }
   ],
   "source": [
    "x = interact(dilated_agg_cv_hist, data = fixed(std_db_tensors), mean = fixed(mean_db_tensors), targets = fixed(targets), model = list(std_db_tensors.keys()), threshold = (0, 1, .001), range = fixed((0, 2)), name = fixed('Vessel Dilated DB CV'), save = fixed(False), savefolder = fixed(''))"
   ]
  },
  {
   "cell_type": "code",
   "execution_count": null,
   "metadata": {},
   "outputs": [],
   "source": [
    "# for CV, I set any mean = 0s to 1e-8"
   ]
  },
  {
   "cell_type": "code",
   "execution_count": 220,
   "metadata": {},
   "outputs": [
    {
     "name": "stdout",
     "output_type": "stream",
     "text": [
      "304127\n",
      "304127\n",
      "304127\n",
      "304127\n",
      "304127\n",
      "304127\n",
      "304127\n",
      "304127\n",
      "304127\n",
      "304127\n",
      "304127\n",
      "304127\n",
      "304127\n",
      "304127\n",
      "304127\n",
      "304127\n",
      "304127\n",
      "304127\n",
      "304127\n",
      "304127\n",
      "304127\n",
      "304127\n"
     ]
    }
   ],
   "source": [
    "for model in models:\n",
    "    dilated_agg_cv_hist(std_db_tensors, mean_db_tensors, targets, model, 0,(0,2), name = 'Vessel Dilated DB CV', save = True, savefolder = '../results/Images/DB_dilated_cv_histograms')\n",
    "    dilated_agg_cv_hist(std_rot_tensors, mean_rot_tensors, targets, model,0, (0, 1), name = 'Vessel Dilated ROT CV', save = True, savefolder = '../results/Images/ROT_dilated_cv_histograms')\n",
    "    dilated_agg_std_hist(std_db_tensors, targets, model, 0,(0,.3), name = 'Vessel Dilated DB STD', save = True, savefolder = '../results/Images/DB_dilated_std_histograms')\n",
    "    dilated_agg_std_hist(std_rot_tensors, targets, model,0, (0, .3), name = 'Vessel Dilated ROT STD', save = True, savefolder = '../results/Images/ROT_dilated_std_histograms')"
   ]
  },
  {
   "cell_type": "code",
   "execution_count": null,
   "metadata": {},
   "outputs": [],
   "source": []
  },
  {
   "cell_type": "markdown",
   "metadata": {},
   "source": [
    "Inverse Dilated"
   ]
  },
  {
   "cell_type": "code",
   "execution_count": 236,
   "metadata": {},
   "outputs": [
    {
     "data": {
      "text/plain": [
       "<matplotlib.image.AxesImage at 0x7fb440d3d3c8>"
      ]
     },
     "execution_count": 236,
     "metadata": {},
     "output_type": "execute_result"
    },
    {
     "data": {
      "image/png": "[encoded data removed]",
      "text/plain": [
       "<Figure size 432x288 with 1 Axes>"
      ]
     },
     "metadata": {
      "needs_background": "light"
     },
     "output_type": "display_data"
    }
   ],
   "source": [
    "i = 0\n",
    "model = 'BM-1'\n",
    "dilated = cv2.erode(~targets[i], np.ones((3,3),np.uint8))/255\n",
    "inv_dilated = 1 - (masks[i]/255 * dilated)\n",
    "temp = np.ma.array(std_db_tensors[model][i],mask = inv_dilated)\n",
    "plt.imshow(inv_dilated, cmap = 'gray')"
   ]
  },
  {
   "cell_type": "code",
   "execution_count": 254,
   "metadata": {},
   "outputs": [],
   "source": [
    "def inv_dilated_agg_std_hist(data, targets, masks, model, threshold, range, name, save, savefolder):\n",
    "    aggdata = []\n",
    "    for im_num, value in data[model].items():\n",
    "        dilated = cv2.erode(~targets[im_num], np.ones((3,3),np.uint8))/255\n",
    "        inv_dilated = 1 - (masks[im_num]/255 * dilated)\n",
    "        temp = np.ma.array(data[model][im_num],mask = inv_dilated)\n",
    "        aggdata.append(temp[~temp.mask].data)\n",
    "    aggdata = np.concatenate(aggdata)\n",
    "    #data = data[data > threshold]\n",
    "    fig, ax =  plt.subplots(1,1)\n",
    "    ax.hist(aggdata, bins = 'auto', range = range)\n",
    "    fig.suptitle(name)\n",
    "    if save:\n",
    "        fig.savefig(os.path.join(savefolder, f'STD_Dilated_Histogram_{model}.png'))\n",
    "        plt.close(fig)\n",
    "    else:\n",
    "        fig.show()\n",
    "def inv_dilated_agg_cv_hist(data,mean, targets,masks, model, threshold, range, name, save, savefolder):\n",
    "    aggdata = []\n",
    "    aggdata2 = []\n",
    "    for im_num, value in data[model].items():\n",
    "        dilated = cv2.erode(~targets[im_num], np.ones((3,3),np.uint8))/255\n",
    "        inv_dilated = 1 - (masks[im_num]/255 * dilated)\n",
    "        temp = np.ma.array(data[model][im_num],mask = inv_dilated)\n",
    "        temp2 = np.ma.array(mean[model][im_num], mask = inv_dilated)\n",
    "        aggdata.append(temp[~temp.mask].data)\n",
    "        aggdata2.append(temp2[~temp2.mask].data)\n",
    "    aggdata = np.concatenate(aggdata)\n",
    "    aggdata2 = np.concatenate(aggdata2)\n",
    "    aggdata[aggdata2 == 0] = 1e-8\n",
    "    aggdata2[aggdata2 == 0] = 1e-8\n",
    "    \n",
    "    aggdata = aggdata/aggdata2\n",
    "    \n",
    "    #aggdata = aggdata[aggdata > threshold]\n",
    "    \n",
    "    fig, ax =  plt.subplots(1,1)\n",
    "    ax.hist(aggdata, bins = 'auto', range = range)\n",
    "    fig.suptitle(name)\n",
    "    if save:\n",
    "        fig.savefig(os.path.join(savefolder, f'CV_Dilated_Histogram_{model}.png'))\n",
    "        plt.close(fig)\n",
    "    else:\n",
    "        fig.show()"
   ]
  },
  {
   "cell_type": "code",
   "execution_count": 263,
   "metadata": {},
   "outputs": [
    {
     "data": {
      "application/vnd.jupyter.widget-view+json": {
       "model_id": "6e4df8e7c5914dc29e5430380e45f906",
       "version_major": 2,
       "version_minor": 0
      },
      "text/plain": [
       "interactive(children=(Dropdown(description='model', options=('BM-1', 'BM-2', 'BM-3', 'MF-1', 'MF-2', 'LF-1', '…"
      ]
     },
     "metadata": {},
     "output_type": "display_data"
    }
   ],
   "source": [
    "x = interact(inv_dilated_agg_std_hist, data = fixed(std_db_tensors), targets = fixed(targets), masks = fixed(masks), model = list(std_db_tensors.keys()), threshold = (0, 1, .001), range = fixed((0, .2)), name = fixed('Inverse Dilated DB STD'), save = fixed(False), savefolder = fixed(''))"
   ]
  },
  {
   "cell_type": "code",
   "execution_count": 262,
   "metadata": {},
   "outputs": [
    {
     "data": {
      "application/vnd.jupyter.widget-view+json": {
       "model_id": "c782dd7f4b424f0eaf7f4e2b0115fb09",
       "version_major": 2,
       "version_minor": 0
      },
      "text/plain": [
       "interactive(children=(Dropdown(description='model', options=('BM-1', 'BM-2', 'BM-3', 'MF-1', 'MF-2', 'LF-1', '…"
      ]
     },
     "metadata": {},
     "output_type": "display_data"
    }
   ],
   "source": [
    "x = interact(inv_dilated_agg_cv_hist, data = fixed(std_db_tensors), mean = fixed(mean_db_tensors), targets = fixed(targets), masks = fixed(masks), model = list(std_db_tensors.keys()), threshold = (0, 1, .001), range = fixed((0, 2)), name = fixed('Vessel Dilated DB CV'), save = fixed(False), savefolder = fixed(''))"
   ]
  },
  {
   "cell_type": "code",
   "execution_count": 264,
   "metadata": {},
   "outputs": [],
   "source": [
    "for model in models:\n",
    "    inv_dilated_agg_cv_hist(std_db_tensors, mean_db_tensors, targets, masks, model, 0,(0,3), name = 'Vessel Inv Dilated DB CV', save = True, savefolder = '../results/Images/DB_inv_dilated_cv_histograms')\n",
    "    inv_dilated_agg_cv_hist(std_rot_tensors, mean_rot_tensors, targets, masks, model,0, (0, 2), name = 'Vessel Inv Dilated ROT CV', save = True, savefolder = '../results/Images/ROT_inv_dilated_cv_histograms')\n",
    "    inv_dilated_agg_std_hist(std_db_tensors, targets, masks, model, 0,(0,.3), name = 'Vessel Inv Dilated DB STD', save = True, savefolder = '../results/Images/DB_inv_dilated_std_histograms')\n",
    "    inv_dilated_agg_std_hist(std_rot_tensors, targets, masks, model,0, (0, .2), name = 'Vessel Inv Dilated ROT STD', save = True, savefolder = '../results/Images/ROT_inv_dilated_std_histograms')"
   ]
  },
  {
   "cell_type": "markdown",
   "metadata": {},
   "source": [
    "MSE over Base model "
   ]
  },
  {
   "cell_type": "code",
   "execution_count": 265,
   "metadata": {},
   "outputs": [],
   "source": [
    "import torchvision.transforms as transforms\n",
    "import torchvision.transforms.functional as TF"
   ]
  },
  {
   "cell_type": "code",
   "execution_count": 266,
   "metadata": {},
   "outputs": [
    {
     "name": "stdout",
     "output_type": "stream",
     "text": [
      "tensor(0.0295)\n",
      "tensor(0.0211)\n",
      "tensor(0.0263)\n",
      "tensor(0.0231)\n",
      "tensor(0.0196)\n",
      "tensor(0.0225)\n"
     ]
    }
   ],
   "source": [
    "# find image with highest mean squared error\n",
    "real_max = 0\n",
    "cur_i = 0\n",
    "for i in range(6):\n",
    "    cur_max = torch.nn.MSELoss()(seg_tensors['BM-1'][i], transforms.ToTensor()(targets[i]))\n",
    "    print(cur_max)\n",
    "    if cur_max > real_max:\n",
    "        cur_i = i\n",
    "        real_max = cur_max"
   ]
  },
  {
   "cell_type": "code",
   "execution_count": 267,
   "metadata": {},
   "outputs": [
    {
     "name": "stdout",
     "output_type": "stream",
     "text": [
      "0\n"
     ]
    }
   ],
   "source": [
    "print(cur_i)"
   ]
  },
  {
   "cell_type": "code",
   "execution_count": 268,
   "metadata": {},
   "outputs": [],
   "source": [
    "# save an image for each model\n",
    "for model in models:\n",
    "    \n",
    "    # one for DB\n",
    "    seg = mean_db_tensors[model][cur_i][0]\n",
    "    gt = TF.resize(transforms.ToTensor()(targets[cur_i]), (seg.shape[-2:]))\n",
    "    n = torch.nn.MSELoss(reduction = 'none')(seg, gt)\n",
    "    im = transforms.ToPILImage()(n)\n",
    "    im.save(os.path.join('../results/Images/MSE_plots', f\"MSE_Plot_{model + '_DB'}.png\"))\n",
    "\n",
    "    # one for Reg\n",
    "    seg = seg_tensors[model][cur_i]\n",
    "    gt = TF.resize(transforms.ToTensor()(targets[cur_i]), (seg.shape[-2:]))\n",
    "    n = torch.nn.MSELoss(reduction = 'none')(seg, gt)\n",
    "    im = transforms.ToPILImage()(n)\n",
    "    im.save(os.path.join('../results/Images/MSE_plots', f'MSE_Plot_{model}.png'))\n",
    "\n",
    "    # one for ROT\n",
    "    seg = mean_rot_tensors[model][cur_i][0]\n",
    "    gt = TF.resize(transforms.ToTensor()(targets[cur_i]), (seg.shape[-2:]))\n",
    "    n = torch.nn.MSELoss(reduction = 'none')(seg, gt)\n",
    "    im = transforms.ToPILImage()(n)\n",
    "    im.save(os.path.join('../results/Images/MSE_plots', f\"MSE_Plot_{model + '_ROT'}.png\"))"
   ]
  },
  {
   "cell_type": "markdown",
   "metadata": {},
   "source": [
    "std UQ"
   ]
  },
  {
   "cell_type": "code",
   "execution_count": 269,
   "metadata": {},
   "outputs": [
    {
     "name": "stdout",
     "output_type": "stream",
     "text": [
      "tensor(0.0117)\n",
      "tensor(0.0122)\n",
      "tensor(0.0147)\n",
      "tensor(0.0147)\n",
      "tensor(0.0135)\n",
      "tensor(0.0139)\n"
     ]
    }
   ],
   "source": [
    "# find image with highest stddev for DB\n",
    "real_max = 0\n",
    "cur_i = 0\n",
    "for i in range(6):\n",
    "    cur_max = (std_db_tensors['BM-1'][i][0][0]).mean()\n",
    "    print(cur_max)\n",
    "    if cur_max > real_max:\n",
    "        cur_i = i\n",
    "        real_max = cur_max"
   ]
  },
  {
   "cell_type": "code",
   "execution_count": 270,
   "metadata": {},
   "outputs": [
    {
     "name": "stdout",
     "output_type": "stream",
     "text": [
      "2\n"
     ]
    }
   ],
   "source": [
    "print(cur_i)"
   ]
  },
  {
   "cell_type": "code",
   "execution_count": 271,
   "metadata": {},
   "outputs": [],
   "source": [
    "# save an image for each model\n",
    "for model in models:\n",
    "    # ROT\n",
    "    seg = std_db_tensors[model][cur_i][0]\n",
    "    im = transforms.ToPILImage()(seg)\n",
    "    im.save(os.path.join('../results/Images/STD_plots', f\"STD_Plot_{model + '_ROT'}.png\"))\n",
    "    # DB\n",
    "    seg = std_db_tensors[model][cur_i][0]\n",
    "    im = transforms.ToPILImage()(seg)\n",
    "    im.save(os.path.join('../results/Images/STD_plots', f\"STD_Plot_{model + '_DB'}.png\"))"
   ]
  },
  {
   "cell_type": "code",
   "execution_count": 272,
   "metadata": {},
   "outputs": [],
   "source": [
    "# save a scaled image for each model\n",
    "for model in models:\n",
    "    # ROT\n",
    "    seg = std_db_tensors[model][cur_i][0] * 3\n",
    "    im = transforms.ToPILImage()(seg)\n",
    "    im.save(os.path.join('../results/Images/STD_plots_scaled', f\"STD_Plot_{model + '_ROT'}.png\"))\n",
    "    # DB\n",
    "    seg = std_db_tensors[model][cur_i][0] * 3\n",
    "    im = transforms.ToPILImage()(seg)\n",
    "    im.save(os.path.join('../results/Images/STD_plots_scaled', f\"STD_Plot_{model + '_DB'}.png\"))"
   ]
  },
  {
   "cell_type": "code",
   "execution_count": null,
   "metadata": {},
   "outputs": [],
   "source": []
  },
  {
   "cell_type": "code",
   "execution_count": null,
   "metadata": {},
   "outputs": [],
   "source": []
  }
 ],
 "metadata": {
  "interpreter": {
   "hash": "8cd0503a7256b6879885e7a0d555cf87c9094c8c446a8a7b20536b9bce8ed19f"
  },
  "kernelspec": {
   "display_name": "Python 3.7.3 64-bit",
   "language": "python",
   "name": "python3"
  },
  "language_info": {
   "codemirror_mode": {
    "name": "ipython",
    "version": 3
   },
   "file_extension": ".py",
   "mimetype": "text/x-python",
   "name": "python",
   "nbconvert_exporter": "python",
   "pygments_lexer": "ipython3",
   "version": "3.7.3"
  },
  "orig_nbformat": 4
 },
 "nbformat": 4,
 "nbformat_minor": 2
}
