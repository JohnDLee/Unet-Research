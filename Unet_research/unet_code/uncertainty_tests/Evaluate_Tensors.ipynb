{
 "cells": [
  {
   "cell_type": "code",
   "execution_count": 1,
   "metadata": {},
   "outputs": [],
   "source": [
    "import sys\n",
    "import os\n",
    "from os.path import join\n",
    "import torch\n",
    "import matplotlib.pyplot as plt\n",
    "import numpy as np\n",
    "from PIL import Image\n",
    "from ipywidgets import interact_manual,interact, fixed\n",
    "sys.path.append('..')"
   ]
  },
  {
   "cell_type": "markdown",
   "metadata": {},
   "source": [
    "Functions"
   ]
  },
  {
   "cell_type": "code",
   "execution_count": 2,
   "metadata": {},
   "outputs": [],
   "source": [
    "def extract_tensors(path, tensor_name):\n",
    "    '''extracts tensors from path (as created when any uncertainty test is ran'''\n",
    "    # get only the correct folders\n",
    "    folders = []\n",
    "    for sub_path in os.listdir(path):\n",
    "        if sub_path.startswith('image'):\n",
    "            folders.append( sub_path)\n",
    "    \n",
    "    # extract tensors\n",
    "    all_images = {}\n",
    "    for im_folder in folders:\n",
    "        im_path = join(path, im_folder)\n",
    "        # save the tensors in their own dict according to name before\n",
    "        for tensor in os.listdir(im_path):\n",
    "            if tensor == tensor_name:\n",
    "                tensor_path = join(im_path, tensor)\n",
    "                all_images[int(im_folder.split('_')[-1])] = torch.load(tensor_path, map_location = 'cpu')\n",
    "    return all_images\n"
   ]
  },
  {
   "cell_type": "code",
   "execution_count": 3,
   "metadata": {},
   "outputs": [],
   "source": [
    "def display_tensor(tensor_dict:dict, im_dict:dict, target_dict:dict, im_num: int = 0 , vmin:float = 0, vmax: float = 1):\n",
    "    fig, ax = plt.subplots(1,3, figsize = (18, 12))\n",
    "    im1 = ax[0].imshow(im_dict[im_num], cmap = 'gray',)\n",
    "    im2 = ax[1].imshow(tensor_dict[im_num][0][0].numpy(), cmap = 'gray', vmin = vmin, vmax = vmax)\n",
    "    im3 = ax[2].imshow(target_dict[im_num], cmap = 'gray', )\n",
    "    ax[0].set_title('Orig')\n",
    "    ax[1].set_title('Expected')\n",
    "    ax[2].set_title('GT')\n",
    "    fig.show()\n",
    "    print('Min: ' ,torch.min(tensor_dict[im_num][0][0]).item())\n",
    "    print('Max: ' ,torch.max(tensor_dict[im_num][0][0]).item())"
   ]
  },
  {
   "cell_type": "code",
   "execution_count": 4,
   "metadata": {},
   "outputs": [],
   "source": [
    "def compare_tensor(tensor_dict1:dict, tensor_dict2:dict, im_dict:dict, target_dict:dict, im_num: int = 0 , vmin:float = 0, vmax: float = 1):\n",
    "    fig, ax = plt.subplots(1,4, figsize = (30, 28))\n",
    "    im1 = ax[0].imshow(im_dict[im_num], cmap = 'gray',)\n",
    "    im2 = ax[1].imshow(tensor_dict1[im_num][0][0].numpy(), cmap = 'gray', vmin = vmin, vmax = vmax)\n",
    "    im3 = ax[2].imshow(tensor_dict2[im_num][0][0].numpy(), cmap = 'gray', vmin = vmin, vmax = vmax)\n",
    "    im4 = ax[3].imshow(target_dict[im_num], cmap = 'gray', )\n",
    "    ax[0].set_title('Orig')\n",
    "    ax[1].set_title('Independent')\n",
    "    ax[2].set_title('Dependent')\n",
    "    ax[3].set_title('GT')\n",
    "    fig.show()\n",
    "    print(f'Min: I:{torch.min(tensor_dict1[im_num][0][0]).item():7.5f} D: {torch.min(tensor_dict2[im_num][0][0]).item():7.5f}', )\n",
    "    print(f'Min: I:{torch.max(tensor_dict1[im_num][0][0]).item():7.5f} D: {torch.max(tensor_dict2[im_num][0][0]).item():7.5f}', )"
   ]
  },
  {
   "cell_type": "code",
   "execution_count": 5,
   "metadata": {},
   "outputs": [],
   "source": [
    "def pseudo_anim(tensor_dict: dict, val_num: int = 0 , im_num: int = 0 ):\n",
    "    ''' creates an animated gif using images\n",
    "    \n",
    "    output:\n",
    "    creates a gif'''\n",
    "\n",
    "    fig, ax = plt.subplots(1,1, figsize = (8, 8))\n",
    "    ax.imshow(tensor_dict[val_num][im_num][0][0].numpy(), cmap = 'gray', vmin = 0, vmax = 1)\n",
    "    fig.show()\n",
    "    "
   ]
  },
  {
   "cell_type": "markdown",
   "metadata": {},
   "source": [
    "Root Directory - change if different (make sure corresponding internal files are also changed)"
   ]
  },
  {
   "cell_type": "code",
   "execution_count": 6,
   "metadata": {},
   "outputs": [
    {
     "name": "stdout",
     "output_type": "stream",
     "text": [
      "['model_info', 'lightning_logs', 'test_statistics', 'dropblock_uncertainty_i', 'rotational_uncertainty', 'test_statistics_32_32', 'test_statistics_128_128', 'test_statistics_64_64', 'test_statistics_256_256', 'dropblock_uncertainty_d']\n"
     ]
    }
   ],
   "source": [
    "root = '../../results/base_model'\n",
    "\n",
    "print(os.listdir(root))"
   ]
  },
  {
   "cell_type": "markdown",
   "metadata": {},
   "source": [
    "Validation Images"
   ]
  },
  {
   "cell_type": "code",
   "execution_count": 7,
   "metadata": {},
   "outputs": [],
   "source": [
    "val_root_images = '../../augmented_data/val/images'\n",
    "orig = {}\n",
    "# retrieves validation images as grayscale\n",
    "for im in os.listdir(val_root_images):\n",
    "    orig[int(im.split('_')[0])] = np.array(Image.open(join(val_root_images, im)).convert('L'))\n",
    "\n",
    "val_root_targets = '../../augmented_data/val/targets'\n",
    "targets = {}\n",
    "for im in os.listdir(val_root_targets):\n",
    "    targets[int(im.split('_')[0])] = np.array(Image.open(join(val_root_targets, im)).convert('L'))\n"
   ]
  },
  {
   "cell_type": "markdown",
   "metadata": {},
   "source": [
    "# Monte Carlo Dropblock - Dependent Channels"
   ]
  },
  {
   "cell_type": "code",
   "execution_count": 12,
   "metadata": {},
   "outputs": [],
   "source": [
    "DB_d_path = join(root, 'dropblock_uncertainty_d/tensors')\n",
    "\n",
    "DB_d_mean_tensors = extract_tensors(DB_d_path, 'mean.pt')\n",
    "DB_d_std_tensors = extract_tensors(DB_d_path, 'std.pt')\n",
    "DB_d_extra_tensors = extract_tensors(DB_d_path, 'tensors.pt')"
   ]
  },
  {
   "cell_type": "markdown",
   "metadata": {},
   "source": [
    "Means"
   ]
  },
  {
   "cell_type": "code",
   "execution_count": 13,
   "metadata": {},
   "outputs": [
    {
     "data": {
      "application/vnd.jupyter.widget-view+json": {
       "model_id": "262fafc7de5e4f0eb3da1b8567fb38f1",
       "version_major": 2,
       "version_minor": 0
      },
      "text/plain": [
       "interactive(children=(IntSlider(value=0, description='im_num', max=5), FloatSlider(value=0.0, description='vmi…"
      ]
     },
     "metadata": {},
     "output_type": "display_data"
    }
   ],
   "source": [
    "x = interact(display_tensor,\n",
    "        tensor_dict=fixed(DB_d_mean_tensors),\n",
    "        im_dict = fixed(orig),\n",
    "        target_dict = fixed(targets),\n",
    "        im_num = (0,len(DB_d_mean_tensors) -1),\n",
    "        vmin = (0.0,1.0, .01 ),\n",
    "        vmax = (0.0, 1.0, .01))"
   ]
  },
  {
   "cell_type": "markdown",
   "metadata": {},
   "source": [
    "STD"
   ]
  },
  {
   "cell_type": "code",
   "execution_count": 14,
   "metadata": {},
   "outputs": [
    {
     "data": {
      "application/vnd.jupyter.widget-view+json": {
       "model_id": "b59679592a3e44e88fd9c9ac25a0b18d",
       "version_major": 2,
       "version_minor": 0
      },
      "text/plain": [
       "interactive(children=(IntSlider(value=0, description='im_num', max=5), FloatSlider(value=0.0, description='vmi…"
      ]
     },
     "metadata": {},
     "output_type": "display_data"
    }
   ],
   "source": [
    "x = interact(display_tensor,\n",
    "        tensor_dict=fixed(DB_d_std_tensors),\n",
    "        im_dict = fixed(orig),\n",
    "        target_dict = fixed(targets),\n",
    "        im_num = (0,len(DB_d_std_tensors) -1),\n",
    "        vmin = (0.0,1.0, .01 ),\n",
    "        vmax = (0.0, 1.0, .01), )"
   ]
  },
  {
   "cell_type": "markdown",
   "metadata": {},
   "source": [
    "View 25 Examples"
   ]
  },
  {
   "cell_type": "code",
   "execution_count": null,
   "metadata": {},
   "outputs": [],
   "source": [
    "x = interact(pseudo_anim, \n",
    "                tensor_dict = fixed(DB_d_extra_tensors),\n",
    "                val_num =  (0,len(DB_d_extra_tensors) -1),\n",
    "                im_num = (0, len(DB_d_extra_tensors[0]) -1))"
   ]
  },
  {
   "cell_type": "markdown",
   "metadata": {},
   "source": [
    "# Monte Carlo Dropblock = Independent"
   ]
  },
  {
   "cell_type": "code",
   "execution_count": 18,
   "metadata": {},
   "outputs": [],
   "source": [
    "DB_i_path = join(root, 'dropblock_uncertainty_i/tensors')\n",
    "\n",
    "DB_i_mean_tensors = extract_tensors(DB_i_path, 'mean.pt')\n",
    "DB_i_std_tensors = extract_tensors(DB_i_path, 'std.pt')\n",
    "DB_i_extra_tensors = extract_tensors(DB_i_path, 'tensors.pt')"
   ]
  },
  {
   "cell_type": "markdown",
   "metadata": {},
   "source": [
    "Mean"
   ]
  },
  {
   "cell_type": "code",
   "execution_count": 19,
   "metadata": {},
   "outputs": [
    {
     "data": {
      "application/vnd.jupyter.widget-view+json": {
       "model_id": "858667c958144fc2990d9f954550a69e",
       "version_major": 2,
       "version_minor": 0
      },
      "text/plain": [
       "interactive(children=(IntSlider(value=0, description='im_num', max=5), FloatSlider(value=0.0, description='vmi…"
      ]
     },
     "metadata": {},
     "output_type": "display_data"
    }
   ],
   "source": [
    "x = interact(display_tensor,\n",
    "        tensor_dict=fixed(DB_i_mean_tensors),\n",
    "        im_dict = fixed(orig),\n",
    "        target_dict = fixed(targets),\n",
    "        im_num = (0,len(DB_i_mean_tensors) -1),\n",
    "        vmin = (0.0,1.0, .01 ),\n",
    "        vmax = (0.0, 1.0, .01), )"
   ]
  },
  {
   "cell_type": "markdown",
   "metadata": {},
   "source": [
    "STD"
   ]
  },
  {
   "cell_type": "code",
   "execution_count": 20,
   "metadata": {},
   "outputs": [
    {
     "data": {
      "application/vnd.jupyter.widget-view+json": {
       "model_id": "d2655d8dbdd741129bc8e491f921ee4f",
       "version_major": 2,
       "version_minor": 0
      },
      "text/plain": [
       "interactive(children=(IntSlider(value=0, description='im_num', max=5), FloatSlider(value=0.0, description='vmi…"
      ]
     },
     "metadata": {},
     "output_type": "display_data"
    }
   ],
   "source": [
    "x = interact(display_tensor,\n",
    "        tensor_dict=fixed(DB_i_std_tensors),\n",
    "        im_dict = fixed(orig),\n",
    "        target_dict = fixed(targets),\n",
    "        im_num = (0,len(DB_i_std_tensors) -1),\n",
    "        vmin = (0.0,1.0, .01 ),\n",
    "        vmax = (0.0, 1.0, .01), )"
   ]
  },
  {
   "cell_type": "markdown",
   "metadata": {},
   "source": [
    "View 25 Tensors"
   ]
  },
  {
   "cell_type": "code",
   "execution_count": 21,
   "metadata": {},
   "outputs": [
    {
     "data": {
      "application/vnd.jupyter.widget-view+json": {
       "model_id": "5acb54fdda5f45539892d657e6bba1d1",
       "version_major": 2,
       "version_minor": 0
      },
      "text/plain": [
       "interactive(children=(IntSlider(value=0, description='val_num', max=5), IntSlider(value=0, description='im_num…"
      ]
     },
     "metadata": {},
     "output_type": "display_data"
    },
    {
     "data": {
      "text/plain": [
       "<function __main__.pseudo_anim(tensor_dict: dict, val_num: int = 0, im_num: int = 0)>"
      ]
     },
     "execution_count": 21,
     "metadata": {},
     "output_type": "execute_result"
    }
   ],
   "source": [
    "interact(pseudo_anim, \n",
    "                tensor_dict = fixed(DB_i_extra_tensors),\n",
    "                val_num =  (0,len(DB_i_extra_tensors) -1),\n",
    "                im_num = (0, len(DB_i_extra_tensors[0]) -1))"
   ]
  },
  {
   "cell_type": "markdown",
   "metadata": {},
   "source": [
    "# Independent vs Dependent"
   ]
  },
  {
   "cell_type": "markdown",
   "metadata": {},
   "source": [
    "Mean"
   ]
  },
  {
   "cell_type": "code",
   "execution_count": 22,
   "metadata": {},
   "outputs": [
    {
     "data": {
      "application/vnd.jupyter.widget-view+json": {
       "model_id": "61ecff8138904caab4d964ded53a4694",
       "version_major": 2,
       "version_minor": 0
      },
      "text/plain": [
       "interactive(children=(IntSlider(value=0, description='im_num', max=5), FloatSlider(value=0.0, description='vmi…"
      ]
     },
     "metadata": {},
     "output_type": "display_data"
    }
   ],
   "source": [
    "x = interact(compare_tensor,\n",
    "        tensor_dict1=fixed(DB_i_mean_tensors),\n",
    "        tensor_dict2=fixed(DB_d_mean_tensors),\n",
    "        im_dict = fixed(orig),\n",
    "        target_dict = fixed(targets),\n",
    "        im_num = (0,len(DB_i_mean_tensors) -1),\n",
    "        vmin = (0.0,1.0, .01 ),\n",
    "        vmax = (0.0, 1.0, .01), )"
   ]
  },
  {
   "cell_type": "markdown",
   "metadata": {},
   "source": [
    "STD"
   ]
  },
  {
   "cell_type": "code",
   "execution_count": 23,
   "metadata": {},
   "outputs": [
    {
     "data": {
      "application/vnd.jupyter.widget-view+json": {
       "model_id": "9aa6b94efe5740f8bfcae236f0179318",
       "version_major": 2,
       "version_minor": 0
      },
      "text/plain": [
       "interactive(children=(IntSlider(value=0, description='im_num', max=5), FloatSlider(value=0.0, description='vmi…"
      ]
     },
     "metadata": {},
     "output_type": "display_data"
    }
   ],
   "source": [
    "x = interact(compare_tensor,\n",
    "        tensor_dict1=fixed(DB_i_std_tensors),\n",
    "        tensor_dict2=fixed(DB_d_std_tensors),\n",
    "        im_dict = fixed(orig),\n",
    "        target_dict = fixed(targets),\n",
    "        im_num = (0,len(DB_i_std_tensors) -1),\n",
    "        vmin = (0.0,1.0, .01 ),\n",
    "        vmax = (0.0, 1.0, .01), )"
   ]
  },
  {
   "cell_type": "markdown",
   "metadata": {},
   "source": [
    "# Rotational Uncertainty"
   ]
  },
  {
   "cell_type": "code",
   "execution_count": 24,
   "metadata": {},
   "outputs": [],
   "source": [
    "rotation_path = join(root, 'rotational_uncertainty')\n",
    "\n",
    "rotation_mean_tensors = extract_tensors(rotation_path, 'mean.pt')\n",
    "rotation_std_tensors = extract_tensors(rotation_path, 'std.pt')\n",
    "rotation_extra_tensors = extract_tensors(rotation_path, 'tensors.pt')"
   ]
  },
  {
   "cell_type": "code",
   "execution_count": 25,
   "metadata": {},
   "outputs": [
    {
     "data": {
      "text/plain": [
       "torch.Size([1, 1, 584, 565])"
      ]
     },
     "execution_count": 25,
     "metadata": {},
     "output_type": "execute_result"
    }
   ],
   "source": [
    "rotation_mean_tensors[0].shape"
   ]
  },
  {
   "cell_type": "markdown",
   "metadata": {},
   "source": [
    "Mean"
   ]
  },
  {
   "cell_type": "code",
   "execution_count": 26,
   "metadata": {},
   "outputs": [
    {
     "data": {
      "application/vnd.jupyter.widget-view+json": {
       "model_id": "b245ff18664f4704b82167fb1f4a694e",
       "version_major": 2,
       "version_minor": 0
      },
      "text/plain": [
       "interactive(children=(IntSlider(value=0, description='im_num', max=5), FloatSlider(value=0.0, description='vmi…"
      ]
     },
     "metadata": {},
     "output_type": "display_data"
    }
   ],
   "source": [
    "x = interact(display_tensor,\n",
    "        tensor_dict=fixed(rotation_mean_tensors),\n",
    "        im_dict = fixed(orig),\n",
    "        target_dict = fixed(targets),\n",
    "        im_num = (0,len(rotation_mean_tensors) -1),\n",
    "        vmin = (0.0,1.0, .01 ),\n",
    "        vmax = (0.0, 1.0, .01), )"
   ]
  },
  {
   "cell_type": "markdown",
   "metadata": {},
   "source": [
    "STD"
   ]
  },
  {
   "cell_type": "code",
   "execution_count": 27,
   "metadata": {},
   "outputs": [
    {
     "data": {
      "application/vnd.jupyter.widget-view+json": {
       "model_id": "700dfc95e8dc4f6d9f34ad6f6f6e01fe",
       "version_major": 2,
       "version_minor": 0
      },
      "text/plain": [
       "interactive(children=(IntSlider(value=0, description='im_num', max=5), FloatSlider(value=0.0, description='vmi…"
      ]
     },
     "metadata": {},
     "output_type": "display_data"
    }
   ],
   "source": [
    "x = interact(display_tensor,\n",
    "        tensor_dict=fixed(rotation_std_tensors),\n",
    "        im_dict = fixed(orig),\n",
    "        target_dict = fixed(targets),\n",
    "        im_num = (0,len(rotation_std_tensors) -1),\n",
    "        vmin = (0.0,1.0, .01 ),\n",
    "        vmax = (0.0, 1.0, .01), )"
   ]
  },
  {
   "cell_type": "markdown",
   "metadata": {},
   "source": [
    "View 25 Images"
   ]
  },
  {
   "cell_type": "code",
   "execution_count": 28,
   "metadata": {},
   "outputs": [
    {
     "data": {
      "application/vnd.jupyter.widget-view+json": {
       "model_id": "4d12cef52cf84be39cd00f357bf04dbe",
       "version_major": 2,
       "version_minor": 0
      },
      "text/plain": [
       "interactive(children=(IntSlider(value=0, description='val_num', max=5), IntSlider(value=0, description='im_num…"
      ]
     },
     "metadata": {},
     "output_type": "display_data"
    }
   ],
   "source": [
    "x = interact(pseudo_anim, \n",
    "                tensor_dict = fixed(rotation_extra_tensors),\n",
    "                val_num =  (0,len(rotation_extra_tensors) -1),\n",
    "                im_num = (0, len(rotation_extra_tensors[0]) -1))"
   ]
  },
  {
   "cell_type": "code",
   "execution_count": null,
   "metadata": {},
   "outputs": [],
   "source": []
  }
 ],
 "metadata": {
  "interpreter": {
   "hash": "8cd0503a7256b6879885e7a0d555cf87c9094c8c446a8a7b20536b9bce8ed19f"
  },
  "kernelspec": {
   "display_name": "Python 3.7.3 64-bit",
   "language": "python",
   "name": "python3"
  },
  "language_info": {
   "codemirror_mode": {
    "name": "ipython",
    "version": 3
   },
   "file_extension": ".py",
   "mimetype": "text/x-python",
   "name": "python",
   "nbconvert_exporter": "python",
   "pygments_lexer": "ipython3",
   "version": "3.7.3"
  },
  "orig_nbformat": 4
 },
 "nbformat": 4,
 "nbformat_minor": 2
}
